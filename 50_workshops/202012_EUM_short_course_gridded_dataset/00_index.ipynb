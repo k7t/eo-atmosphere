{
 "cells": [
  {
   "cell_type": "markdown",
   "metadata": {
    "Collapsed": "false"
   },
   "source": [
    "<img src='./img/short_course_logo.png' alt='Logo EU Copernicus EUMETSAT' align='centre' width='90%'></img>"
   ]
  },
  {
   "cell_type": "markdown",
   "metadata": {},
   "source": [
    "<br>"
   ]
  },
  {
   "cell_type": "markdown",
   "metadata": {
    "Collapsed": "false"
   },
   "source": [
    "<br>"
   ]
  },
  {
   "cell_type": "markdown",
   "metadata": {
    "Collapsed": "false"
   },
   "source": [
    "### EUMETSAT Online Short Course #8"
   ]
  },
  {
   "cell_type": "markdown",
   "metadata": {},
   "source": [
    "# What is a gridded dataset and how to create it? \n",
    "## A case study on pollutants before and after COVID-19 lockdown with the GOME-2 instrument"
   ]
  },
  {
   "cell_type": "markdown",
   "metadata": {
    "Collapsed": "false"
   },
   "source": [
    "Download, plot and explore GOME-2 Level 2 data, build a gridded (Level-3) dataset of Europe and run basic statistics using Jupyter Notebooks. The activity consists of a live webinar, a self-paced learning period and a live feedback session. \n",
    "\n",
    "The short course consists of two parts:\n",
    "\n",
    "* **Short course | 9 Dec 2020, 12:00 UTC**\n",
    "* **Short course feedback session | 14 Dec 2020, 12:00 UTC**\n",
    "\n",
    "The short course on 9 December gives you an introduction to the topic and the practical training material. Between the short course and the feedback session, you can work with the data in a self-paced manner. During the feedback session, we will discuss open questions and feedback.\n",
    "\n",
    "You can engage and ask questions via [Slido](https://slido.com): `#EUMSC8`\n",
    "\n"
   ]
  },
  {
   "cell_type": "markdown",
   "metadata": {},
   "source": [
    "<br>"
   ]
  },
  {
   "cell_type": "markdown",
   "metadata": {
    "Collapsed": "false"
   },
   "source": [
    "## Course outline"
   ]
  },
  {
   "cell_type": "markdown",
   "metadata": {
    "Collapsed": "false"
   },
   "source": [
    "The course offers the following notebooks:\n",
    "\n",
    "* **Methodology**\n",
    " * [2) AC SAF GOME-2 - Produce a gridded dataset (L3)](./02_AC_SAF_GOME-2_L2_produce_gridded_dataset_L3.ipynb)\n",
    "\n",
    "\n",
    "* **Covid-19 case study**\n",
    " * [3) Covid-19 case study - GOME-2 Anomaly map](./03_case_study_covid-19_GOME2_anomaly_map.ipynb)\n",
    "\n",
    "\n",
    "<br>\n",
    "\n",
    "\n",
    "**NOTE:** Throughout the course, general functions to `load`, `re-shape`, `process` and `visualize` the datasets are defined. These functions are re-used when applicable. The [functions notebook](./functions.ipynb) gives you an overview of all the functions defined and used for the course.\n"
   ]
  },
  {
   "cell_type": "markdown",
   "metadata": {
    "Collapsed": "false"
   },
   "source": [
    "## Learning outcomes"
   ]
  },
  {
   "cell_type": "markdown",
   "metadata": {
    "Collapsed": "false"
   },
   "source": [
    "The course is designed for `beginners and medium-level users`, who have basic Python knowledge.\n",
    "\n",
    "After the course, you should have:\n",
    "* an idea about the **Metop-A/B GOME-2 Level 2 and Level 3 data products**,\n",
    "* knowledge about the most useful **Python packages** to handle, process and visualise GOME-2 data\n",
    "* an idea about how to **create a gridded dataset (L3) out of GOME-2 Level 2 data**"
   ]
  },
  {
   "cell_type": "markdown",
   "metadata": {
    "Collapsed": "false"
   },
   "source": [
    "<hr>"
   ]
  },
  {
   "cell_type": "markdown",
   "metadata": {
    "Collapsed": "false"
   },
   "source": [
    "## Access to the `JupyterHub` "
   ]
  },
  {
   "cell_type": "markdown",
   "metadata": {
    "Collapsed": "false"
   },
   "source": [
    "The course material is made available on a JupyterHub instance, a pre-defined environment that gives learners direct access to the data and Python packages required for following the course.\n",
    "\n",
    "The `JupyterHub` can be accessed as follows:"
   ]
  },
  {
   "cell_type": "markdown",
   "metadata": {
    "Collapsed": "false"
   },
   "source": [
    "* Web address: [https://training.ltpy.adamplatform.eu](https://training.ltpy.adamplatform.eu)\n",
    "* Create an account: [https://login.ltpy.adamplatform.eu/](https://login.ltpy.adamplatform.eu/)\n",
    "* Log into the `JupyterHub` with your account created."
   ]
  },
  {
   "cell_type": "markdown",
   "metadata": {},
   "source": [
    "There are 100 spaces available which will be given on a first come first served basis."
   ]
  },
  {
   "cell_type": "markdown",
   "metadata": {
    "Collapsed": "false"
   },
   "source": [
    "<hr>"
   ]
  },
  {
   "cell_type": "markdown",
   "metadata": {
    "Collapsed": "false"
   },
   "source": [
    "<img src='./img/copernicus_logo.png' alt='Logo EU Copernicus' align='right' width='20%'><br><br><br>\n",
    "<br>\n",
    "<p style=\"text-align:right;\">This project is licensed under the <a href=\"./LICENSE\">MIT License</a> and is developed under a Copernicus contract."
   ]
  }
 ],
 "metadata": {
  "kernelspec": {
   "display_name": "Python 3",
   "language": "python",
   "name": "python3"
  },
  "language_info": {
   "codemirror_mode": {
    "name": "ipython",
    "version": 3
   },
   "file_extension": ".py",
   "mimetype": "text/x-python",
   "name": "python",
   "nbconvert_exporter": "python",
   "pygments_lexer": "ipython3",
   "version": "3.8.6"
  }
 },
 "nbformat": 4,
 "nbformat_minor": 4
}
