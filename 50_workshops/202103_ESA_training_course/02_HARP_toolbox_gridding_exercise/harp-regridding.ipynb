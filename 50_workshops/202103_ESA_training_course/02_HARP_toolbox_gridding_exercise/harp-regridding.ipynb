{
 "cells": [
  {
   "cell_type": "markdown",
   "metadata": {},
   "source": [
    "![Atmospheric Toolbox](https://atmospherictoolbox.org/media/filer_public_thumbnails/filer_public/6d/35/6d35dffd-43f1-43ec-bff6-5aa066c8aabc/toolbox-header.jpg__1080x416_q85_subsampling-2.jpg)\n",
    "\n",
    "# Atmospheric Toolbox - HARP regridding\n",
    "\n",
    "This practical will show you how to read and visualize data from Earth Observation data products by making use of the [ESA Atmospheric Toolbox](https://atmospherictoolbox.org/).\n",
    "The toolbox consists of four components which are CODA, HARP, VISAN, and QDOAS. In this exercise we will be focusing primarily on HARP.\n",
    "\n",
    "A common way to demonstrate the HARP functionality is with the VISAN application that is part of the Atmospheric Toolbox. However, this application can only be run locally on a Desktop.\n",
    "For this reason, we have chosen this time to demonstrate how to use the HARP functionality within a Jupyter Notebook. This can be run remotely on a server and accessed via a web browser. However, you can also still run this locally as well.\n",
    "\n",
    "For the visualisations we will make use of the matplotlib and cartopy libraries. Although there are both advantages and disadvantages of using matplotlib compared to the visualisations that VISAN provides, we will not go into detail on this within this exercise.\n",
    "\n",
    "In the steps below we will provide a basic data reading and visualization introduction and then demonstrate the creation of a daily L3 grid file from one day of Sentinel-5P L2 NO2 products. Finally, we will provide a use case for looking at the NO2 pollution in the Mediterranean region."
   ]
  },
  {
   "cell_type": "markdown",
   "metadata": {},
   "source": [
    "## Basic data reading with HARP"
   ]
  },
  {
   "cell_type": "markdown",
   "metadata": {},
   "source": [
    "We first import the needed Python packages. This consists of NumPy, matplotlib, cartopy, and, of course, harp."
   ]
  },
  {
   "cell_type": "code",
   "execution_count": null,
   "metadata": {},
   "outputs": [],
   "source": [
    "import harp\n",
    "import numpy as np\n",
    "import matplotlib.pyplot as plt\n",
    "from mpl_toolkits.axes_grid1 import make_axes_locatable\n",
    "from matplotlib.colors import Normalize\n",
    "import cartopy.crs as ccrs\n",
    "from IPython.display import Image"
   ]
  },
  {
   "cell_type": "markdown",
   "metadata": {},
   "source": [
    "We will start by opening a single Sentinel-5P L2 NO2 product.\n",
    "This product was retrieved from the [Sentinel-5P Pre-Operations Data Hub](https://s5phub.copernicus.eu/dhus/#/home)."
   ]
  },
  {
   "cell_type": "code",
   "execution_count": null,
   "metadata": {},
   "outputs": [],
   "source": [
    "filename = \"../../eodata/sentinel5p/no2/2021-03-01/S5P_OFFL_L2__NO2____20210301T113753_20210301T131923_17523_01_010400_20210303T052648.nc\"\n",
    "product = harp.import_product(filename)"
   ]
  },
  {
   "cell_type": "markdown",
   "metadata": {},
   "source": [
    "The resulting `product` python variable is just a record containing the product variables with numpy arrays for the data. You can inspect the contents using the Python `print()` function:"
   ]
  },
  {
   "cell_type": "code",
   "execution_count": null,
   "metadata": {},
   "outputs": [],
   "source": [
    "print(product)"
   ]
  },
  {
   "cell_type": "code",
   "execution_count": null,
   "metadata": {},
   "outputs": [],
   "source": [
    "print(product.tropospheric_NO2_column_number_density)"
   ]
  },
  {
   "cell_type": "code",
   "execution_count": null,
   "metadata": {},
   "outputs": [],
   "source": [
    "print(type(product.tropospheric_NO2_column_number_density.data))\n",
    "print(product.tropospheric_NO2_column_number_density.data.shape)"
   ]
  },
  {
   "cell_type": "markdown",
   "metadata": {},
   "source": [
    "It is important to realise that the `harp.import_product` function does not return the data in the same structure as it can be found in the netcdf file (and how you might get it with libraries such as `netCDF4` or `xarray`). HARP really performs an _import_ and converts the data from the original Sentinel-5P L2 format to a structure that is compatible with the HARP conventions.\n",
    "\n",
    "This conversion mainly consists of renaming of variables, restructuring the dimensions, and leaving out the 'less important' variables. HARP has builtin converters for [a lot of atmospheric data products](http://stcorp.github.io/harp/doc/html/ingestions/index.html). For each conversion the HARP documentation contains a description of the variables it will return and how it mapped them from the original product format. The description for the product that we ingested can be found in the [S5P_L2_NO2](http://stcorp.github.io/harp/doc/html/ingestions/S5P_L2_NO2.html) description.\n",
    "\n",
    "HARP does this conversion such that data from other satellite data products, such as OMI, or GOME-2, will end up having the same structure and naming conventions. This makes it a lot easier for users such as yourself to deal with data coming from different satellite missions."
   ]
  },
  {
   "cell_type": "markdown",
   "metadata": {},
   "source": [
    "To visualise the L2 data we will be using [cartopy](https://scitools.org.uk/cartopy/docs/latest/).\n",
    "\n",
    "Unfortunately, there is no ideal plot function in cartopy to show the L2 data. The main choices are the `scatter`, `pcolormesh`, and `contourf` functions. For larger datasets the `contourf` function becomes very slow and the `pcolormesh` is then often a better approach. We will therefore only look at the `scatter` and `pcolormesh` functions.\n",
    "\n",
    "_Note that none of the cartopy functions can properly deal with the corner coordinates that are provided by the `latitude_bounds` and `longitude_bounds` variables. All of them deal with center coordinates only (using the `latitude` and `longitude` variables). If you want to have plots of L2 data that uses the actual corner coordinates then you will have to use VISAN._\n",
    "\n",
    "Below, we will define two functions that will allow us to plot variables of an imported HARP product with cartopy. One will create a scatter plot (`scatter`), and the other a mesh plot (`pcolormesh`).\n",
    "\n",
    "You don't have to understand this code for now, so just execute the code blocks and move on below to where we call the functions to create the actual plots."
   ]
  },
  {
   "cell_type": "code",
   "execution_count": null,
   "metadata": {},
   "outputs": [],
   "source": [
    "def harp_l2geoscatterplot(product, value, colorrange=None, colortable='jet'):\n",
    "    variable = product[value]\n",
    "    if colorrange is not None:\n",
    "        vmin, vmax = colorrange\n",
    "    else:\n",
    "        vmin = np.nanmin(variable.data)\n",
    "        vmax = np.nanmax(variable.data)\n",
    "\n",
    "    fig=plt.figure(figsize=(20, 10))\n",
    "\n",
    "    ax = plt.axes(projection=ccrs.PlateCarree())\n",
    "\n",
    "    img = plt.scatter(product.longitude.data, product.latitude.data, c=variable.data, \n",
    "                      vmin=vmin, vmax=vmax, cmap=colortable, s=1, transform=ccrs.PlateCarree())\n",
    "\n",
    "    ax.coastlines()\n",
    "\n",
    "    cbar = fig.colorbar(img, ax=ax, orientation='horizontal', fraction=0.04, pad=0.1)\n",
    "    cbar.set_label(f'{variable.description} [{variable.unit}]')\n",
    "    cbar.ax.tick_params(labelsize=14)\n",
    "    plt.show()"
   ]
  },
  {
   "cell_type": "code",
   "execution_count": null,
   "metadata": {},
   "outputs": [],
   "source": [
    "def harp_l2geomeshplot(product, value, colorrange=None, colortable='jet'):\n",
    "    # convert 1D 'time' array to a 2D 'scanline x ground_pixel' array\n",
    "    num_elements = len(product.datetime_start.data)\n",
    "    datetimes = np.sort(np.unique(product.datetime_start.data))\n",
    "    num_scanline = len(datetimes)\n",
    "    min_index = min(product.scan_subindex.data)\n",
    "    max_index = max(product.scan_subindex.data)\n",
    "    num_ground_pixel = max_index - min_index + 1\n",
    "    grid_index = [(np.where(datetimes == product.datetime_start.data[i])[0][0], product.scan_subindex.data[i] - min_index) for i in range(num_elements)]\n",
    "    latitude = np.empty((num_scanline, num_ground_pixel))\n",
    "    longitude = np.empty((num_scanline, num_ground_pixel))\n",
    "    variable = np.empty((num_scanline, num_ground_pixel))\n",
    "    latitude[:] = np.NaN\n",
    "    longitude[:] = np.NaN\n",
    "    variable[:] = np.NaN\n",
    "    for i in range(num_elements):\n",
    "        latitude[grid_index[i]] = product.latitude.data[i]\n",
    "        longitude[grid_index[i]] = product.longitude.data[i]\n",
    "        variable[grid_index[i]] = product[value].data[i]\n",
    "    \n",
    "    description = product[value].description\n",
    "    unit = product[value].unit\n",
    "\n",
    "    if colorrange is not None:\n",
    "        vmin, vmax = colorrange\n",
    "    else:\n",
    "        vmin = np.nanmin(variable.data)\n",
    "        vmax = np.nanmax(variable.data)\n",
    "\n",
    "    fig=plt.figure(figsize=(20, 10))\n",
    "\n",
    "    ax = plt.axes(projection=ccrs.PlateCarree())\n",
    "\n",
    "    img = plt.pcolormesh(longitude, latitude, variable, vmin=vmin, vmax=vmax,\n",
    "                         cmap=colortable, transform=ccrs.PlateCarree())\n",
    "\n",
    "    ax.coastlines()\n",
    "\n",
    "    cbar = fig.colorbar(img, ax=ax, orientation='horizontal', fraction=0.04, pad=0.1)\n",
    "    cbar.set_label(f'{description} [{unit}]')\n",
    "    cbar.ax.tick_params(labelsize=14)\n",
    "    plt.show()"
   ]
  },
  {
   "cell_type": "markdown",
   "metadata": {},
   "source": [
    "If we now use both functions to plot the tropospheric NO2 column number density, we get the following results:"
   ]
  },
  {
   "cell_type": "code",
   "execution_count": null,
   "metadata": {},
   "outputs": [],
   "source": [
    "harp_l2geoscatterplot(product, 'tropospheric_NO2_column_number_density', colorrange=(0,0.0001))"
   ]
  },
  {
   "cell_type": "code",
   "execution_count": null,
   "metadata": {},
   "outputs": [],
   "source": [
    "harp_l2geomeshplot(product, 'tropospheric_NO2_column_number_density', colorrange=(0,0.0001))"
   ]
  },
  {
   "cell_type": "code",
   "execution_count": null,
   "metadata": {},
   "outputs": [],
   "source": [
    "print(product)"
   ]
  },
  {
   "cell_type": "markdown",
   "metadata": {},
   "source": [
    "The scatter plot shows all satellite measurements as individual dots on the map.\n",
    "Whereas the mesh plot shows data as a 2D grid."
   ]
  },
  {
   "cell_type": "markdown",
   "metadata": {},
   "source": [
    "**EXERCISE**: Try to plot some other variables from the product using the `harp_l2geomeshplot` or `harp_l2geoscatterplot` functions. Just change the line below and provide a different variable name from the list that was shown by `print(product)`."
   ]
  },
  {
   "cell_type": "code",
   "execution_count": null,
   "metadata": {},
   "outputs": [],
   "source": [
    "harp_l2geomeshplot(product, 'absorbing_aerosol_index')"
   ]
  },
  {
   "cell_type": "markdown",
   "metadata": {},
   "source": [
    "When comparing the scatter plot and the mesh plot, the mesh plot looks to be better. However, the mesh plot only works because we ingested all pixels of the product; we still had a full 2D grid that we could plot.\n",
    "Once we start adding filters this doesn't work anymore."
   ]
  },
  {
   "cell_type": "markdown",
   "metadata": {},
   "source": [
    "One of the main features of HARP is the ability to perform operations as part of the data import.\n",
    "Below we will add three different operations as part of the import:\n",
    "- we only ingest data that is between 50 and 55 degrees latitude\n",
    "- we only ingest data where the validity is good enough (this is the `qa_value>0.75` filter that is mentioned in the [Product Readme File for NO2](https://sentinels.copernicus.eu/documents/247904/3541451/Sentinel-5P-Nitrogen-Dioxide-Level-2-Product-Readme-File); the PRFs for all S5P products can be found on the offical [S5P documentation page](https://sentinels.copernicus.eu/web/sentinel/technical-guides/sentinel-5p/products-algorithms))\n",
    "- we limit the variables that we read to those that we will actually use\n",
    "- we convert the unit of the tropospheric NO2 column number density to Pmolec/cm2 (instead of using mol/m2 in which that data was stored)\n",
    "\n",
    "All these operations will be performed by HARP, in sequence, while the data is being read, and before it is returned to us in Python. Since the operations are performed by HARP, which is written in C, it is often much faster to let those operations be performed by HARP than trying to post-process the data yourself in Python.\n",
    "\n",
    "Information on all operations that can be passed this way can be found in the [HARP operations documentation](http://stcorp.github.io/harp/doc/html/operations.html)."
   ]
  },
  {
   "cell_type": "code",
   "execution_count": null,
   "metadata": {},
   "outputs": [],
   "source": [
    "filename = \"../../eodata/sentinel5p/no2/2021-03-01/S5P_OFFL_L2__NO2____20210301T113753_20210301T131923_17523_01_010400_20210303T052648.nc\"\n",
    "operations = \";\".join([\n",
    "    \"latitude>50;latitude<55\",\n",
    "    \"tropospheric_NO2_column_number_density_validity>75\",\n",
    "    \"keep(datetime_start,scan_subindex,latitude,longitude,tropospheric_NO2_column_number_density)\",\n",
    "    \"derive(tropospheric_NO2_column_number_density [Pmolec/cm2])\",\n",
    "])\n",
    "print(f\"operations=\\\"{operations}\\\"\")\n",
    "reduced_product = harp.import_product(filename, operations)"
   ]
  },
  {
   "cell_type": "markdown",
   "metadata": {},
   "source": [
    "You will see that importing the data now goes a _lot_ faster. And if we print the contents of the `product` variable we see exactly the data that we requested:"
   ]
  },
  {
   "cell_type": "code",
   "execution_count": null,
   "metadata": {},
   "outputs": [],
   "source": [
    "print(reduced_product)"
   ]
  },
  {
   "cell_type": "markdown",
   "metadata": {},
   "source": [
    "If we now create a scatter plot we get:"
   ]
  },
  {
   "cell_type": "code",
   "execution_count": null,
   "metadata": {},
   "outputs": [],
   "source": [
    "harp_l2geoscatterplot(reduced_product, 'tropospheric_NO2_column_number_density', colorrange=(0,8))"
   ]
  },
  {
   "cell_type": "markdown",
   "metadata": {},
   "source": [
    "You will now see more clearly that the scatter plot is not really convenient because of the gaps between the dots.\n",
    "\n",
    "Unfortunately, creating a meshplot doesn't work anymore. If we would try to run:\n",
    "\n",
    "    harp_l2geomeshplot(reduced_product, 'tropospheric_NO2_column_number_density', colorrange=(0,8))\n",
    "\n",
    "it will throw an error, because we don't have all pixels for a scanline anymore."
   ]
  },
  {
   "cell_type": "markdown",
   "metadata": {},
   "source": [
    "A solution to this problem is to regrid the S5P data to a regular latitude/longitude grid.\n",
    "\n",
    "Regridding data to a lat/lon grid is also needed of we want to combine the data from multiple orbits from one day (or multiple days) into a single daily grid.\n",
    "\n",
    "We can perform this regridding by using the `bin_spatial()` operation of HARP.\n",
    "The `bin_spatial()` operation takes 6 parameters:\n",
    "- the number of latitude grid _edge_ points\n",
    "- the latitude offset at which to start the grid\n",
    "- the latitude increment (= latitude length of a grid cell)\n",
    "- the number of longitude grid _edge_ points\n",
    "- the longitude offset at which to start the grid\n",
    "- the longitude increment (= longitude length of a grid cell)\n",
    "\n",
    "Note that the number of _edge_ points is one more than the number of grid cells. This is similar to the way you should provide the `X` and `Y` parameters to the `pcolormesh` function (see [matplotlib documentation](https://matplotlib.org/3.3.2/api/_as_gen/matplotlib.pyplot.pcolormesh.html)).\n",
    "\n",
    "So, if we want to have a 0.1 degree by 0.1 degree global grid, we will need 1800 by 3600 grid cells (which equals 1801 by 3601 grid edge points).\n",
    "\n",
    "HARP can actually do a proper weighted area average to calculate the value for each grid cell. It will use the corner coordinates of each satellite pixel, provided by the `latitude_bounds` and `longitude_bounds` variables, to do this. This is why we need to add these variables to the `keep()` operation below."
   ]
  },
  {
   "cell_type": "code",
   "execution_count": null,
   "metadata": {},
   "outputs": [],
   "source": [
    "filename = \"../../eodata/sentinel5p/no2/2021-03-01/S5P_OFFL_L2__NO2____20210301T113753_20210301T131923_17523_01_010400_20210303T052648.nc\"\n",
    "operations = \";\".join([\n",
    "    \"tropospheric_NO2_column_number_density_validity>75\",\n",
    "    \"keep(latitude_bounds,longitude_bounds,tropospheric_NO2_column_number_density)\",\n",
    "    \"bin_spatial(1801,-90,0.1,3601,-180,0.1)\",\n",
    "    \"derive(tropospheric_NO2_column_number_density [Pmolec/cm2])\",\n",
    "    \"derive(latitude {latitude})\",\n",
    "    \"derive(longitude {longitude})\",\n",
    "])\n",
    "grid = harp.import_product(filename, operations)\n",
    "print(grid)"
   ]
  },
  {
   "cell_type": "markdown",
   "metadata": {},
   "source": [
    "To plot this data we define a plot function that can plot variables that depend on the latitude and longitude dimensions:"
   ]
  },
  {
   "cell_type": "code",
   "execution_count": null,
   "metadata": {},
   "outputs": [],
   "source": [
    "def harp_l3meshplot(product, value, colorrange=None, colortable='jet'):\n",
    "    variable = product[value]\n",
    "    \n",
    "    gridlat = np.append(product.latitude_bounds.data[:,0], product.latitude_bounds.data[-1,1])\n",
    "    gridlon = np.append(product.longitude_bounds.data[:,0], product.longitude_bounds.data[-1,1])\n",
    "    \n",
    "    if colorrange is not None:\n",
    "        vmin, vmax = colorrange\n",
    "    else:\n",
    "        vmin = np.nanmin(variable.data)\n",
    "        vmax = np.nanmax(variable.data)\n",
    "\n",
    "    fig=plt.figure(figsize=(20, 10))\n",
    "\n",
    "    ax = plt.axes(projection=ccrs.PlateCarree())\n",
    "\n",
    "    img = plt.pcolormesh(gridlon, gridlat, variable.data[0,:,:], vmin=vmin, vmax=vmax,\n",
    "                         cmap=colortable, transform=ccrs.PlateCarree())\n",
    "\n",
    "    ax.coastlines()\n",
    "    ax.gridlines()\n",
    "\n",
    "    cbar = fig.colorbar(img, ax=ax, orientation='horizontal', fraction=0.04, pad=0.1)\n",
    "    cbar.set_label(f'{variable.description} [{variable.unit}]')\n",
    "    cbar.ax.tick_params(labelsize=14)\n",
    "    plt.show()\n"
   ]
  },
  {
   "cell_type": "code",
   "execution_count": null,
   "metadata": {},
   "outputs": [],
   "source": [
    "harp_l3meshplot(grid, \"tropospheric_NO2_column_number_density\", colorrange=(0,8))"
   ]
  },
  {
   "cell_type": "markdown",
   "metadata": {},
   "source": [
    "We now still plotted only one orbit.\n",
    "For Sentinel-5P each product file contains the information from one orbit. And there are approximately 14 orbits per day.\n",
    "With HARP you can just provide the full list of files to the import function, and HARP will then concatenate these products together.\n",
    "However, to arrive at a daily grid, we then also have to tell HARP to reduce these 14 orbit grids to a single daily grid. This is done by adding the `reduce_operations` parameter to the `harp.import_product()` function. The `bin()` operation that is included there makes sure that the individual orbit grids are averaged together into a single daily grid."
   ]
  },
  {
   "cell_type": "code",
   "execution_count": null,
   "metadata": {},
   "outputs": [],
   "source": [
    "filenames = \"../../eodata/sentinel5p/no2/2021-03-01/S5P_*.nc\"\n",
    "operations = \";\".join([\n",
    "    \"tropospheric_NO2_column_number_density_validity>75\",\n",
    "    \"keep(latitude_bounds,longitude_bounds,datetime_start,datetime_length,tropospheric_NO2_column_number_density)\",\n",
    "    \"derive(datetime_stop {time} [days since 2000-01-01])\",\n",
    "    \"derive(datetime_start [days since 2000-01-01])\",\n",
    "    \"exclude(datetime_length)\",\n",
    "    \"bin_spatial(1801,-90,0.1,3601,-180,0.1)\",\n",
    "    \"derive(tropospheric_NO2_column_number_density [Pmolec/cm2])\",\n",
    "    \"derive(latitude {latitude})\",\n",
    "    \"derive(longitude {longitude})\",\n",
    "])\n",
    "reduce_operations = \"squash(time, (latitude, longitude, latitude_bounds, longitude_bounds));bin()\"\n",
    "merged = harp.import_product(filenames, operations, reduce_operations=reduce_operations)\n",
    "print(merged)"
   ]
  },
  {
   "cell_type": "code",
   "execution_count": null,
   "metadata": {},
   "outputs": [],
   "source": [
    "harp_l3meshplot(merged, \"tropospheric_NO2_column_number_density\", colorrange=(0,8))"
   ]
  },
  {
   "cell_type": "markdown",
   "metadata": {},
   "source": [
    "**EXCERCISE**: Try to create a daily grid for another variable (e.g. the total NO2 column `NO2_column_number_density`) and/or for a smaller region on the earth (e.g. use `bin_spatial(501,45,0.03,1001,-15,0.03)` for NW Europe)."
   ]
  },
  {
   "cell_type": "markdown",
   "metadata": {},
   "source": [
    "You can also save the results to a netcdf file and then perform other operations on it.\n",
    "For instance, we can save the daily grid and then use `gdaldem` to create a geotiff image.\n",
    "This exact same approach is also what is used to generate the grids on the [Copernicus Sentinel-5P Mapping Portal](https://maps.s5p-pal.com)."
   ]
  },
  {
   "cell_type": "code",
   "execution_count": null,
   "metadata": {},
   "outputs": [],
   "source": [
    "harp.export_product(merged, 's5p-no2-20210301.nc', operations=\"exclude(latitude_bounds, longitude_bounds);derive(tropospheric_NO2_column_number_density [umol/m2])\")"
   ]
  },
  {
   "cell_type": "code",
   "execution_count": null,
   "metadata": {},
   "outputs": [],
   "source": [
    "# create a color table file (similar to what is used on maps.s5p-pal.com):\n",
    "with open('colortable.txt', 'a') as f:\n",
    "   f.write(\"0 255 245 240 0\\n\")\n",
    "   f.write(\"40 254 224 210 255\\n\")\n",
    "   f.write(\"65 252 187 161 255\\n\")\n",
    "   f.write(\"85 252 146 114 255\\n\")\n",
    "   f.write(\"105 251 106 74 255\\n\")\n",
    "   f.write(\"125 239 59 44 255\\n\")\n",
    "   f.write(\"145 203 24 29 255\\n\")\n",
    "   f.write(\"165 165 15 21 255\\n\")\n",
    "   f.write(\"180 103 0 13 255\\n\")\n",
    "   f.write(\"nv 255 245 240 0\\n\")"
   ]
  },
  {
   "cell_type": "code",
   "execution_count": null,
   "metadata": {},
   "outputs": [],
   "source": [
    "!gdaldem color-relief -q -alpha -of GTiff NETCDF:s5p-no2-20210301.nc:tropospheric_NO2_column_number_density colortable.txt s5p-no2-20210301.tif"
   ]
  },
  {
   "cell_type": "markdown",
   "metadata": {},
   "source": [
    "You can download this tiff file and then open it with e.g. QGIS.\n",
    "But you can also further process it with GDAL:"
   ]
  },
  {
   "cell_type": "code",
   "execution_count": null,
   "metadata": {},
   "outputs": [],
   "source": [
    "# convert the tiff to png and embed it in the notebook below\n",
    "!gdal_translate s5p-no2-20210301.tif s5p-no2-20210301.png\n",
    "Image(\"s5p-no2-20210301.png\")"
   ]
  },
  {
   "cell_type": "markdown",
   "metadata": {},
   "source": [
    "## NO2 pollution over the Mediterranean\n",
    "\n",
    "In the step below we apply the same approach as we used for the daily average, but now we look at two weeks of data (22 February - 7 March 2021). Since we will only be looking at the Mediterranean we only have to use the L2 products that have an overlap with that area.\n",
    "We already pre-collected these files by performing a region filter on the [Sentinel-5P Pre-Operations Data Hub](https://s5phub.copernicus.eu/dhus/#/home) and downloading the resulting products for those two weeks.\n",
    "\n",
    "As you can see in the list of operations, we first perform an explicit filter on the latitude and longitude. We do this so that HARP has less samples to consider when it executes the `bin_spatial()` operation step, making things a lot faster."
   ]
  },
  {
   "cell_type": "code",
   "execution_count": null,
   "metadata": {},
   "outputs": [],
   "source": [
    "filenames = \"../../eodata/sentinel5p/no2/mediterranean/S5P_*.nc\"\n",
    "operations = \";\".join([\n",
    "    \"latitude>=30;latitude<=42;longitude>=-6;longitude<=36\",\n",
    "    \"tropospheric_NO2_column_number_density_validity>75\",\n",
    "    \"keep(latitude_bounds,longitude_bounds,datetime_start,datetime_length,tropospheric_NO2_column_number_density)\",\n",
    "    \"derive(datetime_stop {time} [days since 2000-01-01])\",\n",
    "    \"derive(datetime_start [days since 2000-01-01])\",\n",
    "    \"exclude(datetime_length)\",\n",
    "    \"bin_spatial(601,30,0.02,2101,-6,0.02)\",\n",
    "    \"derive(tropospheric_NO2_column_number_density [Pmolec/cm2])\",\n",
    "    \"derive(latitude {latitude})\",\n",
    "    \"derive(longitude {longitude})\",\n",
    "])\n",
    "reduce_operations = \"squash(time, (latitude, longitude, latitude_bounds, longitude_bounds));bin()\"\n",
    "mediterranean = harp.import_product(filenames, operations, reduce_operations=reduce_operations)"
   ]
  },
  {
   "cell_type": "markdown",
   "metadata": {},
   "source": [
    "We plot the output using the same l3 meshplot as before, but we use a slightly different color scale so that the ship tracks are more visibile."
   ]
  },
  {
   "cell_type": "code",
   "execution_count": null,
   "metadata": {},
   "outputs": [],
   "source": [
    "harp_l3meshplot(mediterranean, \"tropospheric_NO2_column_number_density\", colorrange=(1,4))"
   ]
  },
  {
   "cell_type": "code",
   "execution_count": null,
   "metadata": {},
   "outputs": [],
   "source": []
  }
 ],
 "metadata": {
  "kernelspec": {
   "display_name": "Python 3",
   "language": "python",
   "name": "python3"
  },
  "language_info": {
   "codemirror_mode": {
    "name": "ipython",
    "version": 3
   },
   "file_extension": ".py",
   "mimetype": "text/x-python",
   "name": "python",
   "nbconvert_exporter": "python",
   "pygments_lexer": "ipython3",
   "version": "3.8.0"
  }
 },
 "nbformat": 4,
 "nbformat_minor": 4
}
