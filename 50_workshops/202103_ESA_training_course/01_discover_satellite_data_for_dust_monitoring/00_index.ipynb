{
 "cells": [
  {
   "cell_type": "markdown",
   "metadata": {
    "Collapsed": "false"
   },
   "source": [
    "<img src='../img/EU-Copernicus-EUM_3Logos.png' alt='Logo EU Copernicus EUMETSAT' align='right' width='50%'></img>\n",
    "<br>\n",
    "\n"
   ]
  },
  {
   "cell_type": "markdown",
   "metadata": {},
   "source": [
    "<br>"
   ]
  },
  {
   "cell_type": "markdown",
   "metadata": {
    "Collapsed": "false"
   },
   "source": [
    "<br>"
   ]
  },
  {
   "cell_type": "markdown",
   "metadata": {
    "Collapsed": "false"
   },
   "source": [
    "#### 11th ESA Training Course on Earth Observation 2021 | 22-26 March 2021"
   ]
  },
  {
   "cell_type": "markdown",
   "metadata": {},
   "source": [
    "# Practical 1 - Discover satellite data for Dust and NO<sub>2</sub> Monitoring"
   ]
  },
  {
   "cell_type": "markdown",
   "metadata": {
    "Collapsed": "false"
   },
   "source": [
    "This practical session gives you an overview of different satellite data for dust and NO<sub>2</sub> monitoring and provides you hands-on practical example how to retrieve, load, process and visualize the data.\n",
    "\n"
   ]
  },
  {
   "cell_type": "markdown",
   "metadata": {
    "Collapsed": "false"
   },
   "source": [
    "## Notebook overview and featured data"
   ]
  },
  {
   "cell_type": "markdown",
   "metadata": {
    "Collapsed": "false"
   },
   "source": [
    "#### The following satellite datasets for dust monitoring are featured:\n",
    "\n",
    "* [AC SAF GOME-2 Level 3 Absorbing Aerosol Index](https://acsaf.org/index.html)\n",
    "* [Polar Multi-Sensor Aerosol Optical Properties](https://navigator.eumetsat.int/product/EO:EUM:DAT:METOP:PMAP)\n",
    "* [CAMS Global Near-Real-Time Forecast](https://apps.ecmwf.int/datasets/data/cams-nrealtime/levtype=sfc/)\n",
    "* [CAMS European Air Quality Forecasts and Analyses](https://ads.atmosphere.copernicus.eu/cdsapp#!/dataset/cams-europe-air-quality-forecasts?tab=overview)\n",
    "\n",
    "\n",
    "#### The following satellite datasets for NO<sub>2</sub> monitoring are featured:\n",
    "* [Metop-AB GOME-2 Tropospheric Nitrogen Dioxide data records (L3)](https://acsaf.org/datarecords/no2_vcd.php)"
   ]
  },
  {
   "cell_type": "markdown",
   "metadata": {},
   "source": [
    "<br>"
   ]
  },
  {
   "cell_type": "markdown",
   "metadata": {},
   "source": [
    "#### The following notebooks are available:\n",
    "\n",
    "* [01 - Overview - Atmospheric Composition Data Retrieve](./01_overview_atmospheric_composition_data_retrieve.ipynb)\n",
    "* [02 - Metop-ABC GOME-2 Absorbing Aerosol Index Level 3 - Load and browse](./02_Metop-ABC_GOME-2_AAI_L3_load_browse.ipynb)\n",
    "* [03 - PMAp Aerosol Optical Depth Level 2 - Load and browse](./03_PMAp_AOD_L2_load_browse.ipynb)\n",
    "* [04 - CAMS global near-real-time forecast - Dust Aerosol Optical Depth - Load and browse](./04_CAMS_global_forecast_duaod_load_browse.ipynb)\n",
    "* [05 - CAMS European Air Quality Forecasts and Analyses - Dust concentration - Load and browse](./05_CAMS_European_air_quality_forecast_dust_concentration_load_browse.ipynb)\n",
    "\n",
    "\n",
    "* [11 - Metop-AB GOME-2 Tropospheric Nitrogen Dioxide Level 3 - Load and browse](./11_Metop-AB_GOME-2_NO2Tropo_L3_load_browse.ipynb)\n",
    "\n"
   ]
  },
  {
   "cell_type": "markdown",
   "metadata": {},
   "source": [
    "<br>"
   ]
  },
  {
   "cell_type": "markdown",
   "metadata": {},
   "source": [
    "\n",
    "**NOTE:** Throughout the course, general functions to `load`, `re-shape`, `process` and `visualize` the datasets are defined. These functions are re-used when applicable. The [functions notebook](./functions.ipynb) gives you an overview of all the functions defined and used for the course."
   ]
  },
  {
   "cell_type": "markdown",
   "metadata": {},
   "source": [
    "<hr>"
   ]
  },
  {
   "cell_type": "markdown",
   "metadata": {
    "Collapsed": "false"
   },
   "source": [
    "## Learning outcomes"
   ]
  },
  {
   "cell_type": "markdown",
   "metadata": {
    "Collapsed": "false"
   },
   "source": [
    "The course is designed for `beginners and medium-level users`, who have basic Python knowledge.\n",
    "\n",
    "After the course, you should have:\n",
    "* an idea about **satellite and assimilated data products for dust monitoring**,\n",
    "* knowledge about the most useful **Python packages** to handle, process and visualise atmospheric composition data\n",
    "* an idea about how the **data can help to detect and monitor dust events**"
   ]
  },
  {
   "cell_type": "markdown",
   "metadata": {
    "Collapsed": "false"
   },
   "source": [
    "<hr>"
   ]
  },
  {
   "cell_type": "markdown",
   "metadata": {
    "Collapsed": "false"
   },
   "source": [
    "## Access to the training platform"
   ]
  },
  {
   "cell_type": "markdown",
   "metadata": {
    "Collapsed": "false"
   },
   "source": [
    "The course material is made available on a JupyterLab training platform, a pre-defined environment that gives learners direct access to the data and Python packages required for following the course.\n",
    "\n",
    "The `JupyterLab` can be accessed as follows:"
   ]
  },
  {
   "cell_type": "markdown",
   "metadata": {
    "Collapsed": "false"
   },
   "source": [
    "* Web address: [https://training.ltpy.adamplatform.eu](https://training.ltpy.adamplatform.eu)\n",
    "* Create an account: [https://login.ltpy.adamplatform.eu](https://login.ltpy.adamplatform.eu)\n",
    "* Log into the `JupyterLab` with your account created."
   ]
  },
  {
   "cell_type": "markdown",
   "metadata": {
    "Collapsed": "false"
   },
   "source": [
    "<hr>"
   ]
  },
  {
   "cell_type": "markdown",
   "metadata": {
    "Collapsed": "false"
   },
   "source": [
    "<img src='../img/copernicus_logo.png' alt='Logo EU Copernicus' align='right' width='20%'><br><br><br>\n",
    "\n",
    "\n",
    "\n",
    "<p style=\"text-align:right;\">This project is licensed under the <a href=\"./LICENSE\">MIT License</a> and is developed under a Copernicus contract."
   ]
  }
 ],
 "metadata": {
  "kernelspec": {
   "display_name": "Python 3",
   "language": "python",
   "name": "python3"
  },
  "language_info": {
   "codemirror_mode": {
    "name": "ipython",
    "version": 3
   },
   "file_extension": ".py",
   "mimetype": "text/x-python",
   "name": "python",
   "nbconvert_exporter": "python",
   "pygments_lexer": "ipython3",
   "version": "3.7.0"
  }
 },
 "nbformat": 4,
 "nbformat_minor": 4
}
