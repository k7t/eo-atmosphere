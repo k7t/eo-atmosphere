{
 "cells": [
  {
   "cell_type": "markdown",
   "metadata": {},
   "source": [
    "<img src='./img/LogoWekeo_Copernicus_RGB_0.png' alt='Logo EU Copernicus EUMETSAT' align='right' width='20%'></img>"
   ]
  },
  {
   "cell_type": "markdown",
   "metadata": {},
   "source": [
    "\n",
    "<a href=\"./00_index.ipynb\"><< Index</a><span style=\"float:right;\"><a href=\"./10_sentinel5p_L2_retrieve.ipynb\">10 - Sentinel-5p Level 2 Carbon Monoxide - Retrieve>></a></span>"
   ]
  },
  {
   "cell_type": "markdown",
   "metadata": {},
   "source": [
    "# Atmospheric Data Products on WEkEO"
   ]
  },
  {
   "cell_type": "markdown",
   "metadata": {},
   "source": [
    "## Overview"
   ]
  },
  {
   "cell_type": "markdown",
   "metadata": {},
   "source": [
    "[WEkEO](https://www.wekeo.eu/) offers access to a variety of atmospheric composition data, including different parameters sensored from Sentinel-3, Sentinel-5 as well as modelled data from the Copernicus Atmosphere Monitoring Service (CAMS).\n",
    "\n",
    "The following atmopsheric composition data products are available on WEkEO:\n",
    "* [Sentinel-3 OLCI Level 1B Full Resolution](#sentinel3)\n",
    "* [Sentinel-5P TROPOMI](#sentinel5p)\n",
    "* [Copernicus Atmosphere Monitoring Service EAC4](#cams)\n",
    "\n"
   ]
  },
  {
   "cell_type": "markdown",
   "metadata": {},
   "source": [
    "<img src='./img/ac_data_overview.png' alt='Atmospheric Composition Overview' align='center' width='100%'></img>"
   ]
  },
  {
   "cell_type": "markdown",
   "metadata": {},
   "source": [
    "<hr>"
   ]
  },
  {
   "cell_type": "markdown",
   "metadata": {},
   "source": [
    "### <a id='sentinel3'></a>Sentinel-3 OLCI Level 1B"
   ]
  },
  {
   "cell_type": "markdown",
   "metadata": {},
   "source": [
    "SENTINEL-3 is an European Earth Observation satellite mission developed to support GMES ocean, land, atmospheric, emergency, security and cryospheric applications.\n",
    "\n",
    "The main objective of the SENTINEL-3 mission is to measure sea surface topography, sea and land surface temperature, and ocean and land surface colour with high accuracy and reliability to support ocean forecasting systems, environmental monitoring and climate monitoring.\n",
    "\n",
    "The SENTINEL-3 mission is jointly operated by ESA and EUMETSAT to deliver operational ocean and land observation services.\n",
    "\n",
    "The spacecraft carries four main instruments:\n",
    "* **OLCI**: Ocean and Land Colour Instrument\n",
    "* **SLSTR**: Sea and Land Surface Temperature Instrument\n",
    "* **SRAL**: SAR Radar Altimeter\n",
    "* **MWR**: Microwave Radiometer.\n",
    "\n",
    "You can see an overview of all Sentinel-3 data products [here](https://sentinel.esa.int/web/sentinel/missions/sentinel-3/data-products). Sentinel-3 OLCI Level 1 data are well-suited to e.g. monitor fires.\n",
    "\n",
    "Sentinel-3 OLCI Level-1 data products are available as Full (`OL_1_EFR`) and Reduced Resolution (`OL_1_ERR`) data files. Level 1 products are calibrated Top Of Atmosphere radiance values at OLCI which has 21 spectral bands.\n",
    "\n",
    "Sentinel-3 OLCI data products are disseminated as `.zip archives`, containing data files in `NetCDF` format.\n",
    "\n",
    "Find more information on the OLCI data products in the [Sentinel-3 OLCI User Guide](https://sentinel.esa.int/web/sentinel/user-guides/sentinel-3-olci) and on [WEkEO](https://moi.wekeo.eu/data?view=dataset&dataset=EO%3AEUM%3ADAT%3ASENTINEL-3%3AOL_1_EFR___)."
   ]
  },
  {
   "cell_type": "markdown",
   "metadata": {},
   "source": [
    "### <a id='sentinel5p'></a>Sentinel-5p TROPOMI"
   ]
  },
  {
   "cell_type": "markdown",
   "metadata": {},
   "source": [
    "The Copernicus Sentinel-5 Precursor mission is the first Copernicus mission dedicated to monitoring our atmosphere. The main objective of the Copernicus Sentinel-5P mission is to perform atmospheric measurements with high spatio-temporal resolution, to be used for air quality, ozone & UV radiation, and climate monitoring & forecasting.\n",
    "\n",
    "Sentinel-5p was launched in 2017 and data is disseminated in the `netCDF` format.\n",
    "\n",
    "Sentinel-5p carries the `TROPOMI` instrument, which is a spectrometer in the UV-VIS-NIR-SWIR spectral range. `TROPOMI` provides measurements on:\n",
    "* `Ozone`\n",
    "* `NO`<sub>`2`</sub>\n",
    "* `SO`<sub>`2`</sub>\n",
    "* `Formaldehyde`\n",
    "* `Aerosol`\n",
    "* `Carbonmonoxide`\n",
    "* `Methane`\n",
    "* `Clouds`\n",
    "\n",
    "Get more information about the Sentinel-5p mission on the [mission website](https://sentinels.copernicus.eu/web/sentinel/missions/sentinel-5p) and on [WEkEO](https://moi.wekeo.eu/data?view=dataset&dataset=EO%3AESA%3ADAT%3ASENTINEL-5P%3ATROPOMI)."
   ]
  },
  {
   "cell_type": "markdown",
   "metadata": {},
   "source": [
    "### <a id='cams'></a>Copernicus Atmosphere Monitoring Service (CAMS) Global Reanalysis (EAC4)"
   ]
  },
  {
   "cell_type": "markdown",
   "metadata": {},
   "source": [
    "EAC4 (ECMWF Atmospheric Composition Reanalysis 4) is the fourth generation ECMWF global reanalysis of atmospheric composition. Reanalysis combines model data with observations from across the world into a globally complete and consistent dataset using a model of the atmosphere based on the laws of physics and chemistry. \n",
    "\n",
    "`Reanalysis` does not have the constraint of issuing timely forecasts, so there is more time to collect observations, and when going further back in time, to allow for the ingestion of improved versions of the original observations, which all benefit the quality of the reanalysis product."
   ]
  },
  {
   "cell_type": "markdown",
   "metadata": {},
   "source": [
    "CAMS EAC4 offers data on atmospheric trace gases on single- and multi-level.  EAC4 data have a global spatial coverage with a 0.75 deg x 0.75 deg spatial resolution and a  three-hourly temporal resolution.\n",
    "\n",
    "Get more information about CAMS reanalysis at the official [data documentation](https://confluence.ecmwf.int/display/CKB/CAMS%3A+Reanalysis+data+documentation) and the [Copernicus Atmosphere Data Store](https://ads.atmosphere.copernicus.eu/cdsapp#!/dataset/cams-global-reanalysis-eac4?tab=overview)."
   ]
  },
  {
   "cell_type": "markdown",
   "metadata": {},
   "source": [
    "<br>"
   ]
  },
  {
   "cell_type": "markdown",
   "metadata": {},
   "source": [
    "<a href=\"./00_index.ipynb\"><< Index</a><span style=\"float:right;\"><a href=\"./10_sentinel5p_L2_retrieve.ipynb\">10 - Sentinel-5p Level 2 Carbon Monoxide - Retrieve>></a></span>"
   ]
  },
  {
   "cell_type": "markdown",
   "metadata": {},
   "source": [
    "<hr>"
   ]
  },
  {
   "cell_type": "markdown",
   "metadata": {},
   "source": [
    "<p><img src='./img/all_partners_wekeo.png' align='left' alt='Logo EU Copernicus' width='100%'></img></p>\n",
    "<br clear=left>\n",
    "<p style=\"text-align:left;\">This project is licensed under the <a href=\"./LICENSE\">MIT License</a> <span style=\"float:right;\"><a href=\"https://gitlab.eumetsat.int/eumetlab/atmosphere/atmosphere\">View on Github</a>"
   ]
  }
 ],
 "metadata": {
  "kernelspec": {
   "display_name": "Python 3",
   "language": "python",
   "name": "python3"
  },
  "language_info": {
   "codemirror_mode": {
    "name": "ipython",
    "version": 3
   },
   "file_extension": ".py",
   "mimetype": "text/x-python",
   "name": "python",
   "nbconvert_exporter": "python",
   "pygments_lexer": "ipython3",
   "version": "3.8.6"
  }
 },
 "nbformat": 4,
 "nbformat_minor": 2
}
