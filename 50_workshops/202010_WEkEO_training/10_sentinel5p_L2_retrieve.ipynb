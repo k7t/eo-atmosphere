{
 "cells": [
  {
   "cell_type": "markdown",
   "metadata": {
    "Collapsed": "false"
   },
   "source": [
    "<img src='./img/LogoWekeo_Copernicus_RGB_0.png' alt='Logo EU Copernicus EUMETSAT' align='right' width='20%'></img>"
   ]
  },
  {
   "cell_type": "markdown",
   "metadata": {
    "Collapsed": "false"
   },
   "source": [
    "<br>"
   ]
  },
  {
   "cell_type": "markdown",
   "metadata": {
    "Collapsed": "false"
   },
   "source": [
    "<a href=\"./00_index.ipynb\"><< Index</a><br>\n",
    "<a href=\"./01_wekeo_atmosphere_data_overview.ipynb\"><< 01 - Overview - Atmosphere data products on WEkEO</a><span style=\"float:right;\"><a href=\"./11_sentinel5p_L2_load_browse.ipynb\">11 - Sentinel-5P Carbon Monoxide - Load and browse >></a></span>"
   ]
  },
  {
   "cell_type": "markdown",
   "metadata": {},
   "source": [
    "<div class=\"alert alert-block alert-info\">\n",
    "<b>DATA RETRIEVE</b></div>"
   ]
  },
  {
   "cell_type": "markdown",
   "metadata": {
    "Collapsed": "false"
   },
   "source": [
    "# Copernicus Sentinel-5 Precursor (Sentinel-5p) - Carbon Monoxide"
   ]
  },
  {
   "cell_type": "markdown",
   "metadata": {},
   "source": [
    "The example below illustrates step-by-step how Copernicus Sentinel-5p carbon monoxide data can be retrieved from WEkEO with the help of the [Harmonized Data Access (HDA) API](https://wekeo.eu/hda-api).\n",
    "\n",
    "The HDA API workflow is a six-step process:\n",
    " - [1. Search for datasets on WEkEO](#wekeo_search)\n",
    " - [2. Get the API request](#wekeo_api_request)\n",
    " - [3. Get your WEkEO API key](#wekeo_api_key)\n",
    " - [4. Initialise the WEkEO Harmonised Data Access request](#wekeo_hda_request)\n",
    " - [5. Load data descriptor file and request data](#wekeo_json)\n",
    " - [6. Download requested data](#wekeo_download)\n",
    " \n",
    "All steps have to be performed in order to be able to retrieve data from WEkEO."
   ]
  },
  {
   "cell_type": "markdown",
   "metadata": {},
   "source": [
    "All HDA API functions needed to retrieve data are stored in the notebook [hda_api_functions](./hda_api_functions.ipynb)."
   ]
  },
  {
   "cell_type": "markdown",
   "metadata": {},
   "source": [
    "<hr>"
   ]
  },
  {
   "cell_type": "markdown",
   "metadata": {},
   "source": [
    "#### Load required libraries"
   ]
  },
  {
   "cell_type": "code",
   "execution_count": 1,
   "metadata": {},
   "outputs": [],
   "source": [
    "import os\n",
    "import sys\n",
    "import json\n",
    "import time\n",
    "import base64\n",
    "\n",
    "import requests\n",
    "import warnings\n",
    "warnings.filterwarnings('ignore')"
   ]
  },
  {
   "cell_type": "markdown",
   "metadata": {},
   "source": [
    "#### Load helper functions"
   ]
  },
  {
   "cell_type": "code",
   "execution_count": 2,
   "metadata": {},
   "outputs": [],
   "source": [
    "from ipynb.fs.full.hda_api_functions import *"
   ]
  },
  {
   "cell_type": "markdown",
   "metadata": {},
   "source": [
    "<hr>"
   ]
  },
  {
   "cell_type": "markdown",
   "metadata": {},
   "source": [
    "### <a id='wekeo_search'></a>1. Search for datasets on WEkEO"
   ]
  },
  {
   "cell_type": "markdown",
   "metadata": {},
   "source": [
    "Under [WEkEO DATA](https://www.wekeo.eu/data), you can search all datasets available on WEkEO. To add additional layers, you have to click on the `+` sign, which opens the `Catalogue` interface.\n",
    "There are two search options:<br> \n",
    "- a `free keyword search`, and \n",
    "- a pre-defined `predefined keyword search`, that helps to filter the data based on `area`, `platform`, `data provider` and more.<br> \n",
    "\n",
    "Under `PLATFORM`, you can select *`Sentinel-5P`* and retrieve the results. You can either directly add the data to the map or you can click on `Details`, which opens a dataset description.\n",
    "\n",
    "When you click on `Add to map...`, a window opens where you can select one specific variable of Sentinel-5p TROPOMI. \n",
    "\n",
    "<br>\n",
    "\n",
    "<div style='text-align:center;'>\n",
    "<figure><img src='./img/wekeo_interface_s5p_1.png' width='90%' />\n",
    "    <figcaption><i>WEkEO interface to search for datasets</i></figcaption>\n",
    "</figure>\n",
    "</div>"
   ]
  },
  {
   "cell_type": "markdown",
   "metadata": {},
   "source": [
    "### <a id='wekeo_api_request'></a>2. Get the API request"
   ]
  },
  {
   "cell_type": "markdown",
   "metadata": {},
   "source": [
    "When a layer is added to the map, you can select the download icon, which opens an interface that allows you to tailor your data request.\n",
    "For Sentinel-5P, the following information can be selected:\n",
    "* `Bounding box`\n",
    "* `Sensing start stop time`\n",
    "* `Processing level`\n",
    "* `Product type`\n",
    "\n",
    "Once you made your selection, you can either directly requet the data or you can click on `Show API request`, which opens a window with the HDA API request for the specific data selection.\n",
    "\n",
    "\n",
    "<br>\n",
    "\n",
    "<div style='text-align:center;'>\n",
    "<figure><img src='./img/wekeo_interface_s5p_2.png' width='80%' />\n",
    "    <figcaption><i>Sentinel-5p API request - Example</i></figcaption>\n",
    "</figure>\n",
    "</div>\n",
    "<br>"
   ]
  },
  {
   "cell_type": "markdown",
   "metadata": {},
   "source": [
    "`Copy` the API request and save it as a `JSON` file. We did the same and you can open the `data descriptor` file for Sentinel-5p [here](./s5p_data_descriptor.json)."
   ]
  },
  {
   "cell_type": "markdown",
   "metadata": {},
   "source": [
    "Each dataset on WEkEO is assigned a unique `datasetId`. Let us store the dataset ID for Sentinel-5p as a variable called `dataset_id` to be used later."
   ]
  },
  {
   "cell_type": "code",
   "execution_count": 7,
   "metadata": {},
   "outputs": [],
   "source": [
    "dataset_id = \"EO:ESA:DAT:SENTINEL-5P:TROPOMI\""
   ]
  },
  {
   "cell_type": "markdown",
   "metadata": {},
   "source": [
    "### <a id='wekeo_api_key'></a>3. Get the WEkEO API key"
   ]
  },
  {
   "cell_type": "markdown",
   "metadata": {},
   "source": [
    "In order to interact with WEkEO's Harmonised Data Access API, each user gets assigned an `API key` and `API token`. You will need the API key in order to download data in a programmatic way.\n",
    "\n",
    "The `api key` is generated by encoding your `username` and `password` to Base64. You can use the function [generate_api_key](./hda_api_functions.ipynb#generate_api_key) to programmatically generate your Base64-encoded api key. For this, you have to replace the 'username' and 'password' strings with your WEkEO username and password in the cell below.\n",
    "\n",
    "Alternatively, you can go to this [website](https://www.base64encode.org/) that allows you to manually encode your `username:password` combination. An example of an encoded key is `wekeo-test:wekeo-test`, which is encoded to `d2VrZW8tdGVzdDp3ZWtlby10ZXN0`.\n"
   ]
  },
  {
   "cell_type": "code",
   "execution_count": 3,
   "metadata": {},
   "outputs": [],
   "source": [
    "user_name = 'jwagemann'\n",
    "password = '91db7389e023'"
   ]
  },
  {
   "cell_type": "code",
   "execution_count": 4,
   "metadata": {},
   "outputs": [
    {
     "data": {
      "text/plain": [
       "'andhZ2VtYW5uOjkxZGI3Mzg5ZTAyMw=='"
      ]
     },
     "execution_count": 4,
     "metadata": {},
     "output_type": "execute_result"
    }
   ],
   "source": [
    "api_key = generate_api_key(user_name, password)\n",
    "api_key"
   ]
  },
  {
   "cell_type": "markdown",
   "metadata": {},
   "source": [
    "##### Alternative: enter manually the generated api key"
   ]
  },
  {
   "cell_type": "code",
   "execution_count": null,
   "metadata": {},
   "outputs": [],
   "source": [
    "#api_key = "
   ]
  },
  {
   "cell_type": "markdown",
   "metadata": {},
   "source": [
    "### <a id='wekeo_hda_request'></a>4. Initialise the Harmonised Data Access (HDA) API request"
   ]
  },
  {
   "cell_type": "markdown",
   "metadata": {},
   "source": [
    "In order to initialise an API request, you have to initialise a dictionary that contains information on `dataset_id`, `api_key` and `download_directory_path`.\n",
    "\n",
    "Please enter the path of the directory where the data shall be downloaded to."
   ]
  },
  {
   "cell_type": "code",
   "execution_count": 8,
   "metadata": {},
   "outputs": [],
   "source": [
    "# Enter here the directory path where you want to download the data to\n",
    "download_dir_path = './data/'"
   ]
  },
  {
   "cell_type": "markdown",
   "metadata": {},
   "source": [
    "With `dataset_id`, `api_key` and `download_dir_path`, you can initialise the dictionary with the function [init](./hda_api_functions.ipynb#init)."
   ]
  },
  {
   "cell_type": "code",
   "execution_count": 9,
   "metadata": {},
   "outputs": [],
   "source": [
    "hda_dict = init(dataset_id, api_key, download_dir_path)"
   ]
  },
  {
   "cell_type": "markdown",
   "metadata": {},
   "source": [
    "#### Request access token"
   ]
  },
  {
   "cell_type": "markdown",
   "metadata": {},
   "source": [
    "Once initialised, you can request an access token with the function [get_access_token](./hda_api_functions.ipynb#get_access_token). The access token is stored in the `hda_dict` dictionary.\n",
    "\n",
    "You might need to accept the Terms and Conditions, which you can do with the function [acceptTandC](./hda_api_functions.ipynb#acceptTandC)."
   ]
  },
  {
   "cell_type": "code",
   "execution_count": 10,
   "metadata": {},
   "outputs": [
    {
     "name": "stdout",
     "output_type": "stream",
     "text": [
      "Getting an access token. This token is valid for one hour only.\n",
      "Success: Access token is 54669f61-9b28-311e-92f7-499082201203\n"
     ]
    }
   ],
   "source": [
    "hda_dict = get_access_token(hda_dict)"
   ]
  },
  {
   "cell_type": "markdown",
   "metadata": {},
   "source": [
    "#### Accept Terms and Conditions (if applicable)"
   ]
  },
  {
   "cell_type": "code",
   "execution_count": 11,
   "metadata": {},
   "outputs": [
    {
     "name": "stdout",
     "output_type": "stream",
     "text": [
      "Copernicus_General_License Terms and Conditions already accepted\n"
     ]
    }
   ],
   "source": [
    "hda_dict = acceptTandC(hda_dict)"
   ]
  },
  {
   "cell_type": "markdown",
   "metadata": {},
   "source": [
    "### <a id='wekeo_json'></a>5. Load data descriptor file and request data"
   ]
  },
  {
   "cell_type": "markdown",
   "metadata": {},
   "source": [
    "The Harmonised Data Access API can read your data request from a `JSON` file. In this JSON-based file, you can describe the dataset you are interested in downloading. The file is in principle a dictionary. The following keys can be defined:\n",
    "- `datasetID`: the dataset's collection ID\n",
    "- `stringChoiceValues`: type of dataset, e.g. 'processing level' or 'product type'\n",
    "- `dataRangeSelectValues`: time period you would like to retrieve data\n",
    "- `boundingBoxValues`: optional to define a subset of a global field\n",
    "\n",
    "You can load the `JSON` file with `json.load()`."
   ]
  },
  {
   "cell_type": "code",
   "execution_count": 1,
   "metadata": {},
   "outputs": [
    {
     "ename": "NameError",
     "evalue": "name 'json' is not defined",
     "output_type": "error",
     "traceback": [
      "\u001b[0;31m---------------------------------------------------------------------------\u001b[0m",
      "\u001b[0;31mNameError\u001b[0m                                 Traceback (most recent call last)",
      "\u001b[0;32m<ipython-input-1-209e1476def5>\u001b[0m in \u001b[0;36m<module>\u001b[0;34m\u001b[0m\n\u001b[1;32m      1\u001b[0m \u001b[0;32mwith\u001b[0m \u001b[0mopen\u001b[0m\u001b[0;34m(\u001b[0m\u001b[0;34m'./s5p_data_descriptor.json'\u001b[0m\u001b[0;34m,\u001b[0m \u001b[0;34m'r'\u001b[0m\u001b[0;34m)\u001b[0m \u001b[0;32mas\u001b[0m \u001b[0mf\u001b[0m\u001b[0;34m:\u001b[0m\u001b[0;34m\u001b[0m\u001b[0;34m\u001b[0m\u001b[0m\n\u001b[0;32m----> 2\u001b[0;31m     \u001b[0mdata\u001b[0m \u001b[0;34m=\u001b[0m \u001b[0mjson\u001b[0m\u001b[0;34m.\u001b[0m\u001b[0mload\u001b[0m\u001b[0;34m(\u001b[0m\u001b[0mf\u001b[0m\u001b[0;34m)\u001b[0m\u001b[0;34m\u001b[0m\u001b[0;34m\u001b[0m\u001b[0m\n\u001b[0m\u001b[1;32m      3\u001b[0m \u001b[0mdata\u001b[0m\u001b[0;34m\u001b[0m\u001b[0;34m\u001b[0m\u001b[0m\n",
      "\u001b[0;31mNameError\u001b[0m: name 'json' is not defined"
     ]
    }
   ],
   "source": [
    "with open('./s5p_data_descriptor.json', 'r') as f:\n",
    "    data = json.load(f)\n",
    "data"
   ]
  },
  {
   "cell_type": "markdown",
   "metadata": {},
   "source": [
    "#### Initiate the request by assigning a job ID"
   ]
  },
  {
   "cell_type": "markdown",
   "metadata": {},
   "source": [
    "The function [get_job_id](./hda_api_functions.ipynb#get_job_id) will launch your data request and your request is assigned a `job ID`."
   ]
  },
  {
   "cell_type": "code",
   "execution_count": 28,
   "metadata": {},
   "outputs": [
    {
     "name": "stdout",
     "output_type": "stream",
     "text": [
      "Query successfully submitted. Job ID is s0jMzg-7zky7mpE4V0ug8urbAaM\n",
      "Query successfully submitted. Status is completed\n"
     ]
    }
   ],
   "source": [
    "hda_dict = get_job_id(hda_dict,data)"
   ]
  },
  {
   "cell_type": "markdown",
   "metadata": {},
   "source": [
    "#### Build list of file names to be ordered and downloaded"
   ]
  },
  {
   "cell_type": "markdown",
   "metadata": {},
   "source": [
    "The next step is to gather a list of file names available, based on your assigned `job ID`. The function [get_results_list](./hda_api_functions.ipynb#get_results_list) creates the list."
   ]
  },
  {
   "cell_type": "code",
   "execution_count": 29,
   "metadata": {},
   "outputs": [
    {
     "name": "stdout",
     "output_type": "stream",
     "text": [
      "************** Results *******************************n\n",
      "{\n",
      "     \"content\": []\n",
      "}\n",
      "*******************************************\n"
     ]
    }
   ],
   "source": [
    "hda_dict = get_results_list(hda_dict)"
   ]
  },
  {
   "cell_type": "markdown",
   "metadata": {},
   "source": [
    "#### Create an `order ID` for each file to be downloaded"
   ]
  },
  {
   "cell_type": "markdown",
   "metadata": {},
   "source": [
    "The next step is to create an `order ID` for each file name to be downloaded. You can use the function [get_order_ids](./hda_api_functions.ipynb#get_order_ids)."
   ]
  },
  {
   "cell_type": "code",
   "execution_count": 16,
   "metadata": {
    "scrolled": false
   },
   "outputs": [
    {
     "name": "stdout",
     "output_type": "stream",
     "text": [
      "Query successfully submitted. Order ID is o1Q2IJAORT0SErbTgmSEBv_pcrw\n",
      "Query successfully submitted. Status is completed\n",
      "Query successfully submitted. Order ID is BGmnnFv6natvGpUXpXwOnPxPYEI\n",
      "Query successfully submitted. Status is completed\n",
      "Query successfully submitted. Order ID is IbYzW0aFvMb5ggRT76xczZyABmQ\n",
      "Query successfully submitted. Status is completed\n",
      "Query successfully submitted. Order ID is n9suoVHwfC1x8Bjgye6c3jhZ10E\n",
      "Query successfully submitted. Status is completed\n",
      "Query successfully submitted. Order ID is eIVlTIc01cN0_bvWbtrR6ltPDXk\n",
      "Query successfully submitted. Status is completed\n",
      "Query successfully submitted. Order ID is ZK_A5RVZb-9RKQMcq50VBQjNkz4\n",
      "Query successfully submitted. Status is completed\n",
      "Query successfully submitted. Order ID is V5u3lvuX732IHtv-byMurlkAEQ0\n",
      "Query successfully submitted. Status is completed\n",
      "Query successfully submitted. Order ID is 5ZsIsinVUoxG_W6mGU-DevQX7Bs\n",
      "Query successfully submitted. Status is completed\n",
      "Query successfully submitted. Order ID is olZSMlRKu-PR7q-LTOpiIydMgk8\n",
      "Query successfully submitted. Status is completed\n",
      "Query successfully submitted. Order ID is yyA6nx9UCuPKRTpc5soRly-dZzI\n",
      "Query successfully submitted. Status is completed\n"
     ]
    }
   ],
   "source": [
    "hda_dict = get_order_ids(hda_dict)"
   ]
  },
  {
   "cell_type": "markdown",
   "metadata": {},
   "source": [
    "### <a id='wekeo_download'></a>6. Download requested data"
   ]
  },
  {
   "cell_type": "markdown",
   "metadata": {},
   "source": [
    "As a final step, you can use the function [download_data](./hda_api_functions.ipynb#download_data) to initialize the data download and to download each file that has been assigned an `order ID`. "
   ]
  },
  {
   "cell_type": "code",
   "execution_count": null,
   "metadata": {},
   "outputs": [],
   "source": [
    "download_data(hda_dict)"
   ]
  },
  {
   "cell_type": "markdown",
   "metadata": {
    "Collapsed": "false"
   },
   "source": [
    "<br>"
   ]
  },
  {
   "cell_type": "markdown",
   "metadata": {
    "Collapsed": "false"
   },
   "source": [
    "<a href=\"./00_index.ipynb\"><< Index</a><br>\n",
    "<a href=\"./01_wekeo_atmosphere_data_overview.ipynb\"><< 01 - Overview - Atmosphere data products on WEkEO</a><span style=\"float:right;\"><a href=\"./11_sentinel5p_L2_load_browse.ipynb\">11 - Sentinel-5P Carbon Monoxide - Load and browse >></a></span>"
   ]
  },
  {
   "cell_type": "markdown",
   "metadata": {
    "Collapsed": "false"
   },
   "source": [
    "<hr>"
   ]
  },
  {
   "cell_type": "markdown",
   "metadata": {
    "Collapsed": "false"
   },
   "source": [
    "<img src='./img/all_partners_wekeo.png' alt='Logo EU Copernicus EUMETSAT' align='right' width='100%'></img>"
   ]
  }
 ],
 "metadata": {
  "kernelspec": {
   "display_name": "Python 3",
   "language": "python",
   "name": "python3"
  },
  "language_info": {
   "codemirror_mode": {
    "name": "ipython",
    "version": 3
   },
   "file_extension": ".py",
   "mimetype": "text/x-python",
   "name": "python",
   "nbconvert_exporter": "python",
   "pygments_lexer": "ipython3",
   "version": "3.8.6"
  }
 },
 "nbformat": 4,
 "nbformat_minor": 4
}
