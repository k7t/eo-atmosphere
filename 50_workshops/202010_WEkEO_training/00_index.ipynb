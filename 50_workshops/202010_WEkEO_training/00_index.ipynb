{
 "cells": [
  {
   "cell_type": "markdown",
   "metadata": {},
   "source": [
    "<img src='./img/LogoWekeo_Copernicus_RGB_0.png' alt='Logo EU Copernicus EUMETSAT' align='right' width='20%'></img>"
   ]
  },
  {
   "cell_type": "markdown",
   "metadata": {},
   "source": [
    "# WEkEO Training Workshop - Focus on atmospheric data products"
   ]
  },
  {
   "cell_type": "markdown",
   "metadata": {},
   "source": [
    "This training is dedicated to atmospheric composition data available on `WEkEO` and features data from `Sentinel-5p`, `Sentinel-3` and the `Copernicus Atmosphere Monitoring Service`."
   ]
  },
  {
   "cell_type": "markdown",
   "metadata": {},
   "source": [
    "## Course Overview"
   ]
  },
  {
   "cell_type": "markdown",
   "metadata": {},
   "source": [
    "#### Overview of atmospheric data products on WEkEO\n",
    "- [Atmospheric data products on WEkEO - Overview](./01_wekeo_atmosphere_data_overview.ipynb)\n",
    "\n",
    "#### Sentinel-5P TROPOMI\n",
    "- [Sentinel-5P Level 2 Carbon Monoxide - Retrieve](./10_sentinel5p_L2_retrieve.ipynb)\n",
    "- [Sentinel-5P Level 2 Carbon Monoxide - Load and browse](./11_sentinel5p_L2_load_browse.ipynb)\n",
    "- [Sentinel-5P Level 2 Carbon Monoxide - Exercise](./12_sentinel5p_L2_exercise.ipynb)\n",
    "\n",
    "#### Sentinel-3 OLCI Level-1B RGB\n",
    "- [Sentinel-3 OLCI Level 1 RGB - Retrieve](./20_sentinel3_OLCI_L1_retrieve.ipynb)\n",
    "- [Sentinel-3 OLCI Level 1 RGB - Load and browse](./21_sentinel3_OLCI_L1_load_browse.ipynb)\n",
    "- [Sentinel-3 OLCI Level 1 RGB - Exercise](./22_sentinel3_OLCI_L1_exercise.ipynb)\n",
    "\n",
    "#### Copernicus Atmosphere Monitoring Service (CAMS) Global Reanalysis (EAC4)\n",
    "- [CAMS Global Reanalysis (EAC4) - Retrieve](./30_cams_eac4_retrieve.ipynb)\n",
    "- [CAMS Global Reanalysis (EAC4) - Load and browse](./31_cams_eac4_load_browse.ipynb)\n",
    "- [CAMS Global Reanalysis (EAC4) - Exercise](./32_cams_eac4_exercise.ipynb)"
   ]
  },
  {
   "cell_type": "markdown",
   "metadata": {},
   "source": [
    "<hr>"
   ]
  },
  {
   "cell_type": "markdown",
   "metadata": {},
   "source": [
    "<img src='./img/all_partners_wekeo.png' alt='Logo EU Copernicus EUMETSAT' align='right' width='100%'></img>"
   ]
  }
 ],
 "metadata": {
  "kernelspec": {
   "display_name": "Python 3",
   "language": "python",
   "name": "python3"
  },
  "language_info": {
   "codemirror_mode": {
    "name": "ipython",
    "version": 3
   },
   "file_extension": ".py",
   "mimetype": "text/x-python",
   "name": "python",
   "nbconvert_exporter": "python",
   "pygments_lexer": "ipython3",
   "version": "3.8.6"
  }
 },
 "nbformat": 4,
 "nbformat_minor": 2
}
