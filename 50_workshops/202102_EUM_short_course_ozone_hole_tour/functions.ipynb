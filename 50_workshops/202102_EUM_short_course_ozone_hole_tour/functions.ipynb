{
 "cells": [
  {
   "cell_type": "markdown",
   "metadata": {
    "Collapsed": "false"
   },
   "source": [
    "<img src='./img/EU-Copernicus-EUM_3Logos.png' alt='Logo EU Copernicus EUMETSAT' align='right' width='50%'></img>"
   ]
  },
  {
   "cell_type": "markdown",
   "metadata": {
    "Collapsed": "false"
   },
   "source": [
    "<br>"
   ]
  },
  {
   "cell_type": "markdown",
   "metadata": {
    "Collapsed": "false"
   },
   "source": [
    "# LTPy functions"
   ]
  },
  {
   "cell_type": "markdown",
   "metadata": {},
   "source": [
    "This notebook lists all `functions` that are defined and used throughout the `LTPy course`.\n",
    "The following functions are listed:\n",
    "\n",
    "**[Data loading and re-shaping functions](#load_reshape)**\n",
    "* [generate_xr_from_1D_vec](#generate_xr_from_1D_vec)\n",
    "* [load_l2_data_xr](#load_l2_data_xr)\n",
    "* [generate_geographical_subset](#generate_geographical_subset)\n",
    "* [generate_masked_array](#generate_masked_array)\n",
    "* [load_masked_l2_da](#load_masked_l2_da)\n",
    "* [select_channels_for_rgb](#rgb_channels)\n",
    "* [normalize](#normalize)\n",
    "* [slstr_frp_gridding](#slstr_frp_gridding)\n",
    "* [df_subset](#df_subset)\n",
    "\n",
    "**[Data visualization functions](#visualization)**\n",
    "* [visualize_scatter](#visualize_scatter)\n",
    "* [visualize_pcolormesh](#visualize_pcolormesh)\n",
    "* [visualize_s3_pcolormesh](#visualize_s3_pcolormesh)\n",
    "* [visualize_s3_frp](#visualize_s3_frp)\n",
    "* [viusalize_s3_aod](#visualize_s3_aod)"
   ]
  },
  {
   "cell_type": "markdown",
   "metadata": {},
   "source": [
    "<hr>"
   ]
  },
  {
   "cell_type": "markdown",
   "metadata": {},
   "source": [
    "#### Load required libraries"
   ]
  },
  {
   "cell_type": "code",
   "execution_count": 2,
   "metadata": {
    "Collapsed": "false"
   },
   "outputs": [],
   "source": [
    "import os\n",
    "from matplotlib import pyplot as plt\n",
    "\n",
    "import xarray as xr\n",
    "from netCDF4 import Dataset\n",
    "import numpy as np\n",
    "import glob\n",
    "\n",
    "from matplotlib import pyplot as plt\n",
    "import matplotlib.colors\n",
    "from matplotlib.colors import LogNorm\n",
    "import cartopy.crs as ccrs\n",
    "from cartopy.mpl.gridliner import LONGITUDE_FORMATTER, LATITUDE_FORMATTER\n",
    "import cartopy.feature as cfeature\n",
    "import matplotlib.cm as cm\n",
    "\n",
    "import warnings\n",
    "warnings.simplefilter(action = \"ignore\", category = RuntimeWarning)\n",
    "warnings.simplefilter(action = \"ignore\", category = FutureWarning)"
   ]
  },
  {
   "cell_type": "markdown",
   "metadata": {},
   "source": [
    "<hr>"
   ]
  },
  {
   "cell_type": "markdown",
   "metadata": {},
   "source": [
    "## <a id=\"load_reshape\"></a>Data loading and re-shaping functions"
   ]
  },
  {
   "cell_type": "markdown",
   "metadata": {},
   "source": [
    "### <a id='generate_xr_from_1D_vec'></a>`generate_xr_from_1D_vec`"
   ]
  },
  {
   "cell_type": "code",
   "execution_count": 1,
   "metadata": {},
   "outputs": [],
   "source": [
    "def generate_xr_from_1D_vec(file, lat_path, lon_path, variable, parameter_name, longname, no_of_dims, unit):\n",
    "    \"\"\" \n",
    "    Takes a netCDF4.Dataset or xarray.DataArray object and returns a xarray.DataArray object with latitude / longitude\n",
    "    information as coordinate information\n",
    "    \n",
    "    Parameters:\n",
    "        file(netCDF4 data file or xarray.Dataset): AC SAF or IASI Level 2 data file, loaded a netCDF4.Dataset or xarray.DataArray\n",
    "        lat_path(str): internal path of the data file to the latitude information, e.g. 'GEOLOCATION/LatitudeCentre'\n",
    "        lon_path(str): internal path of the data file to the longitude information, e.g. 'GEOLOCATION/LongitudeCentre'\n",
    "        variable(array): extracted variable of interested\n",
    "        parameter_name(str): parameter name, preferably extracted from the data file\n",
    "        longname(str): Long name of the parameter, preferably extracted from the data file\n",
    "        no_of_dims(int): Define the number of dimensions of your input array\n",
    "        unit(str): Unit of the parameter, preferably extracted from the data file\n",
    "    \n",
    "    Returns:\n",
    "        1 or 2-dimensional (depending on the given number of dimensions) xarray.DataArray  with latitude / longitude information \n",
    "        as coordinate information\n",
    "    \"\"\"\n",
    "    latitude = file[lat_path]\n",
    "    longitude = file[lon_path]\n",
    "    param = variable \n",
    "    \n",
    "    if (no_of_dims==1):\n",
    "        param_da = xr.DataArray(\n",
    "            param[:],\n",
    "            dims=('ground_pixel'),\n",
    "            coords={\n",
    "                'latitude': ('ground_pixel', latitude[:]),\n",
    "                'longitude': ('ground_pixel', longitude[:])\n",
    "            },\n",
    "            attrs={'long_name': longname, 'units': unit},\n",
    "            name=parameter_name\n",
    "        )\n",
    "    else:\n",
    "        param_da = xr.DataArray(\n",
    "            param[:],\n",
    "            dims=[\"x\",\"y\"],\n",
    "            coords={\n",
    "                'latitude':(['x','y'],latitude[:]),\n",
    "                'longitude':(['x','y'],longitude[:])\n",
    "            },\n",
    "            attrs={'long_name': longname, 'units': unit},\n",
    "            name=parameter_name\n",
    "        )\n",
    "        \n",
    "    return param_da"
   ]
  },
  {
   "cell_type": "markdown",
   "metadata": {
    "Collapsed": "false"
   },
   "source": [
    "### <a id='load_l2_data_xr'></a>`load_l2_data_xr`"
   ]
  },
  {
   "cell_type": "code",
   "execution_count": 2,
   "metadata": {},
   "outputs": [],
   "source": [
    "def load_l2_data_xr(directory, internal_filepath, parameter, lat_path, lon_path, no_of_dims, \n",
    "                    paramname, unit, longname):\n",
    "    \"\"\" \n",
    "    Loads a Metop-A/B Level 2 dataset in HDF format and returns a xarray.DataArray with all the ground pixels of all directory \n",
    "    files. Uses function 'generate_xr_from_1D_vec' to generate the xarray.DataArray.\n",
    "    \n",
    "    Parameters:\n",
    "        directory(str): directory where the HDF files are stored\n",
    "        internal_filepath(str): internal path of the data file that is of interest, e.g. TOTAL_COLUMNS\n",
    "        parameter(str): paramter that is of interest, e.g. NO2\n",
    "        lat_path(str): name of latitude variable\n",
    "        lon_path(str): name of longitude variable\n",
    "        no_of_dims(int): number of dimensions of input array\n",
    "        paramname(str): name of parameter\n",
    "        unit(str): unit of the parameter, preferably taken from the data file\n",
    "        longname(str): longname of the parameter, preferably taken from the data file\n",
    "    \n",
    "    Returns:\n",
    "        1 or 2-dimensional xarray.DataArray with latitude / longitude information as coordinate information\n",
    "    \"\"\"\n",
    "    fileList = glob.glob(directory+'/*')\n",
    "    datasets = []\n",
    "\n",
    "    for i in fileList:\n",
    "        tmp=Dataset(i)\n",
    "        param=tmp[internal_filepath+'/'+parameter]\n",
    "        da_tmp= generate_xr_from_1D_vec(tmp,lat_path, lon_path,\n",
    "                                param, paramname, longname, no_of_dims, unit)\n",
    "        if(no_of_dims==1):\n",
    "            datasets.append(da_tmp)\n",
    "        else:\n",
    "            da_tmp_st = da_tmp.stack(ground_pixel=('x','y'))\n",
    "            datasets.append(da_tmp_st)\n",
    "\n",
    "    return xr.concat(datasets, dim='ground_pixel')"
   ]
  },
  {
   "cell_type": "markdown",
   "metadata": {
    "Collapsed": "false"
   },
   "source": [
    "### <a id='generate_geographical_subset'></a>`generate_geographical_subset`"
   ]
  },
  {
   "cell_type": "code",
   "execution_count": 1,
   "metadata": {
    "Collapsed": "false"
   },
   "outputs": [],
   "source": [
    "def generate_geographical_subset(xarray, latmin, latmax, lonmin, lonmax, reassign=False):\n",
    "    \"\"\" \n",
    "    Generates a geographical subset of a xarray.DataArray and if kwarg reassign=True, shifts the longitude grid \n",
    "    from a 0-360 to a -180 to 180 deg grid.\n",
    "    \n",
    "    Parameters:\n",
    "        xarray(xarray.DataArray): a xarray DataArray with latitude and longitude coordinates\n",
    "        latmin, latmax, lonmin, lonmax(int): lat/lon boundaries of the geographical subset\n",
    "        reassign(boolean): default is False\n",
    "        \n",
    "    Returns:\n",
    "        Geographical subset of a xarray.DataArray.\n",
    "    \"\"\"   \n",
    "    if(reassign):\n",
    "        xarray = xarray.assign_coords(longitude=(((xarray.longitude + 180) % 360) - 180))\n",
    "    return xarray.where((xarray.latitude < latmax) & (xarray.latitude > latmin) & (xarray.longitude < lonmax) & (xarray.longitude > lonmin),drop=True)"
   ]
  },
  {
   "cell_type": "markdown",
   "metadata": {
    "Collapsed": "false"
   },
   "source": [
    "### <a id='generate_masked_array'></a>`generate_masked_array`"
   ]
  },
  {
   "cell_type": "code",
   "execution_count": 5,
   "metadata": {
    "Collapsed": "false"
   },
   "outputs": [],
   "source": [
    "def generate_masked_array(xarray, mask, threshold, operator, drop=True):\n",
    "    \"\"\" \n",
    "    Applies a mask (e.g. a cloud mask) onto a given xarray.DataArray, based on a given threshold and operator.\n",
    "    \n",
    "    Parameters:\n",
    "        xarray(xarray DataArray): a three-dimensional xarray.DataArray object\n",
    "        mask(xarray DataArray): 1-dimensional xarray.DataArray, e.g. cloud fraction values\n",
    "        threshold(float): any number specifying the threshold\n",
    "        operator(str): operator how to mask the array, e.g. '<', '>' or '!='\n",
    "        drop(boolean): default is True\n",
    "        \n",
    "    Returns:\n",
    "        Masked xarray.DataArray with NaN values dropped, if kwarg drop equals True\n",
    "    \"\"\"\n",
    "    if(operator=='<'):\n",
    "        cloud_mask = xr.where(mask < threshold, 1, 0) #Generate cloud mask with value 1 for the pixels we want to keep\n",
    "    elif(operator=='!='):\n",
    "        cloud_mask = xr.where(mask != threshold, 1, 0)\n",
    "    elif(operator=='>'):\n",
    "        cloud_mask = xr.where(mask > threshold, 1, 0)\n",
    "    else:\n",
    "        cloud_mask = xr.where(mask == threshold, 1, 0)\n",
    "            \n",
    "    xarray_masked = xr.where(cloud_mask ==1, xarray, np.nan) #Apply mask onto the DataArray\n",
    "    xarray_masked.attrs = xarray.attrs #Set DataArray attributes \n",
    "    if(drop):\n",
    "        return xarray_masked[~np.isnan(xarray_masked)] #Return masked DataArray\n",
    "    else:\n",
    "        return xarray_masked"
   ]
  },
  {
   "cell_type": "markdown",
   "metadata": {
    "Collapsed": "false"
   },
   "source": [
    "### <a id='load_masked_l2_da'></a>`load_masked_l2_da`"
   ]
  },
  {
   "cell_type": "code",
   "execution_count": 1,
   "metadata": {
    "Collapsed": "false"
   },
   "outputs": [],
   "source": [
    "def load_masked_l2_da(directory, internal_filepath, parameter, lat_path, lon_path, no_of_dims, \n",
    "                      paramname, longname, unit, threshold, operator):\n",
    "    \"\"\" \n",
    "    Loads a Metop-A/B Gome-2 Level 2 data and cloud fraction information and \n",
    "    returns a masked xarray.DataArray. It combines the functions `load_l2_data_xr` and `generate_masked_array`.\n",
    "    \n",
    "    Parameters:\n",
    "        directory(str): Path to directory with Level 2 data files.\n",
    "        internal_filepath(str): Internal file path under which the parameters are strored, e.g. TOTAL_COLUMNS\n",
    "        parameter(str): atmospheric parameter, e.g. NO2\n",
    "        lat_path(str): name of the latitude variable within the file\n",
    "        lon_path(str): path to the longitude variable within the file\n",
    "        no_of_dims(int): specify the number of dimensions, 1 or 2\n",
    "        paramname(str): parameter name\n",
    "        longname(str): long name of the parameter that shall be used\n",
    "        unit(str): unit of the parameter\n",
    "        threshold(float): any number specifying the threshold\n",
    "        operator(str): operator how to mask the xarray.DataArray, e.g. '<', '>' or '!='\n",
    "        \n",
    "    Returns:\n",
    "        Masked xarray.DataArray keeping NaN values (drop=False)\n",
    "    \"\"\"  \n",
    "    da = load_l2_data_xr(directory, \n",
    "                         internal_filepath, \n",
    "                         parameter, \n",
    "                         lat_path, \n",
    "                         lon_path, \n",
    "                         no_of_dims, \n",
    "                         paramname, \n",
    "                         unit, \n",
    "                         longname)\n",
    "    \n",
    "    cloud_fraction = load_l2_data_xr(directory, \n",
    "                                     'CLOUD_PROPERTIES', \n",
    "                                     'CloudFraction', \n",
    "                                     lat_path, \n",
    "                                     lon_path, \n",
    "                                     no_of_dims, \n",
    "                                     'CloudFraction', \n",
    "                                     unit='-', \n",
    "                                     longname='Cloud Fraction')\n",
    "    \n",
    "    return generate_masked_array(da, cloud_fraction, threshold, operator, drop=False)"
   ]
  },
  {
   "cell_type": "markdown",
   "metadata": {},
   "source": [
    "### <a id='rgb_channels'></a> `select_channels_for_rgb`"
   ]
  },
  {
   "cell_type": "code",
   "execution_count": null,
   "metadata": {},
   "outputs": [],
   "source": [
    "def select_channels_for_rgb(xarray, red_channel, green_channel, blue_channel):\n",
    "    \"\"\" \n",
    "    Selects the channels / bands of a multi-dimensional xarray for red, green and blue composite based on Sentinel-3\n",
    "    OLCI Level 1B data.\n",
    "    \n",
    "    Parameters:\n",
    "        xarray(xarray.Dataset): xarray.Dataset object that stores the different channels / bands.\n",
    "        red_channel(str): Name of red channel to be selected\n",
    "        green_channel(str): Name of green channel to be selected\n",
    "        blue_channel(str): Name of blue channel to be selected\n",
    "\n",
    "    Returns:\n",
    "        Three xarray DataArray objects with selected channels / bands\n",
    "    \"\"\"  \n",
    "    return xarray[red_channel], xarray[green_channel], xarray[blue_channel]"
   ]
  },
  {
   "cell_type": "markdown",
   "metadata": {},
   "source": [
    "## <a id='normalize'></a> `normalize`"
   ]
  },
  {
   "cell_type": "code",
   "execution_count": 1,
   "metadata": {},
   "outputs": [],
   "source": [
    "def normalize(array):\n",
    "    \"\"\" \n",
    "    Normalizes a numpy array / xarray.DataArray object to values between 0 and 1.\n",
    "    \n",
    "    Parameters:\n",
    "        xarray(numpy array or xarray.DataArray): xarray.DataArray or numpy array object whose values should be\n",
    "        normalized.\n",
    "\n",
    "    Returns:\n",
    "        xarray.DataArray with normalized values\n",
    "    \"\"\" \n",
    "    array_min, array_max = array.min(), array.max()\n",
    "    return ((array - array_min)/(array_max - array_min))"
   ]
  },
  {
   "cell_type": "markdown",
   "metadata": {},
   "source": [
    "### <a id='slstr_frp_gridding'></a>`slstr_frp_gridding`"
   ]
  },
  {
   "cell_type": "code",
   "execution_count": 2,
   "metadata": {},
   "outputs": [],
   "source": [
    "def slstr_frp_gridding(parameter_array, parameter, lat_min, lat_max, lon_min, lon_max, \n",
    "                       sampling_lat_FRP_grid, sampling_lon_FRP_grid, n_fire, lat_frp, lon_frp, **kwargs):\n",
    "    \"\"\" \n",
    "    Produces gridded data of Sentinel-3 SLSTR NRT Fire Radiative Power Data\n",
    "    \n",
    "    Parameters:\n",
    "        parameter_array(xarray.DataArray): xarray.DataArray with extracted data variable of fire occurences\n",
    "        parameter(str): NRT S3 FRP channel - either `mwir`, `swir` or `swir_nosaa`\n",
    "        lat_min, lat_max, lon_min, lon_max(float): Floats of geographical bounding box\n",
    "        sampling_lat_FRP_grid, sampling_long_FRP_grid(float): Float of grid cell size\n",
    "        n_fire(int): Number of fire occurences\n",
    "        lat_frp(xarray.DataArray): Latitude values of occurred fire events\n",
    "        lon_frp(xarray.DataArray): Longitude values of occurred fire events\n",
    "        **kwargs: additional keyword arguments to be added. Required for parameter `swir_nosaa`, where the function\n",
    "                  requires the xarray.DataArray with the SAA FLAG information.  \n",
    "\n",
    "    Returns:\n",
    "        the gridded xarray.Data Array and latitude and longitude grid information\n",
    "    \"\"\" \n",
    "    n_lat = int( (np.float32(lat_max) - np.float32(lat_min)) / sampling_lat_FRP_grid ) + 1 # Number of rows per latitude sampling\n",
    "    n_lon = int( (np.float32(lon_max) - np.float32(lon_min)) / sampling_lon_FRP_grid ) + 1 # Number of lines per longitude sampling\n",
    "\n",
    "    \n",
    "    slstr_frp_gridded = np.zeros( [n_lat, n_lon], dtype='float32' ) - 9999.\n",
    "\n",
    "    lat_grid = np.zeros( [n_lat, n_lon], dtype='float32' ) - 9999.\n",
    "    lon_grid = np.zeros( [n_lat, n_lon], dtype='float32' ) - 9999.\n",
    "    \n",
    "    if (n_fire >= 0):\n",
    "    \n",
    "    # Loop on i_lat: begins\n",
    "        for i_lat in range(n_lat):\n",
    "                    \n",
    "        # Loop on i_lon: begins\n",
    "            for i_lon in range(n_lon):\n",
    "                        \n",
    "                lat_grid[i_lat, i_lon] = lat_min + np.float32(i_lat) * sampling_lat_FRP_grid + sampling_lat_FRP_grid / 2.\n",
    "                lon_grid[i_lat, i_lon] = lon_min + np.float32(i_lon) * sampling_lon_FRP_grid + sampling_lon_FRP_grid / 2.\n",
    "                            \n",
    "            # Gridded SLSTR FRP MWIR Night - All days\n",
    "                if(parameter=='swir_nosaa'):\n",
    "                    FLAG_FRP_SWIR_SAA_nc = kwargs.get('flag', None)\n",
    "                    mask_grid = np.where( \n",
    "                        (lat_frp[:] >= lat_min + np.float32(i_lat) * sampling_lat_FRP_grid)  & \n",
    "                        (lat_frp[:] < lat_min + np.float32(i_lat+1) * sampling_lat_FRP_grid) & \n",
    "                        (lon_frp[:] >= lon_min + np.float32(i_lon) * sampling_lon_FRP_grid)  & \n",
    "                        (lon_frp[:] < lon_min + np.float32(i_lon+1) * sampling_lon_FRP_grid) &\n",
    "                        (parameter_array[:] != -1.) & (FLAG_FRP_SWIR_SAA_nc[:] == 0), False, True)\n",
    "                else:\n",
    "                    mask_grid = np.where( \n",
    "                        (lat_frp[:] >= lat_min + np.float32(i_lat) * sampling_lat_FRP_grid)  & \n",
    "                        (lat_frp[:] < lat_min + np.float32(i_lat+1) * sampling_lat_FRP_grid) & \n",
    "                        (lon_frp[:] >= lon_min + np.float32(i_lon) * sampling_lon_FRP_grid)  & \n",
    "                        (lon_frp[:] < lon_min + np.float32(i_lon+1) * sampling_lon_FRP_grid) &\n",
    "                        (parameter_array[:] != -1.),  False, True)\n",
    "                            \n",
    "                masked_slstr_frp_grid = np.ma.array(parameter_array[:], mask=mask_grid)\n",
    "                            \n",
    "                if len(masked_slstr_frp_grid.compressed()) != 0:\n",
    "                    slstr_frp_gridded[i_lat, i_lon]  = np.sum(masked_slstr_frp_grid.compressed())\n",
    "    return slstr_frp_gridded, lat_grid, lon_grid\n",
    "    "
   ]
  },
  {
   "cell_type": "markdown",
   "metadata": {},
   "source": [
    "### <a id='df_subset'></a>`df_subset`"
   ]
  },
  {
   "cell_type": "code",
   "execution_count": null,
   "metadata": {},
   "outputs": [],
   "source": [
    "def df_subset(df,low_bound1, high_bound1, low_bound2, high_bound2):\n",
    "    \"\"\" \n",
    "    Creates a subset of a pandas.DataFrame object with time-series information\n",
    "    \n",
    "    Parameters:\n",
    "        df(pandas.DataFrame): pandas.DataFrame with time-series information\n",
    "        low_bound1(str): dateTime string, e.g. '2018-11-30'\n",
    "        high_bound1(str): dateTime string, e.g. '2018-12-01'\n",
    "        low_bound2(str): dateTime string, e.g. '2019-12-30'\n",
    "        high_bound2(str): dateTime string, e.g. '2020-01-15'\n",
    "\n",
    "    Returns:\n",
    "        the subsetted time-series as pandas.DataFrame object\n",
    "    \"\"\" \n",
    "    return df[(df.index>low_bound1) & (df.index<high_bound1)], df[(df.index>low_bound2) & (df.index<high_bound2)]\n"
   ]
  },
  {
   "cell_type": "markdown",
   "metadata": {},
   "source": [
    "<hr>"
   ]
  },
  {
   "cell_type": "markdown",
   "metadata": {},
   "source": [
    "## <a id=\"visualization\"></a>Data visualization functions"
   ]
  },
  {
   "cell_type": "markdown",
   "metadata": {
    "Collapsed": "false"
   },
   "source": [
    "### <a id='visualize_scatter'></a>`visualize_scatter`"
   ]
  },
  {
   "cell_type": "code",
   "execution_count": 4,
   "metadata": {
    "Collapsed": "false"
   },
   "outputs": [],
   "source": [
    "def visualize_scatter(xr_dataarray, conversion_factor, projection, vmin, vmax, point_size, color_scale, unit, \n",
    "                      title):\n",
    "    \"\"\" \n",
    "    Visualizes a xarray.DataArray in a given projection using matplotlib's scatter function.\n",
    "    \n",
    "    Parameters:\n",
    "        xr_dataarray(xarray.DataArray): a one-dimensional xarray DataArray object with latitude and longitude information as coordinates\n",
    "        conversion_factor(int): any number to convert the DataArray values\n",
    "        projection(str): choose one of cartopy's projection, e.g. ccrs.PlateCarree()\n",
    "        vmin(int): minimum number on visualisation legend\n",
    "        vmax(int): maximum number on visualisation legend\n",
    "        point_size(int): size of marker, e.g. 5\n",
    "        color_scale(str): string taken from matplotlib's color ramp reference\n",
    "        unit(str): define the unit to be added to the color bar\n",
    "        title(str): define title of the plot\n",
    "    \"\"\"\n",
    "    fig, ax = plt.subplots(figsize=(40, 10))\n",
    "    ax = plt.axes(projection=projection)\n",
    "\n",
    "    ax.coastlines()\n",
    "    \n",
    "    if (projection==ccrs.PlateCarree()):\n",
    "        gl = ax.gridlines(draw_labels=True, linestyle='--')\n",
    "        gl.top_labels=False\n",
    "        gl.right_labels=False\n",
    "        gl.xformatter=LONGITUDE_FORMATTER\n",
    "        gl.yformatter=LATITUDE_FORMATTER\n",
    "        gl.xlabel_style={'size':14}\n",
    "        gl.ylabel_style={'size':14}\n",
    "\n",
    "    # plot pixel positions\n",
    "    img = ax.scatter(\n",
    "        xr_dataarray.longitude.data,\n",
    "        xr_dataarray.latitude.data,\n",
    "        c=xr_dataarray.data*conversion_factor,\n",
    "        cmap=plt.cm.get_cmap(color_scale),\n",
    "        marker='o',\n",
    "        s=point_size,\n",
    "        transform=ccrs.PlateCarree(),\n",
    "        vmin=vmin,\n",
    "        vmax=vmax\n",
    "    )\n",
    "\n",
    "    plt.xticks(fontsize=16)\n",
    "    plt.yticks(fontsize=16)\n",
    "    plt.xlabel(\"Longitude\", fontsize=16)\n",
    "    plt.ylabel(\"Latitude\", fontsize=16)\n",
    "    cbar = fig.colorbar(img, ax=ax, orientation='horizontal', fraction=0.04, pad=0.1)\n",
    "    cbar.set_label(unit, fontsize=16)\n",
    "    cbar.ax.tick_params(labelsize=14)\n",
    "    ax.set_title(title, fontsize=20, pad=20.0)\n",
    "    plt.show()"
   ]
  },
  {
   "cell_type": "markdown",
   "metadata": {
    "Collapsed": "false"
   },
   "source": [
    "### <a id='visualize_pcolormesh'></a>`visualize_pcolormesh`"
   ]
  },
  {
   "cell_type": "code",
   "execution_count": 1,
   "metadata": {
    "Collapsed": "false"
   },
   "outputs": [],
   "source": [
    "def visualize_pcolormesh(data_array, longitude, latitude, projection, color_scale, unit, long_name, vmin, vmax, \n",
    "                         set_global=True, lonmin=-180, lonmax=180, latmin=-90, latmax=90):\n",
    "    \"\"\" \n",
    "    Visualizes a xarray.DataArray with matplotlib's pcolormesh function.\n",
    "    \n",
    "    Parameters:\n",
    "        data_array(xarray.DataArray): xarray.DataArray holding the data values\n",
    "        longitude(xarray.DataArray): xarray.DataArray holding the longitude values\n",
    "        latitude(xarray.DataArray): xarray.DataArray holding the latitude values\n",
    "        projection(str): a projection provided by the cartopy library, e.g. ccrs.PlateCarree()\n",
    "        color_scale(str): string taken from matplotlib's color ramp reference\n",
    "        unit(str): the unit of the parameter, taken from the NetCDF file if possible\n",
    "        long_name(str): long name of the parameter, taken from the NetCDF file if possible\n",
    "        vmin(int): minimum number on visualisation legend\n",
    "        vmax(int): maximum number on visualisation legend\n",
    "        set_global(boolean): optional kwarg, default is True\n",
    "        lonmin,lonmax,latmin,latmax(float): optional kwarg, set geographic extent is set_global kwarg is set to \n",
    "                                            False\n",
    "\n",
    "    \"\"\"\n",
    "    fig=plt.figure(figsize=(20, 10))\n",
    "\n",
    "    ax = plt.axes(projection=projection)\n",
    "\n",
    "#    fig, ax = plt.subplots(nrows=1, ncols=1,figsize=(20,10),subplot_kw=dict(projection=projection))\n",
    "   \n",
    "    img = ax.pcolormesh(longitude, latitude, data_array, \n",
    "                        cmap=plt.get_cmap(color_scale), transform=ccrs.PlateCarree(),\n",
    "                        vmin=vmin,\n",
    "                        vmax=vmax,\n",
    "                        shading='auto')\n",
    "\n",
    "    ax.add_feature(cfeature.BORDERS, edgecolor='black', linewidth=1)\n",
    "    ax.add_feature(cfeature.COASTLINE, edgecolor='black', linewidth=1)\n",
    "\n",
    "    if (projection==ccrs.PlateCarree()):\n",
    "        ax.set_extent([lonmin, lonmax, latmin, latmax], projection)\n",
    "        gl = ax.gridlines(draw_labels=True, linestyle='--')\n",
    "        gl.top_labels=False\n",
    "        gl.right_labels=False\n",
    "        gl.xformatter=LONGITUDE_FORMATTER\n",
    "        gl.yformatter=LATITUDE_FORMATTER\n",
    "        gl.xlabel_style={'size':14}\n",
    "        gl.ylabel_style={'size':14}\n",
    "\n",
    "    if(set_global):\n",
    "        ax.set_global()\n",
    "        ax.gridlines()\n",
    "\n",
    "    cbar = fig.colorbar(img, ax=ax, orientation='horizontal', fraction=0.04, pad=0.1)\n",
    "    cbar.set_label(unit, fontsize=16)\n",
    "    cbar.ax.tick_params(labelsize=14)\n",
    "    ax.set_title(long_name, fontsize=20, pad=20.0)\n",
    "\n",
    " #   plt.show()\n",
    "    return fig, ax"
   ]
  },
  {
   "cell_type": "markdown",
   "metadata": {},
   "source": [
    "### <a id='visualize_s3_pcolormesh'></a>`visualize_s3_pcolormesh`"
   ]
  },
  {
   "cell_type": "code",
   "execution_count": 1,
   "metadata": {},
   "outputs": [],
   "source": [
    "def visualize_s3_pcolormesh(color_array, array, latitude, longitude, title):\n",
    "    \"\"\" \n",
    "    Visualizes a xarray.DataArray or numpy.MaskedArray (Sentinel-3 OLCI Level 1 data) with matplotlib's pcolormesh function as RGB image.\n",
    "    \n",
    "    Parameters:\n",
    "        color_array (numpy.MaskedArray): any numpy.MaskedArray, e.g. loaded with the NetCDF library and the Dataset function\n",
    "        array(numpy.Array): numpy.Array to get dimensions of the resulting plot\n",
    "        longitude (numpy.Array): array with longitude values\n",
    "        latitude (numpy.Array) : array with latitude values\n",
    "        title (str): title of the resulting plot\n",
    "    \"\"\"\n",
    "    fig=plt.figure(figsize=(20, 12))\n",
    "\n",
    "    ax=plt.axes(projection=ccrs.Mercator())\n",
    "    ax.coastlines()\n",
    "\n",
    "    gl = ax.gridlines(draw_labels=True, linestyle='--')\n",
    "    gl.top_labels=False\n",
    "    gl.right_labels=False\n",
    "    gl.xformatter=LONGITUDE_FORMATTER\n",
    "    gl.yformatter=LATITUDE_FORMATTER\n",
    "    gl.xlabel_style={'size':14}\n",
    "    gl.ylabel_style={'size':14}\n",
    "\n",
    "    img1 = plt.pcolormesh(longitude, latitude, array*np.nan, color=color_array,\n",
    "                          clip_on = True,\n",
    "                          edgecolors=None,\n",
    "                          zorder=0,\n",
    "                          transform=ccrs.PlateCarree())\n",
    "    ax.set_title(title, fontsize=20, pad=20.0)\n",
    "    plt.show()"
   ]
  },
  {
   "cell_type": "markdown",
   "metadata": {},
   "source": [
    "### <a id='visualize_s3_frp'></a> `visualize_s3_frp`"
   ]
  },
  {
   "cell_type": "code",
   "execution_count": 7,
   "metadata": {},
   "outputs": [],
   "source": [
    "def visualize_s3_frp(data, lat, lon, unit, longname, textstr_1, textstr_2, vmax):\n",
    "    \"\"\" \n",
    "    Visualizes a numpy.Array (Sentinel-3 SLSTR NRT FRP data) with matplotlib's pcolormesh function and adds two\n",
    "    text boxes to the plot.\n",
    "    \n",
    "    Parameters:\n",
    "        data(numpy.MaskedArray): any numpy MaskedArray, e.g. loaded with the NetCDF library and the Dataset function\n",
    "        lat(numpy.Array): array with longitude values\n",
    "        lon(numpy.Array) : array with latitude values\n",
    "        unit(str): unit of the resulting plot\n",
    "        longname(str): Longname to be used as title\n",
    "        textstr_1(str): String to fill box 1\n",
    "        textstr_2(str): String to fill box 2\n",
    "        vmax(float): Maximum value of color scale\n",
    "    \"\"\"\n",
    "    fig=plt.figure(figsize=(20, 15))\n",
    "\n",
    "    ax = plt.axes(projection=ccrs.PlateCarree())\n",
    "\n",
    "    img = plt.pcolormesh(lon, lat, data, \n",
    "                        cmap=cm.autumn_r, transform=ccrs.PlateCarree(),\n",
    "                        vmin=0,\n",
    "                        vmax=vmax)\n",
    "\n",
    "    ax.add_feature(cfeature.BORDERS, edgecolor='black', linewidth=1)\n",
    "    ax.add_feature(cfeature.COASTLINE, edgecolor='black', linewidth=1)\n",
    "\n",
    "    gl = ax.gridlines(draw_labels=True, linestyle='--')\n",
    "    gl.bottom_labels=False\n",
    "    gl.right_labels=False\n",
    "    gl.xformatter=LONGITUDE_FORMATTER\n",
    "    gl.yformatter=LATITUDE_FORMATTER\n",
    "    gl.xlabel_style={'size':14}\n",
    "    gl.ylabel_style={'size':14}\n",
    "\n",
    "    cbar = fig.colorbar(img, ax=ax, orientation='horizontal', fraction=0.029, pad=0.025)\n",
    "    cbar.set_label(unit, fontsize=16)\n",
    "    cbar.ax.tick_params(labelsize=14)\n",
    "    ax.set_title(longname, fontsize=20, pad=40.0) \n",
    "\n",
    "    props = dict(boxstyle='square', facecolor='white', alpha=0.5)\n",
    "\n",
    "    # place a text box on the right side of the plot\n",
    "    ax.text(1.1, 0.9, textstr_1, transform=ax.transAxes, fontsize=16,\n",
    "        verticalalignment='top', bbox=props)\n",
    "\n",
    "    props = dict(boxstyle='square', facecolor='white', alpha=0.5)\n",
    "\n",
    "    # place a text box in upper left in axes coords\n",
    "    ax.text(1.1, 0.85, textstr_2, transform=ax.transAxes, fontsize=16,\n",
    "            verticalalignment='top', bbox=props)\n",
    "    plt.show()\n"
   ]
  },
  {
   "cell_type": "markdown",
   "metadata": {},
   "source": [
    "### <a id='visualize_s3_aod'></a> `visualize_s3_aod`"
   ]
  },
  {
   "cell_type": "code",
   "execution_count": null,
   "metadata": {},
   "outputs": [],
   "source": [
    "def visualize_s3_aod(aod_ocean, aod_land, latitude, longitude, title, unit, vmin, vmax, color_scale, projection):\n",
    "    \"\"\" \n",
    "    Visualizes two xarray.DataArrays from the Sentinel-3 SLSTR NRT AOD dataset onto the same plot with \n",
    "    matplotlib's pcolormesh function.\n",
    "    \n",
    "    Parameters:\n",
    "        aod_ocean(xarray.DataArray): xarray.DataArray with the Aerosol Optical Depth for ocean values\n",
    "        aod_land(xarray.DataArray): xarray.DataArray with Aerosol Optical Depth for land values\n",
    "        longitude(xarray.DataArray): xarray.DataArray holding the longitude values\n",
    "        latitude(xarray.DataArray): xarray.DataArray holding the latitude values\n",
    "        title(str): title of the resulting plot\n",
    "        unit(str): unit of the resulting plot\n",
    "        vmin(int): minimum number on visualisation legend\n",
    "        vmax(int): maximum number on visualisation legend\n",
    "        color_scale(str): string taken from matplotlib's color ramp reference\n",
    "        projection(str): a projection provided by the cartopy library, e.g. ccrs.PlateCarree()\n",
    "    \"\"\"\n",
    "    fig=plt.figure(figsize=(12, 12))\n",
    "\n",
    "    ax=plt.axes(projection=projection)\n",
    "    ax.coastlines(linewidth=1.5, linestyle='solid', color='k', zorder=10)\n",
    "\n",
    "    gl = ax.gridlines(draw_labels=True, linestyle='--')\n",
    "    gl.top_labels=False\n",
    "    gl.right_labels=False\n",
    "    gl.xformatter=LONGITUDE_FORMATTER\n",
    "    gl.yformatter=LATITUDE_FORMATTER\n",
    "    gl.xlabel_style={'size':12}\n",
    "    gl.ylabel_style={'size':12}\n",
    "\n",
    "\n",
    "    img1 = plt.pcolormesh(longitude, latitude, aod_ocean, transform=ccrs.PlateCarree(), vmin=vmin, vmax=vmax, cmap=color_scale)\n",
    "    img2 = plt.pcolormesh(longitude, latitude, aod_land, transform=ccrs.PlateCarree(), vmin=vmin, vmax=vmax, cmap=color_scale)\n",
    "    ax.set_title(title, fontsize=20, pad=20.0)\n",
    "\n",
    "    cbar = fig.colorbar(img1, ax=ax, orientation='vertical', fraction=0.04, pad=0.05)\n",
    "    cbar.set_label(unit, fontsize=16)\n",
    "    cbar.ax.tick_params(labelsize=14)\n",
    "\n",
    "    plt.show()"
   ]
  },
  {
   "cell_type": "markdown",
   "metadata": {
    "Collapsed": "false"
   },
   "source": [
    "<hr>"
   ]
  },
  {
   "cell_type": "markdown",
   "metadata": {
    "Collapsed": "false"
   },
   "source": [
    "<p><img src='./img/copernicus_logo.png' align='left' alt='Logo EU Copernicus' width='25%'></img></p>\n",
    "<br clear=left>\n",
    "<p style=\"text-align:left;\">This project is licensed under the <a href=\"./LICENSE\">MIT License</a> <span style=\"float:right;\"><a href=\"https://gitlab.eumetsat.int/eumetlab/atmosphere/atmosphere\">View on GitLab</a> | <a href=\"https://training.eumetsat.int/\">EUMETSAT Training</a>"
   ]
  }
 ],
 "metadata": {
  "kernelspec": {
   "display_name": "Python 3",
   "language": "python",
   "name": "python3"
  },
  "language_info": {
   "codemirror_mode": {
    "name": "ipython",
    "version": 3
   },
   "file_extension": ".py",
   "mimetype": "text/x-python",
   "name": "python",
   "nbconvert_exporter": "python",
   "pygments_lexer": "ipython3",
   "version": "3.8.6"
  },
  "toc-autonumbering": false,
  "toc-showcode": false,
  "toc-showmarkdowntxt": true
 },
 "nbformat": 4,
 "nbformat_minor": 4
}
