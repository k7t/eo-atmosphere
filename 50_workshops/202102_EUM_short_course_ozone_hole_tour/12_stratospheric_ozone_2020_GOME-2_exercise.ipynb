{
 "cells": [
  {
   "cell_type": "markdown",
   "metadata": {},
   "source": [
    "<img src='../img/EU-Copernicus-EUM_3Logos.png' alt='Logo EU Copernicus EUMETSAT' align='right' width='50%'></img>"
   ]
  },
  {
   "cell_type": "markdown",
   "metadata": {},
   "source": [
    "<b>"
   ]
  },
  {
   "cell_type": "markdown",
   "metadata": {},
   "source": [
    "<a href=\"./00_index.ipynb\"><< Index</a><br>\n",
    "<a href=\"./11_stratospheric_ozone_2020_GOME-2_workflow\"><< 11 - Stratospheric Ozone 2020 - GOME-2 Level-2 Workflow</a><span style=\"float:right;\"><a href=\"./21_stratospheric_ozone_2020_IASI_workflow.ipynb\">21 - Stratospheric Ozone 2020 - IASI Level-2 Workflow >></a></span>"
   ]
  },
  {
   "cell_type": "markdown",
   "metadata": {},
   "source": [
    "<div class=\"alert alert-block alert-success\">\n",
    "<b>STRATOSPHERIC OZONE - EXERCISE</b></div>"
   ]
  },
  {
   "cell_type": "markdown",
   "metadata": {},
   "source": [
    "<hr>"
   ]
  },
  {
   "cell_type": "markdown",
   "metadata": {},
   "source": [
    "# Metop-A, -B, -C GOME-2 Level-2 - Exercise"
   ]
  },
  {
   "cell_type": "markdown",
   "metadata": {},
   "source": [
    "Now it is your turn! In this exercise you will prepare GOME-2 Level-2 data to analyse and animate the Arctic ozone hole in March 2020. \n",
    "\n",
    "* [Arctic Ozone hole 2020 - Workflow](#arctic_12)\n",
    "  * [Load Metop-A/B/C GOME-2 Total Column Ozone Level-2 data and aggregate it](#load_12)\n",
    "  * [Binning of Metop-A/B/C GOME-2 Level-2 data onto a regular two-dimensional grid](#gridding_12)\n",
    "  * [*Optional: Loop through all the folders of Metop-A/B/C GOME-2 Level-2 data and create daily gridded netCDF files*](#optional_loop_12)\n",
    "  * [Animate daily gridded Metop-A/B/C GOME-2 Level-2 Ozone information for each day in March 2020](#animate_12)\n"
   ]
  },
  {
   "cell_type": "markdown",
   "metadata": {},
   "source": [
    "<br>"
   ]
  },
  {
   "cell_type": "markdown",
   "metadata": {},
   "source": [
    "#### Load required libraries"
   ]
  },
  {
   "cell_type": "code",
   "execution_count": 1,
   "metadata": {},
   "outputs": [],
   "source": [
    "import xarray as xr\n",
    "import matplotlib.pyplot as plt\n",
    "import numpy as np\n",
    "import matplotlib.colors\n",
    "import glob\n",
    "\n",
    "from netCDF4 import Dataset\n",
    "import pandas as pd\n",
    "\n",
    "\n",
    "from matplotlib import animation\n",
    "\n",
    "from IPython.display import HTML\n",
    "import cartopy.crs as ccrs\n",
    "from cartopy.mpl.gridliner import LONGITUDE_FORMATTER, LATITUDE_FORMATTER\n",
    "\n",
    "from matplotlib.axes import Axes\n",
    "from cartopy.mpl.geoaxes import GeoAxes\n",
    "GeoAxes._pcolormesh_patched = Axes.pcolormesh"
   ]
  },
  {
   "cell_type": "markdown",
   "metadata": {},
   "source": [
    "<br>"
   ]
  },
  {
   "cell_type": "markdown",
   "metadata": {},
   "source": [
    "#### Load helper functions"
   ]
  },
  {
   "cell_type": "code",
   "execution_count": 2,
   "metadata": {},
   "outputs": [],
   "source": [
    "%run ./functions.ipynb"
   ]
  },
  {
   "cell_type": "markdown",
   "metadata": {},
   "source": [
    "<hr>"
   ]
  },
  {
   "cell_type": "markdown",
   "metadata": {},
   "source": [
    "# <a id='arctic_12'></a>Arctic Ozone hole 2020 - Workflow"
   ]
  },
  {
   "cell_type": "markdown",
   "metadata": {},
   "source": [
    "## <a id='load_12'></a>Load Metop-A/B/C GOME-2 Total Column Ozone Level-2 data and aggregate it"
   ]
  },
  {
   "cell_type": "markdown",
   "metadata": {},
   "source": [
    "#### Load daily Metop-A/B/C GOME-2 Total Column Ozone Level-2 data as `xarray.DataArray`"
   ]
  },
  {
   "cell_type": "markdown",
   "metadata": {},
   "source": [
    "Metop-A GOME-2 Level-2 data are disseminated in the `HDF5` format and are organised in five groups, internally:\n",
    "* `META_DATA`\n",
    " * Product Metadata\n",
    "* `GEOLOCATION`\n",
    " * Date & Time (all retrievals)\n",
    " * 4 Corner Coordinates & Centre of Ground Pixel\n",
    " * Solar, Line-of-Sight Zenith, and realtive Azimuth angles at TOA\n",
    " * Orbit information\n",
    "* `TOTAL_COLUMNS`\n",
    " * Total and tropospheric column amounts of the various trace gases with corresponding (relative) errors\n",
    "* `DETAILED_RESULTS`\n",
    " * Geophysical parameters (surface, cloud and aerosol values)\n",
    " * Vertical column, slant column, and AMF values with corresponding errors\n",
    " * Fittings diagnostics (chi-square, RMS, etc.)\n",
    " * Various subgroups for trace gas specific data (e.g. O<sub>3</sub>, NO<sub>2</sub>, SO<sub>2</sub>, etc.)\n",
    "* `CLOUD_PROPERTIES`\n",
    " * Retrieve cloud properties\n"
   ]
  },
  {
   "cell_type": "markdown",
   "metadata": {},
   "source": [
    "Relevant information is in the groups `GEOLOCATION`, `TOTAL_COLUMNS` and `CLOUD_PROPERTIES`. With the help of the function [load_l2_data_xr](./functions.ipynb#load_l2_data_xr), you can generate a `xarray.DataArray` object by using information stored in the groups of the data file. The data files for this workflow are in the data directory `/eodata/gome2/offline/2a/2020/03/`.\n",
    "\n",
    "The function generates a `xarray.DataArray` from a given set of `HDF5` files and matches variable information with latitude and longitude information. The result is a `xarray.DataArray` with one dimension and `latitude` and `longitude` information as coordinates.\n",
    "\n",
    "Let us first load the Ozone data for 1 March 2020 by using the following function kwargs:\n",
    "> directory=**(directory_2a, folder_list_2a[0]**<br>\n",
    "> internal_filepath=**'TOTAL_COLUMNS'** <br>\n",
    "> parameter=**'O3'**<br>\n",
    "> lat_path=**'GEOLOCATION/LatitudeCentre'**<br>\n",
    "> lon_path=**'GEOLOCATION/LongitudeCentre'** <br>\n",
    "> no_of_dims=**1** <br>\n",
    "> paramname=**'O3'** <br>\n",
    "> unit=**'DU'** <br>\n",
    "> longname=**'Tropospheric column density of O3'**\n"
   ]
  },
  {
   "cell_type": "markdown",
   "metadata": {},
   "source": [
    "As we want to load the Ozone data for each day in March 2020, you can already load all folders part of the March folder in a list of folders. "
   ]
  },
  {
   "cell_type": "code",
   "execution_count": null,
   "metadata": {},
   "outputs": [],
   "source": [
    "directory_2a = './eodata/gome2/offline/2a/2020/03/'\n",
    "folder_list_2a = glob.glob(directory_2a+'/*')\n",
    "folder_list_2a.sort()\n"
   ]
  },
  {
   "cell_type": "markdown",
   "metadata": {},
   "source": [
    "<br>"
   ]
  },
  {
   "cell_type": "markdown",
   "metadata": {},
   "source": [
    "#### Load the Metop-A GOME-2 Level-2 data as `xarray.DataArray`."
   ]
  },
  {
   "cell_type": "markdown",
   "metadata": {},
   "source": [
    "You might want to make use of the function [load_l2_data_xr](./functions.ipynb#load_l2_data_xr)."
   ]
  },
  {
   "cell_type": "code",
   "execution_count": null,
   "metadata": {},
   "outputs": [],
   "source": [
    "# Enter your code below\n",
    "\n",
    "\n"
   ]
  },
  {
   "cell_type": "markdown",
   "metadata": {},
   "source": [
    "<br>"
   ]
  },
  {
   "cell_type": "markdown",
   "metadata": {},
   "source": [
    "#### Load the Metop-B GOME-2 Level-2 data as `xarray.DataArray`"
   ]
  },
  {
   "cell_type": "markdown",
   "metadata": {},
   "source": [
    "We repeat the same procedure as above for the GOME-2 Level Ozone data files from the Metop-B satellite. Metop-B data files are in the folder directory `/eodata/gome2/offline/2b/2020/03/`."
   ]
  },
  {
   "cell_type": "code",
   "execution_count": null,
   "metadata": {},
   "outputs": [],
   "source": [
    "directory_2b = './eodata/gome2/offline/2b/2020/03/'\n",
    "folder_list_2b = glob.glob(directory_2b+'/*')\n",
    "folder_list_2b.sort()"
   ]
  },
  {
   "cell_type": "code",
   "execution_count": null,
   "metadata": {
    "scrolled": true
   },
   "outputs": [],
   "source": [
    "# Enter your code below\n",
    "\n",
    "\n",
    "\n",
    "\n"
   ]
  },
  {
   "cell_type": "markdown",
   "metadata": {},
   "source": [
    "<br>"
   ]
  },
  {
   "cell_type": "markdown",
   "metadata": {},
   "source": [
    "#### Load the Metop-C GOME-2 Level 2 data as `xarray.DataArray`"
   ]
  },
  {
   "cell_type": "markdown",
   "metadata": {},
   "source": [
    "And the same procedure is repeated again for the GOME-2 Level Ozone data files of Metop-C. The data files are in the folder directory `/eodata/gome2/offline/2c/2020/03/`."
   ]
  },
  {
   "cell_type": "code",
   "execution_count": null,
   "metadata": {},
   "outputs": [],
   "source": [
    "directory_2c = './eodata/gome2/offline/2c/2020/03/'\n",
    "folder_list_2c = glob.glob(directory_2c+'/*')\n",
    "folder_list_2c.sort()"
   ]
  },
  {
   "cell_type": "code",
   "execution_count": null,
   "metadata": {},
   "outputs": [],
   "source": [
    "# Enter your code below\n",
    "\n",
    "\n",
    "\n",
    "\n"
   ]
  },
  {
   "cell_type": "markdown",
   "metadata": {},
   "source": [
    "<br>"
   ]
  },
  {
   "cell_type": "markdown",
   "metadata": {},
   "source": [
    "#### Load cloud fraction information"
   ]
  },
  {
   "cell_type": "markdown",
   "metadata": {},
   "source": [
    "In the previous section, you loaded the GOME-2 Level-2 Ozone information from the three satellites Metop-A, Metop-B and Metop-C. \n",
    "The next step is to load the `CloudFraction` information, for the three satellites, Metop-A, Metop-B and Metop-C. You can use again the function [load_l2_data_xr](./functions.ipynb#load_l2_data_xr). As internal filepath and parameter, you can specify `CLOUD_PROPERTIES` and `CloudFraction` respectively.\n",
    "\n",
    "You can make use of the defined folder paths above. The first step is to load the `CloudFraction` information from 1 March 2020 from the Metop-A satellite."
   ]
  },
  {
   "cell_type": "code",
   "execution_count": null,
   "metadata": {},
   "outputs": [],
   "source": [
    "# Enter your code below\n",
    "\n",
    "\n",
    "\n",
    "\n",
    "\n"
   ]
  },
  {
   "cell_type": "markdown",
   "metadata": {},
   "source": [
    "<br>"
   ]
  },
  {
   "cell_type": "markdown",
   "metadata": {},
   "source": [
    "The next step is to load the `CloudFraction` information for the data files from the Metop-B satellite."
   ]
  },
  {
   "cell_type": "code",
   "execution_count": null,
   "metadata": {},
   "outputs": [],
   "source": [
    "# Enter your code below \n",
    "\n",
    "\n",
    "\n",
    "\n",
    "\n"
   ]
  },
  {
   "cell_type": "markdown",
   "metadata": {},
   "source": [
    "<br>"
   ]
  },
  {
   "cell_type": "markdown",
   "metadata": {},
   "source": [
    "And the final step is to repeat the same procedure for the data files from the Metop-C satellite."
   ]
  },
  {
   "cell_type": "code",
   "execution_count": null,
   "metadata": {
    "scrolled": true
   },
   "outputs": [],
   "source": [
    "# Enter your code below\n",
    "\n",
    "\n",
    "\n",
    "\n",
    "\n",
    "\n"
   ]
  },
  {
   "cell_type": "markdown",
   "metadata": {},
   "source": [
    "<br>"
   ]
  },
  {
   "cell_type": "markdown",
   "metadata": {},
   "source": [
    "#### Concatenate the data and cloud fraction information from the three satellites Metop-A, -B and -C"
   ]
  },
  {
   "cell_type": "markdown",
   "metadata": {},
   "source": [
    "The next step is to concatenate (combine) the ground pixel information from the three satellite Metop-A, -B and -C. You can do this with the function `xr.concat()` and as concatenation dimension you specify `ground_pixel`.\n",
    "\n",
    "Repeat the concatenation step also for the cloud fraction information.\n",
    "\n",
    "Print the two data arrays and verify that the number of ground pixels is the same for both arrays."
   ]
  },
  {
   "cell_type": "code",
   "execution_count": 22,
   "metadata": {},
   "outputs": [],
   "source": [
    "# Enter your code below\n",
    "\n",
    "\n",
    "\n",
    "\n"
   ]
  },
  {
   "cell_type": "markdown",
   "metadata": {},
   "source": [
    "<br>"
   ]
  },
  {
   "cell_type": "markdown",
   "metadata": {},
   "source": [
    "<br>"
   ]
  },
  {
   "cell_type": "markdown",
   "metadata": {},
   "source": [
    "#### Mask the data array based on the cloud fraction information"
   ]
  },
  {
   "cell_type": "markdown",
   "metadata": {},
   "source": [
    "Now you can mask the Ozone data (`data_abc`) with the help of the `CloudFraction` information (`cloud_fraction_abc`) and the function [generate_masked_array](./functions.ipynb#generate_masked_array). You want to mask out all pixels with a cloud cover higher than 20% (> 0.2) and only keep pixels where the cloud cover is less than 20% (< 0.2)."
   ]
  },
  {
   "cell_type": "markdown",
   "metadata": {},
   "source": [
    "The function takes the following kwargs:\n",
    "> xarray=**data_abc**<br>\n",
    "> mask=**cloud_fraction_abc**<br>\n",
    "> threshold=**0.2**<br>\n",
    "> operator=**'<'**<br>\n",
    "> drop=**True**"
   ]
  },
  {
   "cell_type": "markdown",
   "metadata": {},
   "source": [
    "You might want to set the `drop` kwarg to True. In this way, all the pixels that are masked out are dropped from the masked data array. You see, that by setting `drop=True`, the number of ground pixels decreases to less than 311000."
   ]
  },
  {
   "cell_type": "code",
   "execution_count": null,
   "metadata": {},
   "outputs": [],
   "source": [
    "# Enter your code below\n",
    "\n",
    "\n",
    "\n"
   ]
  },
  {
   "cell_type": "markdown",
   "metadata": {},
   "source": [
    "<br>"
   ]
  },
  {
   "cell_type": "markdown",
   "metadata": {},
   "source": [
    "GOME-2 Level-2 data are disseminated on a 0 to 360 degrees longitude grid. Thus, the last step before the gridding process, is to reassign the longitude values to a grid ranging from -180 degrees to 180 degrees. You can do this with the xarray function `assign_coords()`."
   ]
  },
  {
   "cell_type": "code",
   "execution_count": null,
   "metadata": {},
   "outputs": [],
   "source": [
    "# Enter your code below\n",
    "\n",
    "\n",
    "\n",
    "\n"
   ]
  },
  {
   "cell_type": "markdown",
   "metadata": {},
   "source": [
    "<br>"
   ]
  },
  {
   "cell_type": "markdown",
   "metadata": {},
   "source": [
    "The `o3_abc_masked` object contains all the GOME-2 Level-2 Ozone ground pixel information, which you want to bring onto a regular-spaced two-dimensional latitude / longitude grid in the next step."
   ]
  },
  {
   "cell_type": "markdown",
   "metadata": {},
   "source": [
    "<br>"
   ]
  },
  {
   "cell_type": "markdown",
   "metadata": {},
   "source": [
    "## <a id='gridding_12'></a>Binning of Metop-A/B/C GOME-2 Level-2 data onto a regular two-dimensional grid"
   ]
  },
  {
   "cell_type": "markdown",
   "metadata": {},
   "source": [
    "The next step is to bring the ground pixel information of the `o3_abc_masked` array onto a regular two-dimensional grid. This process is called *binning*. As a preparation, you store the data values of `latitude`, `longitude` and `ozone` as variables x, y, z."
   ]
  },
  {
   "cell_type": "code",
   "execution_count": 26,
   "metadata": {},
   "outputs": [],
   "source": [
    "# Enter your code below\n",
    "\n",
    "\n",
    "\n",
    "\n"
   ]
  },
  {
   "cell_type": "markdown",
   "metadata": {},
   "source": [
    "<br>"
   ]
  },
  {
   "cell_type": "markdown",
   "metadata": {},
   "source": [
    "#### Bin the data onto a 2D-grid with `np.histogram2d`"
   ]
  },
  {
   "cell_type": "markdown",
   "metadata": {},
   "source": [
    "With `np.histogram2d`, you can bin the data onto a pre-defined two-dimensional grid (called bins). By assigning the data value object `z` to the keyword argument `weights`, the bin gets assigned the data value of the point that falls into the cell.\n",
    "\n",
    "Since there will be more data points assigned to one cell (bin), you also have to create a `counts` array, which sums up the number of data points fallen into a bin. With this `counts` array, you can build the arithmetic mean of all the data points fallen into a bin.\n",
    "\n",
    "Bin the ground pixel information onto a regular grid of 1 x 1 degree."
   ]
  },
  {
   "cell_type": "code",
   "execution_count": null,
   "metadata": {},
   "outputs": [],
   "source": [
    "# Enter your code below\n",
    "\n",
    "\n",
    "\n",
    "\n"
   ]
  },
  {
   "cell_type": "markdown",
   "metadata": {},
   "source": [
    "<br>"
   ]
  },
  {
   "cell_type": "markdown",
   "metadata": {},
   "source": [
    "Out of the binned information, you can create a `xarray.DataArray`, which gives you flexibility in further handling the regularly gridded Ozone values."
   ]
  },
  {
   "cell_type": "markdown",
   "metadata": {},
   "source": [
    "<br>"
   ]
  },
  {
   "cell_type": "markdown",
   "metadata": {},
   "source": [
    "#### Create a `xarray.DataArray` of the regular gridded Ozone information"
   ]
  },
  {
   "cell_type": "markdown",
   "metadata": {},
   "source": [
    "You can create a `xarray.DataArray` with the constructor `DataArray()`. Define the array with two dimensions, `latitude` and `longitude`, but add `time` as an additional coordinate information."
   ]
  },
  {
   "cell_type": "code",
   "execution_count": null,
   "metadata": {},
   "outputs": [],
   "source": [
    "# Enter your code below\n",
    "\n",
    "\n",
    "\n",
    "\n",
    "\n"
   ]
  },
  {
   "cell_type": "markdown",
   "metadata": {},
   "source": [
    "<br>"
   ]
  },
  {
   "cell_type": "markdown",
   "metadata": {},
   "source": [
    "#### Visualize the gridded Ozone information"
   ]
  },
  {
   "cell_type": "markdown",
   "metadata": {},
   "source": [
    "Now, visualize the gridded Ozone information for 1 March 2020. You can use the function [visualize_pcolormesh](./functions.ipynb#visualize_pcolormesh). As projection, you can use `ccrs.Orthographic` and set the latitude and longitude information to the Arctic. "
   ]
  },
  {
   "cell_type": "code",
   "execution_count": null,
   "metadata": {},
   "outputs": [],
   "source": [
    "# Enter your code below\n",
    "\n",
    "\n",
    "\n",
    "\n",
    "\n"
   ]
  },
  {
   "cell_type": "markdown",
   "metadata": {},
   "source": [
    "<br>"
   ]
  },
  {
   "cell_type": "markdown",
   "metadata": {},
   "source": [
    "#### Regrid data onto a custom 1 x 1 degree regular grid with `xarray.groupby_bins`"
   ]
  },
  {
   "cell_type": "markdown",
   "metadata": {},
   "source": [
    "There is one additional step required, in order to bring multiple daily files onto the same regular grid. Without this step, each gridded data set would have its own grid definition and it would be not possible to animate the daily files in a coherent way.\n",
    "\n",
    "For this reason, the next step defines a custom 1 x 1 degree regular grid and regrids the Ozone information onto the custom grid. You have to specify the custom grid information for both, latitude and longitude information.\n",
    "You can use xarray's function `groupby_bins()` to regrid the Ozone values onto the specified grid.\n",
    "\n",
    "With xarray's function `to_netcdf()`, you can save the gridded Ozone information for 1 March 2020 as `netCDF` file."
   ]
  },
  {
   "cell_type": "code",
   "execution_count": 39,
   "metadata": {},
   "outputs": [],
   "source": [
    "# Enter your code below\n",
    "\n",
    "\n",
    "\n",
    "\n",
    "\n",
    "\n"
   ]
  },
  {
   "cell_type": "markdown",
   "metadata": {},
   "source": [
    "<br>"
   ]
  },
  {
   "cell_type": "markdown",
   "metadata": {},
   "source": [
    "## <a id='optional_loop_12'></a>*Optional: Loop through all the folders of Metop-A/B/C GOME-2 Level 2 data and create daily gridded netCDF files*"
   ]
  },
  {
   "cell_type": "markdown",
   "metadata": {},
   "source": [
    "Now, try to combine the individual steps from above in a for loop and create for each day in March 2020 a daily file of regular gridded Ozone information.\n",
    "\n",
    "The individual steps are the following:\n",
    "* Load the Ozone information as `xarray.DataArray` for the three satellites Metop-A, -B and -C and concatenate the data arrays\n",
    "* Load the cloud fraction information as `xarray.DataArray` for the three satellites Metop-A, -B and -C and concatenate the data arrays\n",
    "* Create a masked data array by masking out all pixels with a cloud fraction higher than 20%\n",
    "* Bring the Ozone information onto a regular 1 x 1 degree grid\n",
    "* Regrid the gridded Ozone information onto a custom defined regular grid\n",
    "* Save the daily gridded Ozone information as netCDF file\n"
   ]
  },
  {
   "cell_type": "markdown",
   "metadata": {},
   "source": [
    "Note: the loop below takes a bit of time, as we go through many data files. For this reason, executing the loop is optional. The daily gridded Ozone information for each day in March 2020 are already available under `/eodata/gome2/offline/abc/03/`. Thus, you can continue with the next step."
   ]
  },
  {
   "cell_type": "code",
   "execution_count": null,
   "metadata": {},
   "outputs": [],
   "source": [
    "for day in range(1,len(folder_list_2c)+1):\n",
    "\n",
    "    print(day)\n",
    "    \n",
    "    # Load Ozone information and concatenate data from Metop-A/B/C satellites\n",
    "   \n",
    "\n",
    "    \n",
    "    \n",
    "    \n",
    "    \n",
    "\n",
    "    # Load cloud fraction information and concatenate data from Metop-A/B/C satellites\n",
    "  \n",
    "\n",
    "   \n",
    "\n",
    "    \n",
    "    # Generate a masked data array by masking out the ground pixels with a cloud fraction of more than 20%\n",
    "\n",
    "    \n",
    "    \n",
    "    \n",
    "    \n",
    "    # Assign longitude coordinates to a [-180, 180] grid\n",
    "    \n",
    "\n",
    "    \n",
    "    \n",
    "    # Binning of Ozone information onto a regular 1 x 1 degree grid and organize the gridded information as a xarray.DataArray()\n",
    "\n",
    "    \n",
    "    \n",
    "    \n",
    "    \n",
    "\n",
    "    # Regrid the gridded Ozone information onto a custom defined regular grid\n",
    "\n",
    "    \n",
    "    \n",
    "    \n",
    "    \n",
    "    # Save the regridded Ozone information for each day as a netCDF file\n",
    "    tmp_regrid.to_netcdf('./'+date.strftime('%Y-%m-%d')+'.nc')"
   ]
  },
  {
   "cell_type": "markdown",
   "metadata": {},
   "source": [
    "<br>"
   ]
  },
  {
   "cell_type": "markdown",
   "metadata": {},
   "source": [
    "## <a id='animate_12'></a>Animate daily gridded Metop-A/B/C GOME-2 Level 2 Ozone information for each day in March 2020"
   ]
  },
  {
   "cell_type": "markdown",
   "metadata": {},
   "source": [
    "#### Open daily gridded Ozone files for March 2020 with `xarray.open_mfdataset`"
   ]
  },
  {
   "cell_type": "markdown",
   "metadata": {},
   "source": [
    "Now open the generated daily gridded Ozone information for March 2020 stored under `/eodata/gome2/offline/abc/03/` and store them as one single `xarray.Dataset`. You can use xarray's function `open_mfdataset()`, which allows the generation of a `xarray.Dataset` on the basis of multiple netCDF files. You have to provide the function the dimension you want to concatenate the files on. In this case, you want to combine the files based on the `time` dimension."
   ]
  },
  {
   "cell_type": "code",
   "execution_count": null,
   "metadata": {},
   "outputs": [],
   "source": [
    "# Enter your code below\n",
    "\n",
    "\n",
    "\n",
    "\n",
    "\n"
   ]
  },
  {
   "cell_type": "markdown",
   "metadata": {},
   "source": [
    "<br>"
   ]
  },
  {
   "cell_type": "markdown",
   "metadata": {},
   "source": [
    "The next step is to load the Ozone variable from the `xarray.Dataset` above."
   ]
  },
  {
   "cell_type": "code",
   "execution_count": null,
   "metadata": {},
   "outputs": [],
   "source": [
    "# Enter your code below\n",
    "\n",
    "\n",
    "\n",
    "\n",
    "\n"
   ]
  },
  {
   "cell_type": "markdown",
   "metadata": {},
   "source": [
    "<br>"
   ]
  },
  {
   "cell_type": "markdown",
   "metadata": {},
   "source": [
    "#### Visualize `Ozone` with `pcolormesh`"
   ]
  },
  {
   "cell_type": "code",
   "execution_count": null,
   "metadata": {},
   "outputs": [],
   "source": [
    "# Enter your code below\n",
    "\n",
    "\n",
    "\n",
    "\n",
    "\n"
   ]
  },
  {
   "cell_type": "markdown",
   "metadata": {},
   "source": [
    "<br>"
   ]
  },
  {
   "cell_type": "markdown",
   "metadata": {},
   "source": [
    "#### Animate `Ozone` over the Arctic for March 2020"
   ]
  },
  {
   "cell_type": "code",
   "execution_count": 10,
   "metadata": {},
   "outputs": [],
   "source": [
    "# Enter your code below\n",
    "\n",
    "\n",
    "\n",
    "\n",
    "\n",
    "\n",
    "\n"
   ]
  },
  {
   "cell_type": "markdown",
   "metadata": {},
   "source": [
    "<br>"
   ]
  },
  {
   "cell_type": "markdown",
   "metadata": {},
   "source": [
    "<br>"
   ]
  },
  {
   "cell_type": "markdown",
   "metadata": {},
   "source": [
    "<a href=\"./00_index.ipynb\"><< Index</a><br>\n",
    "<a href=\"./11_stratospheric_ozone_2020_GOME-2_workflow\"><< 11 - Stratospheric Ozone 2020 - GOME-2 Level-2 Workflow</a><span style=\"float:right;\"><a href=\"./21_stratospheric_ozone_2020_IASI_workflow.ipynb\">21 - Stratospheric Ozone 2020 - IASI Level-2 Workflow >></a></span>"
   ]
  },
  {
   "cell_type": "markdown",
   "metadata": {},
   "source": [
    "<hr>"
   ]
  },
  {
   "cell_type": "markdown",
   "metadata": {},
   "source": [
    "<p><img src='../img/copernicus_logo.png' align='left' alt='Logo EU Copernicus' width='25%'></img></p>\n",
    "<br clear=left>\n",
    "<p style=\"text-align:left;\">This project is licensed under the <a href=\"./LICENSE\">MIT License</a> <span style=\"float:right;\"><a href=\"https://gitlab.eumetsat.int/eumetlab/atmosphere/atmosphere\">View on GitLab</a> | <a href=\"https://training.eumetsat.int/\">EUMETSAT Training</a>"
   ]
  }
 ],
 "metadata": {
  "kernelspec": {
   "display_name": "Python 3",
   "language": "python",
   "name": "python3"
  },
  "language_info": {
   "codemirror_mode": {
    "name": "ipython",
    "version": 3
   },
   "file_extension": ".py",
   "mimetype": "text/x-python",
   "name": "python",
   "nbconvert_exporter": "python",
   "pygments_lexer": "ipython3",
   "version": "3.8.6"
  }
 },
 "nbformat": 4,
 "nbformat_minor": 4
}
