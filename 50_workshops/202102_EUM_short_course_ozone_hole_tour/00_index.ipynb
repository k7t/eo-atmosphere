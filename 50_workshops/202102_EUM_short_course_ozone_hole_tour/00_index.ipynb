{
 "cells": [
  {
   "cell_type": "markdown",
   "metadata": {
    "Collapsed": "false"
   },
   "source": [
    "<img src='./img/short_course_logo.png' alt='Logo EU Copernicus EUMETSAT' align='centre' width='90%'></img>"
   ]
  },
  {
   "cell_type": "markdown",
   "metadata": {},
   "source": [
    "<br>"
   ]
  },
  {
   "cell_type": "markdown",
   "metadata": {
    "Collapsed": "false"
   },
   "source": [
    "<br>"
   ]
  },
  {
   "cell_type": "markdown",
   "metadata": {
    "Collapsed": "false"
   },
   "source": [
    "### EUMETSAT Online Short Course #11"
   ]
  },
  {
   "cell_type": "markdown",
   "metadata": {},
   "source": [
    "# The ozone hole tour"
   ]
  },
  {
   "cell_type": "markdown",
   "metadata": {
    "Collapsed": "false"
   },
   "source": [
    "This short course focuses on the analysis of the Antarctic and Arctic ozone hole in 2020. \n",
    "\n",
    "The short course consists of two parts:\n",
    "\n",
    "* **Short course | 18 February 2021, 12:00 UTC**\n",
    "* **Short course feedback session | 23 February 2021, 14:00 UTC**\n",
    "\n",
    "The live webinar on 18 February gives you an introduction to the topic and the practical training material and has two parts: (i) first, the basics of stratospheric ozone science and observational techniques will be discussed and (ii) second, a practical hands-on session allows learners to learn more about ozone data from the GOME-2 and IASI instruments aboard Metop-A/B/C, how it can be analysed and animated.\n",
    "\n",
    "Between the short course and the feedback session, you can work with the data in a self-paced manner. During the feedback session, we will discuss open questions and feedback.\n",
    "\n",
    "You can engage and ask questions via [Slido](https://slido.com): `#EUMSC11`\n",
    "\n"
   ]
  },
  {
   "cell_type": "markdown",
   "metadata": {},
   "source": [
    "<br>"
   ]
  },
  {
   "cell_type": "markdown",
   "metadata": {
    "Collapsed": "false"
   },
   "source": [
    "## Course outline"
   ]
  },
  {
   "cell_type": "markdown",
   "metadata": {
    "Collapsed": "false"
   },
   "source": [
    "The course offers the following notebooks:\n",
    "\n",
    "* **Ozone hole animation workflows**\n",
    " * [11 - Stratospheric Ozone 2020 - Metop-A/B/C GOME-2 Level-2 - Antarctic animation](./11_stratospheric_ozone_2020_GOME-2_workflow.ipynb)\n",
    " * [21 - Stratospheric Ozone 2020 - Metop-A/B/C IASI Level-2 - Arctic animation](./21_stratospheric_ozone_2020_IASI_workflow.ipynb)\n",
    "\n",
    "\n",
    "* **Exercises**\n",
    " * [12 - Stratospheric Ozone 2020 - Metop-A/B/C GOME-2 Level-2 - Exercise](./12_stratospheric_ozone_2020_GOME-2_exercise.ipynb)\n",
    " * [22 - Stratospheric Ozone 2020 - Metop-A/B/C IASI Level-2 - Exercise](./22_stratospheric_ozone_2020_IASI_exercise.ipynb)\n",
    "\n",
    "<br>\n",
    "\n",
    "\n",
    "**NOTE:** Throughout the course, general functions to `load`, `re-shape`, `process` and `visualize` the datasets are defined. These functions are re-used when applicable. The [functions notebook](./functions.ipynb) gives you an overview of all the functions defined and used for the course.\n"
   ]
  },
  {
   "cell_type": "markdown",
   "metadata": {
    "Collapsed": "false"
   },
   "source": [
    "## Learning outcomes"
   ]
  },
  {
   "cell_type": "markdown",
   "metadata": {
    "Collapsed": "false"
   },
   "source": [
    "The course is designed for `beginners and intermediate users`, who have basic Python knowledge.\n",
    "\n",
    "After the course, you should have:\n",
    "* a basic understanding about the **Metop-A/B/C GOME-2 and IASI Level-2 data**,\n",
    "* knowledge about the most useful **Python packages** to handle, process and visualise GOME-2 and IASI data\n",
    "* an idea about how to **create a gridded dataset (L3) out of GOME-2 Level-2 data**"
   ]
  },
  {
   "cell_type": "markdown",
   "metadata": {
    "Collapsed": "false"
   },
   "source": [
    "<hr>"
   ]
  },
  {
   "cell_type": "markdown",
   "metadata": {
    "Collapsed": "false"
   },
   "source": [
    "## Access to the `JupyterHub` "
   ]
  },
  {
   "cell_type": "markdown",
   "metadata": {
    "Collapsed": "false"
   },
   "source": [
    "The course material is made available on a JupyterHub instance, a pre-defined environment that gives learners direct access to the data and Python packages required for following the course.\n",
    "\n",
    "The `JupyterHub` can be accessed as follows:"
   ]
  },
  {
   "cell_type": "markdown",
   "metadata": {
    "Collapsed": "false"
   },
   "source": [
    "* Web address: [https://training.ltpy.adamplatform.eu](https://training.ltpy.adamplatform.eu)\n",
    "* Create an account: [https://login.ltpy.adamplatform.eu/](https://login.ltpy.adamplatform.eu/)\n",
    "* Log into the `JupyterHub` with your account created."
   ]
  },
  {
   "cell_type": "markdown",
   "metadata": {},
   "source": [
    "There are 100 spaces available which will be given on a first come first served basis."
   ]
  },
  {
   "cell_type": "markdown",
   "metadata": {
    "Collapsed": "false"
   },
   "source": [
    "<hr>"
   ]
  },
  {
   "cell_type": "markdown",
   "metadata": {
    "Collapsed": "false"
   },
   "source": [
    "<img src='./img/copernicus_logo.png' alt='Logo EU Copernicus' align='right' width='20%'><br><br><br>\n",
    "<br>\n",
    "<p style=\"text-align:right;\">This project is licensed under the <a href=\"./LICENSE\">MIT License</a> and is developed under a Copernicus contract."
   ]
  }
 ],
 "metadata": {
  "kernelspec": {
   "display_name": "Python 3",
   "language": "python",
   "name": "python3"
  },
  "language_info": {
   "codemirror_mode": {
    "name": "ipython",
    "version": 3
   },
   "file_extension": ".py",
   "mimetype": "text/x-python",
   "name": "python",
   "nbconvert_exporter": "python",
   "pygments_lexer": "ipython3",
   "version": "3.8.6"
  }
 },
 "nbformat": 4,
 "nbformat_minor": 4
}
