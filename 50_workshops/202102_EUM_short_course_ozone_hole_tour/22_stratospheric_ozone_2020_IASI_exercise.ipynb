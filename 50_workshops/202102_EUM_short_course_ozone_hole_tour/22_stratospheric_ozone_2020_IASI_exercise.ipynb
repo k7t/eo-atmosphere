{
 "cells": [
  {
   "cell_type": "markdown",
   "metadata": {
    "Collapsed": "false"
   },
   "source": [
    "<img src='../img/EU-Copernicus-EUM_3Logos.png' alt='Logo EU Copernicus EUMETSAT' align='right' width='50%'></img>"
   ]
  },
  {
   "cell_type": "markdown",
   "metadata": {
    "Collapsed": "false"
   },
   "source": [
    "<br>"
   ]
  },
  {
   "cell_type": "markdown",
   "metadata": {},
   "source": [
    "<a href=\"./00_index.ipynb\"><< Index</a><br>\n",
    "<a href=\"./21_stratospheric_ozone_2020_IASI_workflow\"><< 21 - Stratospheric Ozone 2020 - IASI Level-2 Workflow</a>"
   ]
  },
  {
   "cell_type": "markdown",
   "metadata": {},
   "source": [
    "<div class=\"alert alert-block alert-success\">\n",
    "<b>STRATOSPHERIC OZONE - EXERCISE</b></div>"
   ]
  },
  {
   "cell_type": "markdown",
   "metadata": {},
   "source": [
    "<hr>"
   ]
  },
  {
   "cell_type": "markdown",
   "metadata": {},
   "source": [
    "# Metop-A, -B, -C IASI Level-2 - Exercise"
   ]
  },
  {
   "cell_type": "markdown",
   "metadata": {},
   "source": [
    "Now it is your turn! In this exercise you will prepare IASI Level-2 data to analyse and animate the Antarctic ozone hole in September 2020. \n",
    "\n",
    "* [Antarctic Ozone hole 2020 - Exercise](#Antarctic)\n",
    "  * [Load Metop-A/B/C IASI Total Column Ozone Level 2 data and aggregate it](#load_22)\n",
    "  * [Binning of Metop-A/B/C IASI Level 2 data onto a regular two-dimensional grid](#gridding_22)\n",
    "  * [*Optional: Loop through all the folders of Metop-A/B/C IASI Level 2 data and create daily gridded netCDF files*](#optional_loop_22)\n",
    "  * [Animate daily gridded Metop-A/B/C IASI Level 2 Ozone information for each day in September 2020](#animate_22) "
   ]
  },
  {
   "cell_type": "markdown",
   "metadata": {},
   "source": [
    "<br>"
   ]
  },
  {
   "cell_type": "markdown",
   "metadata": {},
   "source": [
    "#### Load required libraries"
   ]
  },
  {
   "cell_type": "code",
   "execution_count": 1,
   "metadata": {},
   "outputs": [],
   "source": [
    "import xarray as xr\n",
    "import matplotlib.pyplot as plt\n",
    "import numpy as np\n",
    "import matplotlib.colors\n",
    "import ipynb\n",
    "\n",
    "from netCDF4 import Dataset\n",
    "import pandas as pd\n",
    "\n",
    "\n",
    "from matplotlib import animation\n",
    "\n",
    "from IPython.display import HTML\n",
    "import cartopy.crs as ccrs\n",
    "from cartopy.mpl.gridliner import LONGITUDE_FORMATTER, LATITUDE_FORMATTER\n",
    "\n",
    "from matplotlib.axes import Axes\n",
    "from cartopy.mpl.geoaxes import GeoAxes\n",
    "GeoAxes._pcolormesh_patched = Axes.pcolormesh"
   ]
  },
  {
   "cell_type": "markdown",
   "metadata": {},
   "source": [
    "<br>"
   ]
  },
  {
   "cell_type": "markdown",
   "metadata": {},
   "source": [
    "#### Load helper functions"
   ]
  },
  {
   "cell_type": "code",
   "execution_count": 2,
   "metadata": {},
   "outputs": [],
   "source": [
    "%run ./functions.ipynb"
   ]
  },
  {
   "cell_type": "markdown",
   "metadata": {},
   "source": [
    "<hr>"
   ]
  },
  {
   "cell_type": "markdown",
   "metadata": {},
   "source": [
    "# <a id='Antarctic'></a>Antarctic Ozone hole 2020 - Exercise"
   ]
  },
  {
   "cell_type": "markdown",
   "metadata": {},
   "source": [
    "## <a id='load_22'></a>Load Metop-A/B/C IASI Total Column Ozone Level-2 data and aggregate it"
   ]
  },
  {
   "cell_type": "markdown",
   "metadata": {
    "Collapsed": "false"
   },
   "source": [
    "The [Infrared Atmospheric Sounding Interferometer (IASI)](https://www.eumetsat.int/website/home/Satellites/CurrentSatellites/Metop/MetopDesign/IASI/index.html) is an instrument onboard the Metop-A/B/C satellites. It provides information on the vertical structure of temperature and humidity as well as main atmospheric species.\n",
    "\n",
    "IASI data are distributed via:\n",
    "- the [EUMETSAT data centre (Earth Observation Portal)](https://eoportal.eumetsat.int/userMgmt/register.faces), and\n",
    "- external services, e.g. [AERIS](https://www.aeris-data.fr/).\n",
    "\n",
    "IASI Level 2 data are originally disseminated in `BUFR` format. To download the data in `netCDF` format, visit the [IASI portal](https://iasi.aeris-data.fr/), which is implemented by AERIS. You can use the Python library [xarray](http://xarray.pydata.org/en/stable/index.html) to access and manipulate datasets in `netCDF` format.\n",
    "\n",
    "The following workflow uses data from the `Ozone (O`<sub>`3`</sub>`) total column` dataset."
   ]
  },
  {
   "cell_type": "markdown",
   "metadata": {},
   "source": [
    "#### Load daily Metop-A/B/C IASI Total Column Ozone Level 2 data as `xarray.DataArray`"
   ]
  },
  {
   "cell_type": "markdown",
   "metadata": {},
   "source": [
    "The function `open_dataset()` in `xarray` enables you to open a `netCDF` file. Once loaded, you can inspect the data structure of the `IASI` data disseminated by the IASI portal. There is a separate `netcdf` file for each day's data for Metop-A/B/C. Let's open a file from 1st September 2020. \n",
    "\n",
    "As you can see, the data is a one-dimensional vector with more than 103,000 individual data points. `latitude`, `longitude` and other parameters are stored as individual data variables."
   ]
  },
  {
   "cell_type": "markdown",
   "metadata": {},
   "source": [
    "#### <a id='step1'></a>Load the Metop-A IASI Level-2 data"
   ]
  },
  {
   "cell_type": "code",
   "execution_count": null,
   "metadata": {},
   "outputs": [],
   "source": [
    "# Enter your code below\n",
    "\n",
    "\n",
    "\n",
    "\n",
    "\n"
   ]
  },
  {
   "cell_type": "markdown",
   "metadata": {},
   "source": [
    "<br>"
   ]
  },
  {
   "cell_type": "markdown",
   "metadata": {},
   "source": [
    "#### Load the Metop-B IASI Level-2 data"
   ]
  },
  {
   "cell_type": "markdown",
   "metadata": {},
   "source": [
    "We repeat the same procedure as above for the IASI Level-2 Ozone data files from the Metop-B satellite. Metop-B data files are in the folder directory `./eodata/iasi/o3/2b/2020/09/`."
   ]
  },
  {
   "cell_type": "code",
   "execution_count": null,
   "metadata": {
    "Collapsed": "false"
   },
   "outputs": [],
   "source": [
    "# Enter your code below\n",
    "\n",
    "\n",
    "\n",
    "\n"
   ]
  },
  {
   "cell_type": "markdown",
   "metadata": {},
   "source": [
    "<br>"
   ]
  },
  {
   "cell_type": "markdown",
   "metadata": {},
   "source": [
    "#### Load the Metop-C IASI Level-2 data"
   ]
  },
  {
   "cell_type": "markdown",
   "metadata": {},
   "source": [
    "And the same procedure is repeated again for the IASI Level-2 Ozone data files of Metop-C. The data files are in the folder directory `./eodata/iasi/o3/2c/2020/09/`."
   ]
  },
  {
   "cell_type": "code",
   "execution_count": null,
   "metadata": {
    "Collapsed": "false"
   },
   "outputs": [],
   "source": [
    "# Enter your code below\n",
    "\n",
    "\n",
    "\n",
    "\n",
    "\n"
   ]
  },
  {
   "cell_type": "markdown",
   "metadata": {},
   "source": [
    "<br>"
   ]
  },
  {
   "cell_type": "markdown",
   "metadata": {},
   "source": [
    "### Generate a `xarray.DataArray` with latitude and longitude as coordinates"
   ]
  },
  {
   "cell_type": "markdown",
   "metadata": {},
   "source": [
    "With the help of the function [generate_xr_from_1D_vec](./functions.ipynb#generate_xr_from_1D_vec), you can generate a `xarray.DataArray` object, with `latitude` and `longitude` values as coordinates and the `O3_total_column` information as data values. This data structure will be helpful for plotting the data."
   ]
  },
  {
   "cell_type": "markdown",
   "metadata": {},
   "source": [
    "#### Generate a `DataArray` for the Metop-A IASI Level-2 data"
   ]
  },
  {
   "cell_type": "code",
   "execution_count": null,
   "metadata": {},
   "outputs": [],
   "source": [
    "# Enter your code below\n",
    "\n",
    "\n",
    "\n",
    "\n"
   ]
  },
  {
   "cell_type": "markdown",
   "metadata": {},
   "source": [
    "<br>"
   ]
  },
  {
   "cell_type": "markdown",
   "metadata": {},
   "source": [
    "#### Generate a `DataArray` for the Metop-B IASI Level-2 data"
   ]
  },
  {
   "cell_type": "markdown",
   "metadata": {},
   "source": [
    "We repeat the same procedure as above for the IASI Level-2 Ozone data files from the Metop-B satellite."
   ]
  },
  {
   "cell_type": "code",
   "execution_count": null,
   "metadata": {},
   "outputs": [],
   "source": [
    "# Enter your code below\n",
    "\n",
    "\n",
    "\n",
    "\n"
   ]
  },
  {
   "cell_type": "markdown",
   "metadata": {},
   "source": [
    "<br>"
   ]
  },
  {
   "cell_type": "markdown",
   "metadata": {},
   "source": [
    "#### Generate a `DataArray` for the Metop-C IASI Level-2 data"
   ]
  },
  {
   "cell_type": "markdown",
   "metadata": {},
   "source": [
    "Finally, the same procedure is repeated again for the IASI Level-2 Ozone data files of Metop-C."
   ]
  },
  {
   "cell_type": "code",
   "execution_count": null,
   "metadata": {},
   "outputs": [],
   "source": [
    "# Enter your code below\n",
    "\n",
    "\n",
    "\n",
    "\n",
    "\n"
   ]
  },
  {
   "cell_type": "markdown",
   "metadata": {},
   "source": [
    "<br>"
   ]
  },
  {
   "cell_type": "markdown",
   "metadata": {},
   "source": [
    "#### Combine the three O<sub>3</sub> data arrays from Metop-A, Metop-B and Metop-C with `xarray.concat`"
   ]
  },
  {
   "cell_type": "markdown",
   "metadata": {},
   "source": [
    "Now, we can concatenate all the `xarray.DataArrays` from Metop-A, Metop-B and Metop-C into one single `DataArray`. You can use the function `xarray.concat` for it and use the dimension `ground_pixel` as concatenation dimension."
   ]
  },
  {
   "cell_type": "code",
   "execution_count": null,
   "metadata": {},
   "outputs": [],
   "source": [
    "# Enter your code below\n",
    "\n",
    "\n",
    "\n",
    "\n"
   ]
  },
  {
   "cell_type": "markdown",
   "metadata": {},
   "source": [
    "<br>"
   ]
  },
  {
   "cell_type": "markdown",
   "metadata": {},
   "source": [
    "#### Convert from molecules per metre square to Dobson Unit by applying a multiplication factor"
   ]
  },
  {
   "cell_type": "markdown",
   "metadata": {},
   "source": [
    "The unit of the data is `molecules per metre square`. Ozone is often expressed in Dobson units, so we will convert the units to Dobson units instead. `Molecules per metre square` can be converted to `Dobson Unit [DU]` by multiplying the values with 2241.147. We then have to reassign the attributes to the resulting data array because they got dropped when we did the multiplication step. Finally, we change the units stored in the attributes to `Dobson Unit`."
   ]
  },
  {
   "cell_type": "code",
   "execution_count": null,
   "metadata": {},
   "outputs": [],
   "source": [
    "# Convert to Dobson Units\n",
    "\n",
    "\n",
    "# Add the attributes back\n",
    "\n",
    "\n",
    "# Change units label to Dobson Unit\n"
   ]
  },
  {
   "cell_type": "markdown",
   "metadata": {},
   "source": [
    "<br>"
   ]
  },
  {
   "cell_type": "markdown",
   "metadata": {},
   "source": [
    "## <a id='gridding_22'></a>Bin the Metop-A/B/C IASI data"
   ]
  },
  {
   "cell_type": "markdown",
   "metadata": {},
   "source": [
    "### Binning of Metop-A/B/C IASI Level-2 data onto a regular two-dimensional grid"
   ]
  },
  {
   "cell_type": "markdown",
   "metadata": {},
   "source": [
    "The next step is to bring the ground pixel information of the `o3_da_2abc_du_flagged` array onto a regular two-dimensional grid. This process is called *binning*. In preparation, you store the data values of `latitude`, `longitude` and `ozone` as variables x, y, z."
   ]
  },
  {
   "cell_type": "code",
   "execution_count": null,
   "metadata": {},
   "outputs": [],
   "source": [
    "# Enter your code below\n",
    "\n",
    "\n",
    "\n",
    "\n",
    "\n"
   ]
  },
  {
   "cell_type": "markdown",
   "metadata": {},
   "source": [
    "<br>"
   ]
  },
  {
   "cell_type": "markdown",
   "metadata": {},
   "source": [
    "#### Bin the data onto a 2D-grid with `np.histogram2d`"
   ]
  },
  {
   "cell_type": "markdown",
   "metadata": {},
   "source": [
    "With `np.histogram2d`, you can bin the data onto a pre-defined two-dimensional grid (called bins). By assigning the data value object `z` to the keyword argument `weights`, the bin gets assigned the data value of the point that falls into the cell.\n",
    "\n",
    "Since there will be more data points assigned to one cell (bin), you also have to create a `counts` array, which sums up the number of data points fallen into a bin. With this `counts` array, you can build the arithmetic mean of all the data points fallen into a bin.\n",
    "\n",
    "The example below builds a regular grid of 1 x 1 degree."
   ]
  },
  {
   "cell_type": "code",
   "execution_count": null,
   "metadata": {},
   "outputs": [],
   "source": [
    "# Enter your code below\n",
    "\n",
    "\n",
    "\n",
    "\n",
    "\n"
   ]
  },
  {
   "cell_type": "markdown",
   "metadata": {},
   "source": [
    "You can create a `xarray.DataArray` from the binned information, which gives you flexibility in further handling the regularly gridded ozone values."
   ]
  },
  {
   "cell_type": "markdown",
   "metadata": {},
   "source": [
    "<br>"
   ]
  },
  {
   "cell_type": "markdown",
   "metadata": {},
   "source": [
    "#### Create a `xarray.DataArray` of the regular gridded Ozone information"
   ]
  },
  {
   "cell_type": "markdown",
   "metadata": {},
   "source": [
    "You can create a `xarray.DataArray` with the constructor `DataArray()`. Define the array with two dimensions, `latitude` and `longitude`, but add `time` as an additional coordinate information."
   ]
  },
  {
   "cell_type": "code",
   "execution_count": null,
   "metadata": {},
   "outputs": [],
   "source": [
    "# Enter your code below\n",
    "\n",
    "\n",
    "\n",
    "\n",
    "\n"
   ]
  },
  {
   "cell_type": "markdown",
   "metadata": {},
   "source": [
    "<br>"
   ]
  },
  {
   "cell_type": "markdown",
   "metadata": {},
   "source": [
    "## <a id='visualize_22'></a>Visualize the Metop-A/B/C IASI data on the Antarctic"
   ]
  },
  {
   "cell_type": "markdown",
   "metadata": {},
   "source": [
    "#### Visualize the data array in an `Orthographic()` projection with the function `visualize_pcolormesh`"
   ]
  },
  {
   "cell_type": "markdown",
   "metadata": {},
   "source": [
    "Let us visualize the gridded Ozone information for 1 September 2020. You can use the function [visualize_pcolormesh](./functions.ipynb#visualize_pcolormesh). As projection, you can use `ccrs.Orthographic` and set the latitude and longitude information to the Antarctic. "
   ]
  },
  {
   "cell_type": "code",
   "execution_count": null,
   "metadata": {},
   "outputs": [],
   "source": [
    "# Enter your code below\n",
    "\n",
    "\n",
    "\n",
    "\n"
   ]
  },
  {
   "cell_type": "markdown",
   "metadata": {},
   "source": [
    "<br>"
   ]
  },
  {
   "cell_type": "markdown",
   "metadata": {},
   "source": [
    "#### Regrid data onto a custom 1 deg x 1 deg regular grid with `xarray.groupby_bins`"
   ]
  },
  {
   "cell_type": "markdown",
   "metadata": {},
   "source": [
    "There is one additional step required, in order to bring multiple daily files onto the same regular grid. Without this step, each gridded data set would have its own grid definition and it would be not possible to animate the daily files in a coherent way.\n",
    "\n",
    "For this reason, the next step defines a custom 1 x 1 degree regular grid and regrids the Ozone information onto the custom grid. You have to specify the custom grid information for both, latitude and longitude information.\n",
    "You can use xarray's function `groupby_bins()` to regrid the Ozone values onto the specified grid.\n",
    "\n",
    "With xarray's function `to_netcdf()`, you can save the gridded Ozone information for 1 September 2020 as a `netCDF` file."
   ]
  },
  {
   "cell_type": "code",
   "execution_count": null,
   "metadata": {},
   "outputs": [],
   "source": [
    "# Enter your code below\n",
    "\n",
    "\n",
    "\n",
    "\n",
    "\n",
    "\n",
    "\n"
   ]
  },
  {
   "cell_type": "markdown",
   "metadata": {},
   "source": [
    "<br>"
   ]
  },
  {
   "cell_type": "markdown",
   "metadata": {},
   "source": [
    "## <a id='optional_loo_22'></a>*Optional: Loop through all the folders of Metop-A/B/C IASI Level 2 data and create daily gridded netCDF files*"
   ]
  },
  {
   "cell_type": "markdown",
   "metadata": {},
   "source": [
    "The aim is to animate the Ozone hole development during September 2020. For this reason, we combine the individual steps from above in a for loop and create for each day in September 2020 a daily file of regular gridded Ozone information.\n",
    "\n",
    "The individual steps are the following:\n",
    "* Load the Ozone information as `xarray.DataArray` for the three satellites Metop-A, -B and -C and concatenate the data arrays\n",
    "* Convert the units of the data to Dobson Unit\n",
    "* Bring the Ozone information onto a regular 1 x 1 degree grid\n",
    "* Regrid the gridded Ozone information onto a custom defined regular grid\n",
    "* Save the daily gridded Ozone information as a netCDF file\n"
   ]
  },
  {
   "cell_type": "markdown",
   "metadata": {},
   "source": [
    "Note: the loop below takes a bit of time, as we go through many data files. For this reason, executing the loop is optional. The daily gridded Ozone information for each day in September 2020 are already available to be loaded directly. Thus, you can jump directly to the next step."
   ]
  },
  {
   "cell_type": "code",
   "execution_count": null,
   "metadata": {},
   "outputs": [],
   "source": [
    "directory_2a = './eodata/iasi/o3/2a/2020/09/'\n",
    "file_list_2a = os.listdir(directory_2a)\n",
    "file_list_2a.sort()\n",
    "\n",
    "directory_2b = './eodata/iasi/o3/2b/2020/09/'\n",
    "file_list_2b = os.listdir(directory_2b)\n",
    "file_list_2b.sort()\n",
    "\n",
    "directory_2c = './eodata/iasi/o3/2c/2020/09/'\n",
    "file_list_2c = os.listdir(directory_2c)\n",
    "file_list_2c.sort()\n",
    "\n",
    "for file in file_list_2c[1:]:\n",
    "    \n",
    "    # Modify file names according to which satellite is the source\n",
    "\n",
    "    \n",
    "    # Create file paths\n",
    "\n",
    "    \n",
    "    # Open datasets\n",
    "\n",
    "\n",
    "    # Generate xarray DataArrays\n",
    "\n",
    "\n",
    "    # Concatenate DataArrays\n",
    " \n",
    "    # Convert units to Dobson Unit\n",
    "\n",
    "\n",
    "    # Add the attributes back\n",
    "\n",
    "\n",
    "    # Change units label to Dobson Unit\n",
    "\n",
    "\n",
    "    # Binning of Ozone information onto a regular 1 x 1 degree grid and organize the gridded information as a xarray.DataArray()\n",
    "\n",
    "\n",
    "    # Create the bins based on a 1 x 1 degree grid\n",
    "\n",
    "\n",
    "    # define a label for each bin corresponding to the central latitude\n",
    " \n",
    "\n",
    "    # Bring the ozone values onto a regular latitude grid and create the average of multiple values per cell\n",
    "\n",
    "    \n",
    "    # Bring the ozone values onto a regular longitude grid\n",
    "\n",
    "\n",
    "    tmp_regrid.to_netcdf('./'+'IASI_'+day.strftime('%Y-%m-%d')+'.nc')"
   ]
  },
  {
   "cell_type": "markdown",
   "metadata": {},
   "source": [
    "<br>"
   ]
  },
  {
   "cell_type": "markdown",
   "metadata": {},
   "source": [
    "## <a id='animate_22'></a>Animate daily gridded Metop-A/B/C IASI Ozone information for each day in September 2020"
   ]
  },
  {
   "cell_type": "markdown",
   "metadata": {},
   "source": [
    "#### Open daily gridded Ozone files for September 2020 with `xarray.open_mfdataset`"
   ]
  },
  {
   "cell_type": "markdown",
   "metadata": {},
   "source": [
    "Let us now open the generated daily gridded Ozone information for September 2020 and store them as one single `xarray.Dataset`. You can use xarray's function `open_mfdataset()`, which allows the generation of a `xarray.Dataset` on the basis of multiple netCDF files. You have to provide the function the dimension you want to concatenate the files on. In this case, you want to combine the files based on the `time` dimension.\n",
    "\n",
    "You find the data under `./eodata/iasi/o3/abc/09/`."
   ]
  },
  {
   "cell_type": "code",
   "execution_count": null,
   "metadata": {},
   "outputs": [],
   "source": [
    "# Enter your code below\n",
    "\n",
    "\n",
    "\n"
   ]
  },
  {
   "cell_type": "markdown",
   "metadata": {},
   "source": [
    "<br>"
   ]
  },
  {
   "cell_type": "markdown",
   "metadata": {},
   "source": [
    "The next step is to load the Ozone variable from the `xarray.Dataset` above."
   ]
  },
  {
   "cell_type": "code",
   "execution_count": null,
   "metadata": {},
   "outputs": [],
   "source": [
    "# Enter your code below\n",
    "\n",
    "\n",
    "\n",
    "\n",
    "\n"
   ]
  },
  {
   "cell_type": "markdown",
   "metadata": {},
   "source": [
    "<br>"
   ]
  },
  {
   "cell_type": "markdown",
   "metadata": {},
   "source": [
    "#### Visualize `Ozone` with `pcolormesh`"
   ]
  },
  {
   "cell_type": "code",
   "execution_count": null,
   "metadata": {},
   "outputs": [],
   "source": [
    "# Enter your code below\n",
    "\n",
    "\n",
    "\n",
    "\n",
    "\n"
   ]
  },
  {
   "cell_type": "markdown",
   "metadata": {},
   "source": [
    "<br>"
   ]
  },
  {
   "cell_type": "markdown",
   "metadata": {},
   "source": [
    "### Animate `Ozone` over Antarctic for September 2020"
   ]
  },
  {
   "cell_type": "markdown",
   "metadata": {},
   "source": [
    "The animation function consists of 4 parts:\n",
    "- **Setting the initial state:**<br>\n",
    " Here, you define the general plot your animation shall use to initialise the animation. You can also define the number of frames (time steps) your animation shall have.\n",
    " \n",
    " \n",
    "- **Function to animate:**<br>\n",
    " The `animate()` function updates the `pcolormesh` drawn on the axes for the given number of frames. We have one frame per time step. \n",
    " \n",
    "- **Create a `animate.FuncAnimation` object:** <br>\n",
    " The functions defined before are now combined to build an `animate.FuncAnimation` object.\n",
    " \n",
    " \n",
    "- **Play the animation as video:**<br>\n",
    " As a final step, you can integrate the animation into the notebook with the `HTML` class. You take the generated `animate.FuncAnimation` object and convert it to a HTML5 video with the function `to_html5_video`."
   ]
  },
  {
   "cell_type": "markdown",
   "metadata": {},
   "source": [
    "<br>"
   ]
  },
  {
   "cell_type": "code",
   "execution_count": null,
   "metadata": {},
   "outputs": [],
   "source": [
    "# Setting the initial state\n",
    "\n",
    "\n",
    "# Define the number of frames (the number of days from 1st September to 30th September).\n",
    "\n",
    "\n",
    "# Define the animation function that updates the pcolormesh on the axis\n"
   ]
  },
  {
   "cell_type": "markdown",
   "metadata": {},
   "source": [
    "<br>"
   ]
  },
  {
   "cell_type": "code",
   "execution_count": null,
   "metadata": {},
   "outputs": [],
   "source": [
    "#Create a animate.FuncAnimation object\n",
    "\n",
    "\n",
    "plt.show(block = False)\n",
    "\n",
    "# Play the animation as a video\n"
   ]
  },
  {
   "cell_type": "markdown",
   "metadata": {},
   "source": [
    "<br>"
   ]
  },
  {
   "cell_type": "markdown",
   "metadata": {},
   "source": [
    "<a href=\"./00_index.ipynb\"><< Index</a><br>\n",
    "<a href=\"./21_stratospheric_ozone_2020_IASI_workflow\"><< 21 - Stratospheric Ozone 2020 - IASI Level-2 Workflow</a>"
   ]
  },
  {
   "cell_type": "markdown",
   "metadata": {
    "Collapsed": "false"
   },
   "source": [
    "<hr>"
   ]
  },
  {
   "cell_type": "markdown",
   "metadata": {
    "Collapsed": "false"
   },
   "source": [
    "<p><img src='../img/copernicus_logo.png' align='left' alt='Logo EU Copernicus' width='25%'></img></p>\n",
    "<br clear=left>\n",
    "<p style=\"text-align:left;\">This project is licensed under the <a href=\"../LICENSE\">MIT License</a> <span style=\"float:right;\"><a href=\"https://gitlab.eumetsat.int/eumetlab/atmosphere/atmosphere\">View on GitLab</a> | <a href=\"https://training.eumetsat.int/\">EUMETSAT Training</a>"
   ]
  }
 ],
 "metadata": {
  "kernelspec": {
   "display_name": "Python 3",
   "language": "python",
   "name": "python3"
  },
  "language_info": {
   "codemirror_mode": {
    "name": "ipython",
    "version": 3
   },
   "file_extension": ".py",
   "mimetype": "text/x-python",
   "name": "python",
   "nbconvert_exporter": "python",
   "pygments_lexer": "ipython3",
   "version": "3.8.6"
  },
  "toc-showmarkdowntxt": false
 },
 "nbformat": 4,
 "nbformat_minor": 4
}
