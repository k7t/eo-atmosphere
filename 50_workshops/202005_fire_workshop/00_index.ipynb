{
 "cells": [
  {
   "cell_type": "markdown",
   "metadata": {
    "Collapsed": "false"
   },
   "source": [
    "<img src='./img/logo_fire_workshop.png' alt='Logo EU Copernicus EUMETSAT' align='centre' width='90%'></img>"
   ]
  },
  {
   "cell_type": "markdown",
   "metadata": {
    "Collapsed": "false"
   },
   "source": [
    "<br>"
   ]
  },
  {
   "cell_type": "markdown",
   "metadata": {
    "Collapsed": "false"
   },
   "source": [
    "# User Workshop and Training on Fire Monitoring"
   ]
  },
  {
   "cell_type": "markdown",
   "metadata": {},
   "source": [
    "Jointly organized by [EUMETSAT](https://www.eumetsat.int/website/home/index.html), [CAMS-ECMWF](https://atmosphere.copernicus.eu/), [AC SAF](https://acsaf.org/), [LSA SAF](https://landsaf.ipma.pt/en/), with support from [Copernicus](https://www.copernicus.eu/en) "
   ]
  },
  {
   "cell_type": "markdown",
   "metadata": {
    "Collapsed": "false"
   },
   "source": [
    "**User Workshop and Training on Fire Monitoring** is a an online event about the state-of-the-art operational datasets for detection of `fire`, `related emissions` and `impacts`.\n",
    "\n",
    "The course is a combination of webinars and practical workflows for interactive data discovery and training on datasets and has the following outline \n",
    "\n",
    "* 11-15 May - **Daily webinars with experts on datasets with interactive data handling**\n",
    "* 18-19 May - **User Workshop**\n",
    "\n"
   ]
  },
  {
   "cell_type": "markdown",
   "metadata": {
    "Collapsed": "false"
   },
   "source": [
    "## Data on Fire Monitoring"
   ]
  },
  {
   "cell_type": "markdown",
   "metadata": {
    "Collapsed": "false"
   },
   "source": [
    "This course features the following data:\n",
    "* [Copernicus Sentinel-5P](./12_s5p_tropomi_UVAI.ipynb) data\n",
    "* [IASI Level-2](./13_iasi_co.ipynb) data onboard of Metop-A and Metop-B satellites\n",
    "* [AC SAF GOME-2 Level-2](./11_ac-saf_gome2_AAI.ipynb) data onboard of Metop-A and Metop-B satellites\n",
    "\n",
    "\n",
    "* [Copernicus Atmosphere Monitoring Service (CAMS)](./21_cams.ipynb#gfas) data\n",
    "\n",
    "\n",
    "* [Global ECMWF Fire Forecast (GEFF)](./31_geff_data_overview.ipynb) data\n",
    "\n",
    "\n",
    "* [LSA SAF](41_lsa-saf.ipynb) data products\n",
    "\n",
    "\n",
    "* [Copernicus Sentinel-3](./11_ltpy_atmospheric_composition_overview.ipynb#sentinel3) data\n",
    "\n"
   ]
  },
  {
   "cell_type": "markdown",
   "metadata": {
    "Collapsed": "false"
   },
   "source": [
    "## Course material"
   ]
  },
  {
   "cell_type": "markdown",
   "metadata": {
    "Collapsed": "false"
   },
   "source": [
    "Each day during the daily expert webinars, different data for fire monitoring are introduced. The course outline follows the sequence of data types introduced each day:\n",
    "\n",
    "* **0 - Introduction to the practical course content**\n",
    " * [Introduction to Python and Project Jupyter](./01_introduction_to_python_and_jupyter.ipynb)\n",
    " * [Overview of data and data access systems](./02_atmospheric_composition_overview.ipynb)\n",
    "\n",
    "\n",
    "* **1 - Copernicus Sentinel-5P and AC SAF data**\n",
    " * [1.1 AC SAF GOME-2 AAI](./11_ac-saf_gome2_AAI.ipynb)\n",
    " * [1.2 Sentinel-5P TROPOMI UVAI](./12_s5p_tropomi_UAVI.ipynb)\n",
    " * [1.3 IASI CO](./13_iasi_co.ipynb)\n",
    " * [1.4 Sentinel-5P TROPOMI CO](./13_s5p_tropomi_co.ipynb)\n",
    "\n",
    "\n",
    "* **2 - Copernicus Atmosphere Monitoring Service (CAMS) data**\n",
    " * [2.1 CAMS GFAS](./21_cams_gfas.ipynb)\n",
    " \n",
    "\n",
    "* **3 - Global ECMWF Fire Forecasting (GEFF) data**\n",
    " * [3.1 GEFF data overview](./31_geff_data_overview.ipynb)\n",
    " * [3.2 GEFF harmonized danger classes](./32_geff_harmonized_danger_classes.ipynb)\n",
    " * [3.3 GEFF custom danger classes](./33_geff_custom_danger_classes.ipynb)\n",
    "\n",
    "\n",
    "* **4 - LSA SAF data products for fire monitoring**\n",
    " * [4.1 LSA SAF data products for fire monitoring](./41_lsa-saf.ipynb)\n",
    " \n",
    "\n",
    "* **5 - Copernicus Sentinel 3 data**\n",
    " * [5.1 Sentinel-3 SLSTR Fire Radiative Power](./51_sentinel3_slstr_frp.ipynb)\n",
    " * [5.2 Sentinel-3 SLSTR Fire Radiative Power - Chernobyl Fires](./52_sentinel3_slstr_frp_chernobyl_fires.ipynb)\n",
    " * [5.3 Sentinel-3 OLCI Level-1 RGB](./53_sentinel3_olci_rgb.ipynb)\n",
    " \n",
    "\n",
    "* **6 - Practical Workflow examples**\n",
    " * [6.1 Case study - Siberian Fires - Summer 2019](./61_case_study_siberian_fires_summer_2019.ipynb)\n",
    " * [6.2 Case study - Sweden Fires - Summer 2018](./62_case_study_sweden_fires_summer_2018_self_paced.ipynb)\n",
    "\n",
    "<br>\n",
    "\n",
    "**NOTE:** Throughout the course, general functions to `load`, `re-shape`, `process` and `visualize` the datasets are defined. These functions are re-used when applicable. The [functions notebook](./functions.ipynb) gives you an overview of all the functions defined and used for the course.\n"
   ]
  },
  {
   "cell_type": "markdown",
   "metadata": {
    "Collapsed": "false"
   },
   "source": [
    "## Learning outcomes"
   ]
  },
  {
   "cell_type": "markdown",
   "metadata": {
    "Collapsed": "false"
   },
   "source": [
    "The course is designed for `medium-level users`, who have basic Python knowledge and understanding of Fire monitoring data.\n",
    "\n",
    "After the course, you should have:\n",
    "* an idea about the **different datasets on Fire Monitoring data**,\n",
    "* knowledge about the most useful **Python packages** to handle, process and visualise large volumes of Earth Observation data\n",
    "* an idea about how the **data can help to detect and monitor fire events**"
   ]
  },
  {
   "cell_type": "markdown",
   "metadata": {
    "Collapsed": "false"
   },
   "source": [
    "<hr>"
   ]
  },
  {
   "cell_type": "markdown",
   "metadata": {
    "Collapsed": "false"
   },
   "source": [
    "## Access to the `JupyterHub` "
   ]
  },
  {
   "cell_type": "markdown",
   "metadata": {
    "Collapsed": "false"
   },
   "source": [
    "The course material is made available on a JupyterHub instance, a pre-defined environment that gives learners direct access to the data and Python packages required for following the course.\n",
    "\n",
    "The `JupyterHub` can be accessed as follows:"
   ]
  },
  {
   "cell_type": "markdown",
   "metadata": {
    "Collapsed": "false"
   },
   "source": [
    "* Web address: [https://ltpy.adamplatform.eu](https://ltpy.adamplatform.eu)\n",
    "* Create an account: [https://wekeo-login.services.meeo.it](https://wekeo-login.services.meeo.it)\n",
    "* Log into the `JupyterHub` with your account created."
   ]
  },
  {
   "cell_type": "markdown",
   "metadata": {
    "Collapsed": "false"
   },
   "source": [
    "#### Pre-configured user credentials for the participants of the training on Fire Monitoring"
   ]
  },
  {
   "cell_type": "markdown",
   "metadata": {
    "Collapsed": "false"
   },
   "source": [
    "There is a set of 50 pre-configued user credentials available. The following login details can be used:\n",
    "* username: **ltpy_##** (where ## = 01, 02, ..., 50)\n",
    "* password: **ltpy-p4ss**"
   ]
  },
  {
   "cell_type": "markdown",
   "metadata": {
    "Collapsed": "false"
   },
   "source": [
    "<hr>"
   ]
  },
  {
   "cell_type": "markdown",
   "metadata": {
    "Collapsed": "false"
   },
   "source": [
    "<img src='./img/copernicus_logo.png' alt='Logo EU Copernicus' align='right' width='20%'><br><br><br>\n",
    "\n",
    "<p style=\"text-align:right;\">This project is licensed under the <a href=\"./LICENSE\">MIT License</a> and is developed under a Copernicus contract."
   ]
  }
 ],
 "metadata": {
  "kernelspec": {
   "display_name": "Python 3",
   "language": "python",
   "name": "python3"
  },
  "language_info": {
   "codemirror_mode": {
    "name": "ipython",
    "version": 3
   },
   "file_extension": ".py",
   "mimetype": "text/x-python",
   "name": "python",
   "nbconvert_exporter": "python",
   "pygments_lexer": "ipython3",
   "version": "3.7.3"
  }
 },
 "nbformat": 4,
 "nbformat_minor": 4
}
