{
 "cells": [
  {
   "cell_type": "markdown",
   "metadata": {},
   "source": [
    "<img src='./img/EU-Copernicus-EUM_3Logos.png' alt='Logo EU Copernicus EUMETSAT' align='right' width='40%'></img>"
   ]
  },
  {
   "cell_type": "markdown",
   "metadata": {},
   "source": [
    "<br>"
   ]
  },
  {
   "cell_type": "markdown",
   "metadata": {},
   "source": [
    "<a href=\"./00_index.ipynb\"><< Index </a><br>\n",
    "<a href=\"./12_sentinel3_nrt_slstr_aod_Californian_fires.ipynb\"><< 12 - Sentinel-3 NRT SLSTR AOD - Californian Fires </a><span style=\"float:right;\"><a href=\"./22_sentinel3_nrt_slstr_aod_exercise.ipynb\">22 - Sentinel-3 NRT SLSTR AOD - Exercise >></a></span>"
   ]
  },
  {
   "cell_type": "markdown",
   "metadata": {},
   "source": [
    "<div class=\"alert alert-block alert-success\">\n",
    "<b>EXERCISE WORKBOOK</b></div>"
   ]
  },
  {
   "cell_type": "markdown",
   "metadata": {},
   "source": [
    "# Sentinel-3 Near Real Time SLSTR Fire Radiative Power (FRP)"
   ]
  },
  {
   "cell_type": "markdown",
   "metadata": {},
   "source": [
    "This notebook is an `exercise workbook`, where you can practise the data handling with Sentinel-3 Near Real Time SLSTR Fire Radiative Power (FRP) data. The exercises base on the workflow introduced in the notebook [Sentinel-3 NRT SLSTR FRP - Californian Fires](./11_sentinel3_nrt_slstr_frp_Californian_fires.ipynb). We highly recommend that  you go through this notebook before you do this exercise workbook.\n",
    "\n",
    "The exercise example is based on Sentinel-3 NRT SLSTR FRP data capturing the Siberian fires sensed on 27 June 2020. As a comparison, you see below the Sentinel-3 OLCI Red Green Blue composites for the same day, which clearly shows the smoke plumes in Siberia resulting from the fires."
   ]
  },
  {
   "cell_type": "markdown",
   "metadata": {},
   "source": [
    "<br>"
   ]
  },
  {
   "cell_type": "markdown",
   "metadata": {},
   "source": [
    "\n",
    "<div style='text-align:center;'>\n",
    "<figure><img src='./img/s3_olci_0727.png' width='80%'/>\n",
    "    <figcaption><i>RGB composites of Sentinel-OLCI Level 1 data on 27 June 2020</i></figcaption>\n",
    "</figure>\n",
    "</div>\n",
    "   "
   ]
  },
  {
   "cell_type": "markdown",
   "metadata": {},
   "source": [
    "<hr>"
   ]
  },
  {
   "cell_type": "markdown",
   "metadata": {},
   "source": [
    "### How it works"
   ]
  },
  {
   "cell_type": "markdown",
   "metadata": {},
   "source": [
    "This exercise workbook consists of two types of exercises:"
   ]
  },
  {
   "cell_type": "markdown",
   "metadata": {},
   "source": [
    "#### Coding assignments\n",
    "Coding assignments ask you to fill an empty code cell with code. Code exercises base on the notebook [Sentinel-3 SLSTR FRP - Californian fires](./11_sentinel3_slstr_frp_Californian_fires.ipynb).\n",
    "\n",
    "You recognize `coding assignments` as the yellow-coloured boxes.\n",
    "\n",
    "<div class=\"alert alert-block alert-warning\">\n",
    "<b>Coding assignment</b>\n",
    "</div>"
   ]
  },
  {
   "cell_type": "markdown",
   "metadata": {},
   "source": [
    "#### Questions\n",
    "\n",
    "Questions ask you to reflect on a result and output. `Questions` are provided as green-coloured boxes.\n",
    "\n",
    "<div class=\"alert alert-block alert-success\">\n",
    "<b>Question</b>\n",
    "</div>"
   ]
  },
  {
   "cell_type": "markdown",
   "metadata": {},
   "source": [
    "<hr>"
   ]
  },
  {
   "cell_type": "markdown",
   "metadata": {},
   "source": [
    "### Outline\n",
    "* [1 - Load Sentinel-3 SLSTR FRP data](#load_s3_frp)\n",
    "* [2 - Load, mask and regrid FRP computed from MWIR channel (3.7 um)](#load_mwir)"
   ]
  },
  {
   "cell_type": "markdown",
   "metadata": {},
   "source": [
    "<hr>"
   ]
  },
  {
   "cell_type": "markdown",
   "metadata": {},
   "source": [
    "#### Load required libraries"
   ]
  },
  {
   "cell_type": "code",
   "execution_count": 1,
   "metadata": {},
   "outputs": [],
   "source": [
    "import xarray as xr\n",
    "\n",
    "import numpy as np\n",
    "import matplotlib.pyplot as plt\n",
    "import matplotlib as mpl\n",
    "import matplotlib.pyplot as pltfacebook\n",
    "import matplotlib.colors as colors\n",
    "import matplotlib.cm as cm\n",
    "import matplotlib.pyplot as plt\n",
    "import cartopy.crs as ccrs\n",
    "import cartopy.feature as cfeature\n",
    "from cartopy.mpl.gridliner import LONGITUDE_FORMATTER, LATITUDE_FORMATTER"
   ]
  },
  {
   "cell_type": "markdown",
   "metadata": {},
   "source": [
    "#### Load helper functions"
   ]
  },
  {
   "cell_type": "code",
   "execution_count": 2,
   "metadata": {},
   "outputs": [],
   "source": [
    "from ipynb.fs.full.functions import generate_masked_array, visualize_s3_frp, slstr_frp_gridding"
   ]
  },
  {
   "cell_type": "markdown",
   "metadata": {},
   "source": [
    "<hr>"
   ]
  },
  {
   "cell_type": "markdown",
   "metadata": {},
   "source": [
    "#  Example: Siberian fires - June 2020"
   ]
  },
  {
   "cell_type": "markdown",
   "metadata": {},
   "source": [
    "## <a id='load_s3_frp'></a>Load Sentinel-3 NRT SLSTR FRP data"
   ]
  },
  {
   "cell_type": "markdown",
   "metadata": {},
   "source": [
    "Sentinel-3 NRT SLSTR FRP data are disseminated  in `netCDF` format. The first step is to load the data file with xarray's `open_dataset` function.\n"
   ]
  },
  {
   "cell_type": "markdown",
   "metadata": {},
   "source": [
    "#### Load `Sentinel-3 NRT SLSTR FRP` data with xarray's `open_dataset()` function"
   ]
  },
  {
   "cell_type": "markdown",
   "metadata": {},
   "source": [
    "Once the data file is loaded, you see that the data file has three dimensions: `columns`, `fires` and `rows`. The data and additional information, such as quality flags or latitude and longitude information, is stored as data variables.\n",
    "\n",
    "There are three variables of interest:\n",
    "- `FRP_MWIR` - Fire Radiative Power computed from MWIR channel (3.7 um) [MW]\n",
    "- `FRP_SWIR` - Fire Radiative Power computed from SWIR channel (2.25 um) [MW]\n",
    "- `FLAG_SWIR_SAA` - Flag values to filter out South Atlantic ANomalies (SAA) & other transient / spurious events, only applicable to FRP SWIR"
   ]
  },
  {
   "cell_type": "markdown",
   "metadata": {},
   "source": [
    "<div class=\"alert alert-block alert-warning\">\n",
    "<b>Coding assignment:</b><br>\n",
    "\n",
    "Load the data file `FRP_in_Siberia_202000627.nc` under the directory `./eodata/sentinel3/frp/` with the xarray function `xr.open_dataset()` and call the Dataset `frp_xr`. \n",
    "</div>"
   ]
  },
  {
   "cell_type": "code",
   "execution_count": 3,
   "metadata": {
    "solution2": "hidden",
    "solution2_first": true
   },
   "outputs": [],
   "source": [
    "# Enter your solution here\n",
    "\n",
    "\n",
    "\n",
    "\n",
    "\n"
   ]
  },
  {
   "cell_type": "code",
   "execution_count": 4,
   "metadata": {
    "solution2": "hidden"
   },
   "outputs": [
    {
     "data": {
      "text/plain": [
       "<xarray.Dataset>\n",
       "Dimensions:                 (columns: 1500, fires: 1108, rows: 2000)\n",
       "Dimensions without coordinates: columns, fires, rows\n",
       "Data variables:\n",
       "    i                       (fires) int16 ...\n",
       "    j                       (fires) int32 ...\n",
       "    time                    (fires) datetime64[ns] ...\n",
       "    latitude                (fires) float64 ...\n",
       "    longitude               (fires) float64 ...\n",
       "    FRP_MWIR                (fires) float64 ...\n",
       "    FRP_uncertainty_MWIR    (fires) float64 ...\n",
       "    transmittance_MWIR      (fires) float64 ...\n",
       "    FRP_SWIR                (fires) float64 ...\n",
       "    FRP_uncertainty_SWIR    (fires) float64 ...\n",
       "    FLAG_SWIR_SAA           (fires) int16 ...\n",
       "    transmittance_SWIR      (fires) float64 ...\n",
       "    confidence              (fires) float64 ...\n",
       "    classification          (fires) uint8 ...\n",
       "    S7_Fire_pixel_radiance  (fires) float32 ...\n",
       "    F1_Fire_pixel_radiance  (fires) float32 ...\n",
       "    used_channel            (fires) uint8 ...\n",
       "    Radiance_window         (fires) float32 ...\n",
       "    Glint_angle             (fires) float64 ...\n",
       "    IFOV_area               (fires) float64 ...\n",
       "    TCWV                    (fires) float64 ...\n",
       "    n_window                (fires) int16 ...\n",
       "    n_water                 (fires) int16 ...\n",
       "    n_cloud                 (fires) int16 ...\n",
       "    n_SWIR_fire             (fires) float32 ...\n",
       "    flags                   (rows, columns) uint32 ...\n",
       "Attributes:\n",
       "    title:                  SLSTR Level 2 Product, Fire Radiative Power measu...\n",
       "    comment:                 \n",
       "    netCDF_version:         4.2 of Jul  5 2012 17:07:43 $\n",
       "    product_name:           S3A_SL_2_FRP____20200627T111323_20200627T111823_2...\n",
       "    institution:            MAR\n",
       "    source:                 IPF-SL-2-FRP 02.00\n",
       "    history:                 \n",
       "    references:             S3MPC ACR FRP 003 - i1r2 - SLSTR L2 Product Data ...\n",
       "    contact:                ops@eumetsat.int\n",
       "    creation_time:          2020-06-27T13:46:19Z\n",
       "    resolution:             [ 1000 1000 ]\n",
       "    absolute_orbit_number:  22711\n",
       "    start_time:             2020-06-27T11:13:22.962714Z\n",
       "    stop_time:              2020-06-27T11:18:22.948658Z\n",
       "    track_offset:           998\n",
       "    start_offset:           5632"
      ]
     },
     "execution_count": 4,
     "metadata": {},
     "output_type": "execute_result"
    }
   ],
   "source": [
    "frp_dir = './eodata/'\n",
    "frp_xr = xr.open_dataset(frp_dir+'FRP_in_Siberia_202000627.nc')\n",
    "frp_xr"
   ]
  },
  {
   "cell_type": "markdown",
   "metadata": {},
   "source": [
    "<br>"
   ]
  },
  {
   "cell_type": "markdown",
   "metadata": {},
   "source": [
    "<div class=\"alert alert-block alert-success\">\n",
    "<b>Question:</b><br>\n",
    "   Can you identify the dimensions of the dataset? What data variables are available in the data file?\n",
    "</div>"
   ]
  },
  {
   "cell_type": "markdown",
   "metadata": {},
   "source": [
    "<br>"
   ]
  },
  {
   "cell_type": "markdown",
   "metadata": {},
   "source": [
    "#### Load `latitude` and `longitude` information"
   ]
  },
  {
   "cell_type": "markdown",
   "metadata": {},
   "source": [
    "You can already load the `latitude` and `longitude` information, which will be required for the regridding process."
   ]
  },
  {
   "cell_type": "markdown",
   "metadata": {},
   "source": [
    "<div class=\"alert alert-block alert-warning\">\n",
    "<b>Coding assignment:</b><br>\n",
    "\n",
    "Load the `latitude` and `longitude` variables from the xarray Dataset `frp_xr` above and call them `lat_frp` and `lon_frp` respectively.\n",
    "\n",
    "<br>\n",
    "\n",
    "Print both variables.\n",
    "</div>"
   ]
  },
  {
   "cell_type": "code",
   "execution_count": 5,
   "metadata": {
    "solution2": "hidden",
    "solution2_first": true
   },
   "outputs": [],
   "source": [
    "# Enter your solution here\n",
    "\n",
    "\n",
    "\n",
    "\n",
    "\n"
   ]
  },
  {
   "cell_type": "code",
   "execution_count": 6,
   "metadata": {
    "scrolled": true,
    "solution2": "hidden"
   },
   "outputs": [
    {
     "data": {
      "text/plain": [
       "<xarray.DataArray 'latitude' (fires: 1108)>\n",
       "array([53.275708, 53.269671, 55.355927, ..., 67.347698, 67.341288, 67.359559])\n",
       "Dimensions without coordinates: fires\n",
       "Attributes:\n",
       "    long_name:      Latitude\n",
       "    standard_name:  latitude\n",
       "    units:          degrees_north\n",
       "    valid_min:      -90.0\n",
       "    valid_max:      90.0"
      ]
     },
     "execution_count": 6,
     "metadata": {},
     "output_type": "execute_result"
    }
   ],
   "source": [
    "lat_frp = frp_xr['latitude']\n",
    "lat_frp\n",
    "\n",
    "lon_frp = frp_xr['longitude']\n",
    "lat_frp"
   ]
  },
  {
   "cell_type": "markdown",
   "metadata": {},
   "source": [
    "<br>"
   ]
  },
  {
   "cell_type": "markdown",
   "metadata": {},
   "source": [
    "#### Define variables for `plotting` and `gridding`"
   ]
  },
  {
   "cell_type": "markdown",
   "metadata": {},
   "source": [
    "Let us also define some variables for `plotting` and the `gridding` process. For example the sampling size of the gridded FRP values or the geographical extent."
   ]
  },
  {
   "cell_type": "code",
   "execution_count": 7,
   "metadata": {},
   "outputs": [],
   "source": [
    "sampling_lat_FRP_grid = 0.25        # Sampling for gridded FRP values & differenrce  stats computation \n",
    "sampling_lon_FRP_grid = 0.25        # Sampling for gridded FRP values & differenrce  stats computation \n",
    "FRP_plot_max_grid     = 40.         # Max Integrated FRP value, for plots\n",
    "\n",
    "\n",
    "lat_min               = 50.        # Minimum latitude for mapping plot [deg N]\n",
    "lat_max               = 72.        # Maximum latitude for mapping plot [deg N]\n",
    "lon_min               = 120.        # Minimum lonitude for mapping plot [deg E]\n",
    "lon_max               = 170.        # Maximum lonitude for mapping plot [deg E]"
   ]
  },
  {
   "cell_type": "markdown",
   "metadata": {},
   "source": [
    "<br>"
   ]
  },
  {
   "cell_type": "markdown",
   "metadata": {},
   "source": [
    "Now, let us go through the three different variables (`MWIR`, `SWIR` and `SWIR with SAA filtered out`) and let us load, mask, regrid and visualize them."
   ]
  },
  {
   "cell_type": "markdown",
   "metadata": {},
   "source": [
    "<br>"
   ]
  },
  {
   "cell_type": "markdown",
   "metadata": {},
   "source": [
    "## <a id='load_mwir'></a>Load, mask and regrid `FRP computed from MWIR channel (3.7 um)`"
   ]
  },
  {
   "cell_type": "markdown",
   "metadata": {},
   "source": [
    "The first step is to load the `FRP_MWIR` data variable from the loaded `netCDF` file. You, see that the variable contains 1108 fire entries."
   ]
  },
  {
   "cell_type": "markdown",
   "metadata": {},
   "source": [
    "<div class=\"alert alert-block alert-warning\">\n",
    "<b>Coding assignment:</b><br>\n",
    "\n",
    "Load the `FRP_MWIR` variable from the xarray Dataset `frp_xr` above and call it `frp_mwir`.\n",
    "\n",
    "<br>\n",
    "\n",
    "Print the variable.\n",
    "</div>"
   ]
  },
  {
   "cell_type": "code",
   "execution_count": 8,
   "metadata": {
    "solution2": "hidden",
    "solution2_first": true
   },
   "outputs": [],
   "source": [
    "# Enter your solution\n",
    "\n",
    "\n",
    "\n",
    "\n"
   ]
  },
  {
   "cell_type": "code",
   "execution_count": 9,
   "metadata": {
    "solution2": "hidden"
   },
   "outputs": [
    {
     "data": {
      "text/plain": [
       "<xarray.DataArray 'FRP_MWIR' (fires: 1108)>\n",
       "array([ 8.712728,  3.450277, 27.888621, ...,  3.480033,  3.40337 ,  2.624291])\n",
       "Dimensions without coordinates: fires\n",
       "Attributes:\n",
       "    long_name:  Fire radiative power computed from MWIR channels (S7 and F1)\n",
       "    units:      MW"
      ]
     },
     "execution_count": 9,
     "metadata": {},
     "output_type": "execute_result"
    }
   ],
   "source": [
    "frp_mwir = frp_xr['FRP_MWIR']\n",
    "frp_mwir"
   ]
  },
  {
   "cell_type": "markdown",
   "metadata": {},
   "source": [
    "<br>"
   ]
  },
  {
   "cell_type": "markdown",
   "metadata": {
    "solution2": "hidden",
    "solution2_first": true
   },
   "source": [
    "<div class=\"alert alert-block alert-success\">\n",
    "<b>Question:</b><br>\n",
    "\n",
    "What is the variable's `long_name`?\n",
    "</div>"
   ]
  },
  {
   "cell_type": "markdown",
   "metadata": {
    "solution2": "hidden"
   },
   "source": [
    "The `long_name` of the `FRP_MWIR` variable is `Fire radiative power computed from MWIR channels (S7 and F1)`."
   ]
  },
  {
   "cell_type": "markdown",
   "metadata": {},
   "source": [
    "<br>"
   ]
  },
  {
   "cell_type": "markdown",
   "metadata": {},
   "source": [
    "The next step is to extract (mask) only the right FRP pixels. Valid pixels are different to -1."
   ]
  },
  {
   "cell_type": "markdown",
   "metadata": {},
   "source": [
    "<div class=\"alert alert-block alert-warning\">\n",
    "<b>Coding assignment:</b><br>\n",
    "\n",
    "Generate a masked array and mask out pixels with a value of -1. You can use the function [generate_masked_array](./functions.ipynb#generate_masked_array) to extract the right pixels.\n",
    "\n",
    "<br>\n",
    "\n",
    "**HINT:** With `?generate_masked_array` you can see the function's docstring and which keyword arguments it takes.\n",
    "</div>"
   ]
  },
  {
   "cell_type": "code",
   "execution_count": 10,
   "metadata": {},
   "outputs": [],
   "source": [
    "?generate_masked_array"
   ]
  },
  {
   "cell_type": "code",
   "execution_count": 11,
   "metadata": {
    "solution2": "hidden",
    "solution2_first": true
   },
   "outputs": [],
   "source": [
    "# Enter your solution here\n",
    "\n",
    "\n",
    "\n",
    "\n"
   ]
  },
  {
   "cell_type": "code",
   "execution_count": 12,
   "metadata": {
    "solution2": "hidden"
   },
   "outputs": [
    {
     "name": "stdout",
     "output_type": "stream",
     "text": [
      "<xarray.DataArray 'FRP_MWIR' (fires: 1108)>\n",
      "array([ 8.712728,  3.450277, 27.888621, ...,  3.480033,  3.40337 ,  2.624291])\n",
      "Dimensions without coordinates: fires\n"
     ]
    },
    {
     "data": {
      "text/plain": [
       "<xarray.DataArray 'FRP_MWIR' (fires: 1108)>\n",
       "array([ 8.712728,  3.450277, 27.888621, ...,  3.480033,  3.40337 ,  2.624291])\n",
       "Dimensions without coordinates: fires\n",
       "Attributes:\n",
       "    long_name:  Fire radiative power computed from MWIR channels (S7 and F1)\n",
       "    units:      MW"
      ]
     },
     "execution_count": 12,
     "metadata": {},
     "output_type": "execute_result"
    }
   ],
   "source": [
    "masked_frp_mwir = generate_masked_array(frp_mwir, frp_mwir, -1.,operator='!=', drop=True)\n",
    "masked_frp_mwir\n"
   ]
  },
  {
   "cell_type": "markdown",
   "metadata": {},
   "source": [
    "<br>"
   ]
  },
  {
   "cell_type": "markdown",
   "metadata": {},
   "source": [
    "Let us retrieve the number of of hotspots / fires in total and per category."
   ]
  },
  {
   "cell_type": "code",
   "execution_count": 13,
   "metadata": {},
   "outputs": [
    {
     "data": {
      "text/plain": [
       "(1108, 1108)"
      ]
     },
     "execution_count": 13,
     "metadata": {},
     "output_type": "execute_result"
    }
   ],
   "source": [
    "n_fire_tot           = len(lat_frp[:])\n",
    "n_fire_MWIR          = len(masked_frp_mwir.to_masked_array().compressed())\n",
    "\n",
    "n_fire_tot, n_fire_MWIR"
   ]
  },
  {
   "cell_type": "markdown",
   "metadata": {},
   "source": [
    "### Generate a gridded FRP array"
   ]
  },
  {
   "cell_type": "markdown",
   "metadata": {},
   "source": [
    "Let us compute the gridded FRP information. The gridded FRP is the integration (sum) of FRP within a grid cell.\n",
    "You can define the function [slstr_frp_gridding](./functions.ipynb#slstr_frp_gridding), which you can reuse to apply it for other data variables."
   ]
  },
  {
   "cell_type": "markdown",
   "metadata": {},
   "source": [
    "<div class=\"alert alert-block alert-warning\">\n",
    "<b>Coding assignment:</b><br>\n",
    "\n",
    "Generate a gridded FRP array and use the function [slstr_frp_gridding](./functions.ipynb#slstr_frp_gridding) to do so.\n",
    "\n",
    "<br>\n",
    "\n",
    "**HINT:** `?slstr_frp_gridding` allows you to open the function's docstring and to see which keyword arguments the function takes.\n",
    "</div>"
   ]
  },
  {
   "cell_type": "code",
   "execution_count": 14,
   "metadata": {},
   "outputs": [],
   "source": [
    "?slstr_frp_gridding"
   ]
  },
  {
   "cell_type": "code",
   "execution_count": 15,
   "metadata": {
    "solution2": "hidden",
    "solution2_first": true
   },
   "outputs": [],
   "source": [
    "# Enter your solution here\n",
    "\n",
    "\n",
    "\n",
    "\n"
   ]
  },
  {
   "cell_type": "code",
   "execution_count": 16,
   "metadata": {
    "scrolled": false,
    "solution2": "hidden"
   },
   "outputs": [
    {
     "data": {
      "text/plain": [
       "(array([[-9999., -9999., -9999., ..., -9999., -9999., -9999.],\n",
       "        [-9999., -9999., -9999., ..., -9999., -9999., -9999.],\n",
       "        [-9999., -9999., -9999., ..., -9999., -9999., -9999.],\n",
       "        ...,\n",
       "        [-9999., -9999., -9999., ..., -9999., -9999., -9999.],\n",
       "        [-9999., -9999., -9999., ..., -9999., -9999., -9999.],\n",
       "        [-9999., -9999., -9999., ..., -9999., -9999., -9999.]],\n",
       "       dtype=float32),\n",
       " array([[50.125, 50.125, 50.125, ..., 50.125, 50.125, 50.125],\n",
       "        [50.375, 50.375, 50.375, ..., 50.375, 50.375, 50.375],\n",
       "        [50.625, 50.625, 50.625, ..., 50.625, 50.625, 50.625],\n",
       "        ...,\n",
       "        [71.625, 71.625, 71.625, ..., 71.625, 71.625, 71.625],\n",
       "        [71.875, 71.875, 71.875, ..., 71.875, 71.875, 71.875],\n",
       "        [72.125, 72.125, 72.125, ..., 72.125, 72.125, 72.125]],\n",
       "       dtype=float32),\n",
       " array([[120.125, 120.375, 120.625, ..., 169.625, 169.875, 170.125],\n",
       "        [120.125, 120.375, 120.625, ..., 169.625, 169.875, 170.125],\n",
       "        [120.125, 120.375, 120.625, ..., 169.625, 169.875, 170.125],\n",
       "        ...,\n",
       "        [120.125, 120.375, 120.625, ..., 169.625, 169.875, 170.125],\n",
       "        [120.125, 120.375, 120.625, ..., 169.625, 169.875, 170.125],\n",
       "        [120.125, 120.375, 120.625, ..., 169.625, 169.875, 170.125]],\n",
       "       dtype=float32))"
      ]
     },
     "execution_count": 16,
     "metadata": {},
     "output_type": "execute_result"
    }
   ],
   "source": [
    "FRP_MWIR_grid, lat_grid, lon_grid = slstr_frp_gridding(frp_mwir,\n",
    "                                                       lat_frp,\n",
    "                                                       lon_frp,\n",
    "                                                       'mwir', \n",
    "                                                       lat_min, lat_max, lon_min, lon_max, \n",
    "                                                       sampling_lat_FRP_grid,\n",
    "                                                       sampling_lon_FRP_grid, \n",
    "                                                       n_fire_MWIR)\n",
    "FRP_MWIR_grid, lat_grid, lon_grid"
   ]
  },
  {
   "cell_type": "markdown",
   "metadata": {},
   "source": [
    "<br>"
   ]
  },
  {
   "cell_type": "markdown",
   "metadata": {},
   "source": [
    "Mask out the invalid pixels for plotting. You can use numpy's function `np.ma.masked_array()` for this."
   ]
  },
  {
   "cell_type": "markdown",
   "metadata": {},
   "source": [
    "<div class=\"alert alert-block alert-warning\">\n",
    "<b>Coding assignment:</b><br>\n",
    "\n",
    "1. Create first a data mask, where you set all values different to -9999. to `False` and all -9999 ato `True`. Name the resulting mask `mask_valid`.  You can use numpy's function `np.where()` for it.\n",
    "\n",
    "2. In a second step, create a masked array with numpy's function `np.ma.masked_array()` and call it `D_mwir`. Use the mask you created before as mask.\n",
    "</div>"
   ]
  },
  {
   "cell_type": "code",
   "execution_count": 17,
   "metadata": {
    "solution2": "hidden",
    "solution2_first": true
   },
   "outputs": [],
   "source": [
    "# Enter your solution here\n",
    "\n",
    "\n",
    "\n",
    "\n"
   ]
  },
  {
   "cell_type": "code",
   "execution_count": 18,
   "metadata": {
    "solution2": "hidden"
   },
   "outputs": [
    {
     "data": {
      "text/plain": [
       "masked_array(\n",
       "  data=[[--, --, --, ..., --, --, --],\n",
       "        [--, --, --, ..., --, --, --],\n",
       "        [--, --, --, ..., --, --, --],\n",
       "        ...,\n",
       "        [--, --, --, ..., --, --, --],\n",
       "        [--, --, --, ..., --, --, --],\n",
       "        [--, --, --, ..., --, --, --]],\n",
       "  mask=[[ True,  True,  True, ...,  True,  True,  True],\n",
       "        [ True,  True,  True, ...,  True,  True,  True],\n",
       "        [ True,  True,  True, ...,  True,  True,  True],\n",
       "        ...,\n",
       "        [ True,  True,  True, ...,  True,  True,  True],\n",
       "        [ True,  True,  True, ...,  True,  True,  True],\n",
       "        [ True,  True,  True, ...,  True,  True,  True]],\n",
       "  fill_value=1e+20,\n",
       "  dtype=float32)"
      ]
     },
     "execution_count": 18,
     "metadata": {},
     "output_type": "execute_result"
    }
   ],
   "source": [
    "mask_valid = np.where(FRP_MWIR_grid[:,:] != -9999., False, True)\n",
    "\n",
    "D_mwir = np.ma.masked_array(FRP_MWIR_grid[:,:], mask=mask_valid)\n",
    "D_mwir"
   ]
  },
  {
   "cell_type": "markdown",
   "metadata": {},
   "source": [
    "<br>"
   ]
  },
  {
   "cell_type": "markdown",
   "metadata": {},
   "source": [
    "Calculate some statistics and add them to a string that can be integrated in the final plot."
   ]
  },
  {
   "cell_type": "code",
   "execution_count": 19,
   "metadata": {},
   "outputs": [],
   "source": [
    "textstr_1 = 'Total number 1km hot-spots = ' + str(n_fire_MWIR)\n",
    "\n",
    "\n",
    "FRP_sum      = np.sum(masked_frp_mwir.to_masked_array().compressed())\n",
    "FRP_mean     = np.mean(masked_frp_mwir.to_masked_array().compressed())\n",
    "FRP_std      = np.std(masked_frp_mwir.to_masked_array().compressed())\n",
    "FRP_min      = np.min(masked_frp_mwir.to_masked_array().compressed())\n",
    "FRP_max      = np.max(masked_frp_mwir.to_masked_array().compressed())\n",
    "\n",
    "FRP_sum_str  = '%.1f' % FRP_sum\n",
    "FRP_mean_str = '%.1f' % FRP_mean\n",
    "FRP_std_str  = '%.1f' % FRP_std\n",
    "FRP_min_str  = '%.1f' % FRP_min\n",
    "FRP_max_str  = '%.1f' % FRP_max\n",
    "\n",
    "textstr_2 = 'FRP 1 km: \\n Total = '+FRP_sum_str+' [MW] \\n Avg. = '+ FRP_mean_str + ' [MW] \\n Min = ' + FRP_min_str + ' [MW] \\n Max = ' + FRP_max_str + ' [MW]'\n",
    "\n"
   ]
  },
  {
   "cell_type": "markdown",
   "metadata": {},
   "source": [
    "<br>"
   ]
  },
  {
   "cell_type": "markdown",
   "metadata": {},
   "source": [
    "### Visualize the masked data array with matplotlib's `pcolormesh()` function"
   ]
  },
  {
   "cell_type": "markdown",
   "metadata": {},
   "source": [
    "Now, you can apply the function [visualize_s3_frp](./functions.ipynb#visualize_s3_frp) and plot the `FRP computed from MWIR channel` data. Additionally, you can take information such as `longname` or `units` from the data variable attributes."
   ]
  },
  {
   "cell_type": "markdown",
   "metadata": {},
   "source": [
    "<div class=\"alert alert-block alert-warning\">\n",
    "<b>Coding assignment:</b><br>\n",
    "\n",
    "Visualize the masked array `D_mwir` with the function [visualize_s3_frp](./functions.ipynb#visualize_s3_frp).\n",
    "\n",
    "<br>\n",
    "\n",
    "HINT: with `?visualize_s3_frp` you can open then function's docstring and see what keyword arguments the function takes.\n",
    "</div>"
   ]
  },
  {
   "cell_type": "code",
   "execution_count": 20,
   "metadata": {},
   "outputs": [],
   "source": [
    "?visualize_s3_frp"
   ]
  },
  {
   "cell_type": "code",
   "execution_count": 21,
   "metadata": {
    "solution2": "hidden",
    "solution2_first": true
   },
   "outputs": [],
   "source": [
    "# Enter your solution here\n",
    "\n",
    "\n",
    "\n",
    "\n"
   ]
  },
  {
   "cell_type": "code",
   "execution_count": 22,
   "metadata": {
    "scrolled": false,
    "solution2": "hidden"
   },
   "outputs": [
    {
     "data": {
      "image/png": "[encoded data removed]",
      "text/plain": [
       "<Figure size 1440x1080 with 2 Axes>"
      ]
     },
     "metadata": {
      "needs_background": "light"
     },
     "output_type": "display_data"
    }
   ],
   "source": [
    "long_name = frp_mwir.long_name\n",
    "unit = frp_mwir.units\n",
    "vmax = FRP_plot_max_grid\n",
    "\n",
    "visualize_s3_frp(D_mwir[:,:],lat_grid, lon_grid, unit, long_name, textstr_1, textstr_2, FRP_plot_max_grid)"
   ]
  },
  {
   "cell_type": "markdown",
   "metadata": {},
   "source": [
    "<br>"
   ]
  },
  {
   "cell_type": "markdown",
   "metadata": {},
   "source": [
    "<a href=\"./00_index.ipynb\"><< Index </a><br>\n",
    "<a href=\"./12_sentinel3_nrt_slstr_aod_Californian_fires.ipynb\"><< 12 - Sentinel-3 NRT SLSTR AOD - Californian Fires </a><span style=\"float:right;\"><a href=\"./22_sentinel3_nrt_slstr_aod_exercise.ipynb\">22 - Sentinel-3 NRT SLSTR AOD - Exercise >></a></span>"
   ]
  },
  {
   "cell_type": "markdown",
   "metadata": {},
   "source": [
    "<hr>"
   ]
  },
  {
   "cell_type": "markdown",
   "metadata": {},
   "source": [
    "<img src='./img/copernicus_logo.png' alt='Logo EU Copernicus' align='right' width='20%'><br><br><br>\n",
    "\n",
    "<p style=\"text-align:right;\">This project is licensed under the <a href=\"./LICENSE\">MIT License</a> and is developed under a Copernicus contract."
   ]
  }
 ],
 "metadata": {
  "kernelspec": {
   "display_name": "Python 3",
   "language": "python",
   "name": "python3"
  },
  "language_info": {
   "codemirror_mode": {
    "name": "ipython",
    "version": 3
   },
   "file_extension": ".py",
   "mimetype": "text/x-python",
   "name": "python",
   "nbconvert_exporter": "python",
   "pygments_lexer": "ipython3",
   "version": "3.8.6"
  }
 },
 "nbformat": 4,
 "nbformat_minor": 2
}
