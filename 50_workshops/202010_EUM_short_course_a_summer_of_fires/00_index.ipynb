{
 "cells": [
  {
   "cell_type": "markdown",
   "metadata": {
    "Collapsed": "false"
   },
   "source": [
    "<img src='./img/short_course_logo.png' alt='Logo EU Copernicus EUMETSAT' align='centre' width='90%'></img>"
   ]
  },
  {
   "cell_type": "markdown",
   "metadata": {},
   "source": [
    "<br>"
   ]
  },
  {
   "cell_type": "markdown",
   "metadata": {
    "Collapsed": "false"
   },
   "source": [
    "<br>"
   ]
  },
  {
   "cell_type": "markdown",
   "metadata": {
    "Collapsed": "false"
   },
   "source": [
    "### EUMETSAT Online Short Course #4"
   ]
  },
  {
   "cell_type": "markdown",
   "metadata": {},
   "source": [
    "# Summer(s) of fires - The 2020 wildfires in Australia, Siberia and California"
   ]
  },
  {
   "cell_type": "markdown",
   "metadata": {},
   "source": [
    "Jointly organized by [EUMETSAT](https://www.eumetsat.int/website/home/index.html), [CAMS-ECMWF](https://atmosphere.copernicus.eu/), [AC SAF](https://acsaf.org/), [LSA SAF](https://landsaf.ipma.pt/en/), with support from [Copernicus](https://www.copernicus.eu/en) "
   ]
  },
  {
   "cell_type": "markdown",
   "metadata": {
    "Collapsed": "false"
   },
   "source": [
    "This short course introduces you to fire monitoring with satellites in general and the Sentinel-3 SLSTR Fire Radiative Power (FRP) and Aerosol Optical Depth (AOD) data products in specific. The course is accompanied with Jupyter-based training material that allows you to practically work with the data presented.\n",
    "\n",
    "The short course consists of two parts:\n",
    "\n",
    "* **Short course | 14 Oct 2020, 12:00 UTC**\n",
    "* **Short course feedback session | 19 Oct 2020, 12:00 UTC**\n",
    "\n",
    "\n",
    "The short course on 14 October gives you an introduction to the topic and the practical training material. Between the short course and the feedback session, you can work with the data in a self-paced manner. During the feedback session, we will discuss open questions and feedback.\n",
    "\n",
    "You can engage and ask questions via [Slido](https://slido.com): `#EUMSC4`\n",
    "\n"
   ]
  },
  {
   "cell_type": "markdown",
   "metadata": {},
   "source": [
    "<br>"
   ]
  },
  {
   "cell_type": "markdown",
   "metadata": {
    "Collapsed": "false"
   },
   "source": [
    "## Sentinel-3 SLSTR data products for fire monitoring"
   ]
  },
  {
   "cell_type": "markdown",
   "metadata": {
    "Collapsed": "false"
   },
   "source": [
    "This course features two data products from the Sentinel-3 SLSTR sensor:\n",
    "\n",
    "* [Fire Radiative Power (FRP)](https://navigator.eumetsat.int/product/EO:EUM:DAT:0207)\n",
    "* [Aerosol Optical Depth (AOD](https://www.eumetsat.int/website/home/News/DAT_5150095.html)\n",
    "\n"
   ]
  },
  {
   "cell_type": "markdown",
   "metadata": {},
   "source": [
    "<br>"
   ]
  },
  {
   "cell_type": "markdown",
   "metadata": {
    "Collapsed": "false"
   },
   "source": [
    "## Course outline"
   ]
  },
  {
   "cell_type": "markdown",
   "metadata": {
    "Collapsed": "false"
   },
   "source": [
    "The course offers the following notebooks:\n",
    "\n",
    "* **Workflows**\n",
    " * [1.1 Sentinel-3 Near Real Time SLSTR Fire Radiative Power - Californian fires](./11_sentinel3_nrt_slstr_frp_Californian_fires.ipynb)\n",
    " * [1.2 Sentinel-3 Near Real Time SLSTR Aerosol Optical Depth - Californian fires](./12_sentinel3_nrt_slstr_aod_Californian_fires.ipynb)\n",
    "\n",
    "\n",
    "* **Exercises**\n",
    " * [2.1 Sentinel-3 Near Real Time SLSTR Fire Radiative Power - Exercise](./21_sentinel3_nrt_slstr_frp_exercise.ipynb)\n",
    " * [2.2 Sentinel-3 Near Real Time SLSTR Aerosol Optical Depth - Exercise](./22_sentinel3_nrt_slstr_aod_exercise.ipynb)\n",
    "\n",
    "<br>\n",
    "\n",
    "\n",
    "**NOTE:** Throughout the course, general functions to `load`, `re-shape`, `process` and `visualize` the datasets are defined. These functions are re-used when applicable. The [functions notebook](./functions.ipynb) gives you an overview of all the functions defined and used for the course.\n"
   ]
  },
  {
   "cell_type": "markdown",
   "metadata": {
    "Collapsed": "false"
   },
   "source": [
    "## Learning outcomes"
   ]
  },
  {
   "cell_type": "markdown",
   "metadata": {
    "Collapsed": "false"
   },
   "source": [
    "The course is designed for `beginners and medium-level users`, who have basic Python knowledge.\n",
    "\n",
    "After the course, you should have:\n",
    "* an idea about the **data products for Fire Monitoring the Sentinel-3 SLSTR sensor offers**,\n",
    "* knowledge about the most useful **Python packages** to handle, process and visualise Sentinel-3 SLSTR fire products\n",
    "* an idea about how the **data can help to detect and monitor fire events**"
   ]
  },
  {
   "cell_type": "markdown",
   "metadata": {
    "Collapsed": "false"
   },
   "source": [
    "<hr>"
   ]
  },
  {
   "cell_type": "markdown",
   "metadata": {
    "Collapsed": "false"
   },
   "source": [
    "## Access to the `JupyterHub` "
   ]
  },
  {
   "cell_type": "markdown",
   "metadata": {
    "Collapsed": "false"
   },
   "source": [
    "The course material is made available on a JupyterHub instance, a pre-defined environment that gives learners direct access to the data and Python packages required for following the course.\n",
    "\n",
    "The `JupyterHub` can be accessed as follows:"
   ]
  },
  {
   "cell_type": "markdown",
   "metadata": {
    "Collapsed": "false"
   },
   "source": [
    "* Web address: [https://ltpy.adamplatform.eu](https://ltpy.adamplatform.eu)\n",
    "* Create an account: [https://wekeo-login.services.meeo.it](https://wekeo-login.services.meeo.it)\n",
    "* Log into the `JupyterHub` with your account created."
   ]
  },
  {
   "cell_type": "markdown",
   "metadata": {},
   "source": [
    "There are 100 spaces available which will be given on a first come first served basis."
   ]
  },
  {
   "cell_type": "markdown",
   "metadata": {
    "Collapsed": "false"
   },
   "source": [
    "<hr>"
   ]
  },
  {
   "cell_type": "markdown",
   "metadata": {
    "Collapsed": "false"
   },
   "source": [
    "<img src='./img/copernicus_logo.png' alt='Logo EU Copernicus' align='right' width='20%'><br><br><br>\n",
    "\n",
    "<p style=\"text-align:right;\">This project is licensed under the <a href=\"./LICENSE\">MIT License</a> and is developed under a Copernicus contract."
   ]
  }
 ],
 "metadata": {
  "kernelspec": {
   "display_name": "Python 3",
   "language": "python",
   "name": "python3"
  },
  "language_info": {
   "codemirror_mode": {
    "name": "ipython",
    "version": 3
   },
   "file_extension": ".py",
   "mimetype": "text/x-python",
   "name": "python",
   "nbconvert_exporter": "python",
   "pygments_lexer": "ipython3",
   "version": "3.8.6"
  }
 },
 "nbformat": 4,
 "nbformat_minor": 4
}
