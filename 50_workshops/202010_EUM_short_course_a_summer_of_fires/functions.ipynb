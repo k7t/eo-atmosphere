{
 "cells": [
  {
   "cell_type": "markdown",
   "metadata": {
    "Collapsed": "false"
   },
   "source": [
    "<img src='./img/EU-Copernicus-EUM_3Logos.png' alt='Logo EU Copernicus EUMETSAT' align='right' width='40%'></img>"
   ]
  },
  {
   "cell_type": "markdown",
   "metadata": {
    "Collapsed": "false"
   },
   "source": [
    "<br>"
   ]
  },
  {
   "cell_type": "markdown",
   "metadata": {
    "Collapsed": "false"
   },
   "source": [
    "# Functions"
   ]
  },
  {
   "cell_type": "markdown",
   "metadata": {},
   "source": [
    "This notebook lists all `functions` that are defined and used during the `Fire Monitoring course`.\n",
    "The following functions are listed:\n",
    "\n",
    "**[Data loading and re-shaping functions](#load_reshape)**\n",
    "* [generate_masked_array](#generate_masked_array)\n",
    "* [slstr_frp_gridding](#slstr_frp_gridding)\n",
    "\n",
    "**[Data visualization functions](#visualization)**\n",
    "* [visualize_pcolormesh](#visualize_pcolormesh)\n",
    "* [visualize_s3_frp](#vis_s3_frp)"
   ]
  },
  {
   "cell_type": "markdown",
   "metadata": {},
   "source": [
    "<hr>"
   ]
  },
  {
   "cell_type": "markdown",
   "metadata": {},
   "source": [
    "#### Load required libraries"
   ]
  },
  {
   "cell_type": "code",
   "execution_count": 1,
   "metadata": {
    "Collapsed": "false"
   },
   "outputs": [],
   "source": [
    "import os\n",
    "from matplotlib import pyplot as plt\n",
    "\n",
    "import xarray as xr\n",
    "from netCDF4 import Dataset\n",
    "import numpy as np\n",
    "import glob\n",
    "\n",
    "from matplotlib import pyplot as plt\n",
    "import matplotlib.colors\n",
    "import matplotlib.cm as cm\n",
    "from matplotlib.colors import LogNorm\n",
    "import cartopy.crs as ccrs\n",
    "from cartopy.mpl.gridliner import LONGITUDE_FORMATTER, LATITUDE_FORMATTER\n",
    "import cartopy.feature as cfeature\n",
    "\n",
    "import warnings\n",
    "warnings.simplefilter(action = \"ignore\", category = RuntimeWarning)\n",
    "warnings.simplefilter(action = \"ignore\", category = FutureWarning)"
   ]
  },
  {
   "cell_type": "markdown",
   "metadata": {},
   "source": [
    "<hr>"
   ]
  },
  {
   "cell_type": "markdown",
   "metadata": {},
   "source": [
    "## <a id=\"load_reshape\"></a>Data loading and re-shaping functions"
   ]
  },
  {
   "cell_type": "markdown",
   "metadata": {
    "Collapsed": "false"
   },
   "source": [
    "### <a id='generate_masked_array'></a>`generate_masked_array`"
   ]
  },
  {
   "cell_type": "code",
   "execution_count": 10,
   "metadata": {
    "Collapsed": "false"
   },
   "outputs": [],
   "source": [
    "def generate_masked_array(xarray, mask, threshold, operator, drop=True):\n",
    "    \"\"\" \n",
    "    Applies a mask (e.g. cloud fraction values or masking out certain data values) onto a given data array, based on a given threshold.\n",
    "    \n",
    "    Parameters:\n",
    "        xarray (xarray DataArray): a three-dimensional xarray DataArray object\n",
    "        mask (xarray DataArray): 1-dimensional xarray DataArray, e.g. cloud fraction values\n",
    "        threshold (float): any number between 0 and 1, specifying the degree of cloudiness which is acceptable\n",
    "        operator (str): operator how to mask the array, e.g. '<', '>' or '='\n",
    "        drop(boolean): whether to drop the values that are masked out. Default is True.\n",
    "        \n",
    "    Returns:\n",
    "        Masked xarray DataArray with flagged negative values\n",
    "    \"\"\"\n",
    "    if(operator=='<'):\n",
    "        cloud_mask = xr.where(mask < threshold, 1, 0) #Generate cloud mask with value 1 for the pixels we want to keep\n",
    "    elif(operator=='!='):\n",
    "        cloud_mask = xr.where(mask != threshold, 1, 0)\n",
    "    elif(operator=='>'):\n",
    "        cloud_mask = xr.where(mask > threshold, 1, 0)\n",
    "    else:\n",
    "        cloud_mask = xr.where(mask == threshold, 1, 0)\n",
    "            \n",
    "    xarray_masked = xr.where(cloud_mask ==1, xarray, np.nan) #Apply mask onto the DataArray\n",
    "    print(xarray_masked)\n",
    "    xarray_masked.attrs = xarray.attrs #Set DataArray attributes \n",
    "    if(drop):\n",
    "        return xarray_masked[~np.isnan(xarray_masked)] #Return masked DataArray and flag negative values\n",
    "    else:\n",
    "        return xarray_masked"
   ]
  },
  {
   "cell_type": "markdown",
   "metadata": {},
   "source": [
    "### <a id='slstr_frp_gridding'></a>`slstr_frp_gridding`"
   ]
  },
  {
   "cell_type": "code",
   "execution_count": 1,
   "metadata": {},
   "outputs": [],
   "source": [
    "def slstr_frp_gridding(parameter_array, lat_frp, lon_frp, parameter, lat_min, lat_max, lon_min, lon_max, sampling_lat, sampling_lon, n_fire, **kwargs):\n",
    "    \"\"\" \n",
    "    Grids the NRT Sentinel-3 SLSTR Fire Radiative Power data onto a regular latitude and longitude data\n",
    "    \n",
    "    Parameters:\n",
    "        parameter_array (xarray DataArray): xarray DataArray object\n",
    "        lat_frp (xarray DataArray): latitude information retrieved from the data file\n",
    "        lon_frp (xarray DataArray): longitude information retrieved from the data file\n",
    "        parameter (str): Parameter of the SLSTR FRP data\n",
    "        lat_min (float): latitude minimum\n",
    "        lat_max (float): latitude maximum\n",
    "        lon_min (float): longitude minimum\n",
    "        lon_max (float): longitude maximum\n",
    "        sampling_lat(float): resolution for latitude\n",
    "        sampling_lon(float): resolution for longitude\n",
    "        n_fire (int): Number of fires\n",
    "        **kwargs():\n",
    "\n",
    "        \n",
    "    Returns:\n",
    "        the numpy arrays, holding the gridded slstr frp information and latitude and longitude data\n",
    "    \"\"\"\n",
    "    \n",
    "    n_lat = int( (np.float32(lat_max) - np.float32(lat_min)) / sampling_lat ) + 1 # Number of rows per latitude sampling\n",
    "    n_lon = int( (np.float32(lon_max) - np.float32(lon_min)) / sampling_lon ) + 1 # Number of lines per longitude sampling\n",
    "\n",
    "    \n",
    "    slstr_frp_gridded = np.zeros( [n_lat, n_lon], dtype='float32' ) - 9999.\n",
    "\n",
    "    lat_grid = np.zeros( [n_lat, n_lon], dtype='float32' ) - 9999.\n",
    "    lon_grid = np.zeros( [n_lat, n_lon], dtype='float32' ) - 9999.\n",
    "    \n",
    "    if (n_fire >= 0):\n",
    "    \n",
    "    # Loop on i_lat: begins\n",
    "        for i_lat in range(n_lat):\n",
    "                    \n",
    "        # Loop on i_lon: begins\n",
    "            for i_lon in range(n_lon):\n",
    "                        \n",
    "                lat_grid[i_lat, i_lon] = lat_min + np.float32(i_lat) * sampling_lat + sampling_lat / 2.\n",
    "                lon_grid[i_lat, i_lon] = lon_min + np.float32(i_lon) * sampling_lon + sampling_lon / 2.\n",
    "                            \n",
    "            # Gridded SLSTR FRP MWIR Night - All days\n",
    "                if(parameter=='swir_nosaa'):\n",
    "                    FLAG_FRP_SWIR_SAA_nc = kwargs.get('flag', None)\n",
    "                    mask_grid = np.where( \n",
    "                        (lat_frp[:] >= lat_min + np.float32(i_lat) * sampling_lat)  & \n",
    "                        (lat_frp[:] < lat_min + np.float32(i_lat+1) * sampling_lat) & \n",
    "                        (lon_frp[:] >= lon_min + np.float32(i_lon) * sampling_lon)  & \n",
    "                        (lon_frp[:] < lon_min + np.float32(i_lon+1) * sampling_lon) &\n",
    "                        (parameter_array[:] != -1.) & (FLAG_FRP_SWIR_SAA_nc[:] == 0), False, True)\n",
    "                else:\n",
    "                    mask_grid = np.where( \n",
    "                        (lat_frp[:] >= lat_min + np.float32(i_lat) * sampling_lat)  & \n",
    "                        (lat_frp[:] < lat_min + np.float32(i_lat+1) * sampling_lat) & \n",
    "                        (lon_frp[:] >= lon_min + np.float32(i_lon) * sampling_lon)  & \n",
    "                        (lon_frp[:] < lon_min + np.float32(i_lon+1) * sampling_lon) &\n",
    "                        (parameter_array[:] != -1.),  False, True)\n",
    "                            \n",
    "                masked_slstr_frp_grid = np.ma.array(parameter_array[:], mask=mask_grid)\n",
    "                            \n",
    "                if len(masked_slstr_frp_grid.compressed()) != 0:\n",
    "                    slstr_frp_gridded[i_lat, i_lon]  = np.sum(masked_slstr_frp_grid.compressed())\n",
    "    return slstr_frp_gridded, lat_grid, lon_grid"
   ]
  },
  {
   "cell_type": "markdown",
   "metadata": {},
   "source": [
    "<hr>"
   ]
  },
  {
   "cell_type": "markdown",
   "metadata": {},
   "source": [
    "## <a id=\"visualization\"></a>Data visualization functions"
   ]
  },
  {
   "cell_type": "markdown",
   "metadata": {
    "Collapsed": "false"
   },
   "source": [
    "### <a id='visualize_pcolormesh'></a>`visualize_pcolormesh`"
   ]
  },
  {
   "cell_type": "code",
   "execution_count": 1,
   "metadata": {
    "Collapsed": "false"
   },
   "outputs": [],
   "source": [
    "def visualize_pcolormesh(aod_ocean, aod_land, latitude, longitude, title, unit, vmin, vmax, color_scale, projection):\n",
    "    \"\"\" \n",
    "    Visualizes Sentinel-3 SLSTR Aerosol Optical Depth data with the help of matplotlib's pcolormesh function.\n",
    "    \n",
    "    Parameters:\n",
    "        aod_ocean (xarray DataArray): DataArray with AOD data over ocean\n",
    "        aod_land (xarray DataArray): DataArray with AOD data over land\n",
    "        latitude (xarray DataArray): latitude information retrieved from the data file\n",
    "        longitude (xarray DataArray): longitude information retrieved from the data file\n",
    "        title (str): Title of the plot\n",
    "        unit (str): Unit of the data\n",
    "        vmin (float): Minimum value for visualization\n",
    "        vmax (float): Maximum value for visualization\n",
    "        color_scale (str): Color scale\n",
    "        projection (ccrs.projection): Projection of final plot\n",
    "\n",
    "    \"\"\"\n",
    "    fig=plt.figure(figsize=(12, 12))\n",
    "\n",
    "    ax=plt.axes(projection=projection)\n",
    "    ax.coastlines(linewidth=1.5, linestyle='solid', color='k', zorder=10)\n",
    "\n",
    "    gl = ax.gridlines(draw_labels=True, linestyle='--')\n",
    "    gl.xlabels_top=False\n",
    "    gl.ylabels_right=False\n",
    "    gl.xformatter=LONGITUDE_FORMATTER\n",
    "    gl.yformatter=LATITUDE_FORMATTER\n",
    "    gl.xlabel_style={'size':12}\n",
    "    gl.ylabel_style={'size':12}\n",
    "\n",
    "\n",
    "    img1 = plt.pcolormesh(longitude, latitude, aod_ocean, transform=ccrs.PlateCarree(), vmin=vmin, vmax=vmax, cmap=color_scale)\n",
    "    img2 = plt.pcolormesh(longitude, latitude, aod_land, transform=ccrs.PlateCarree(), vmin=vmax, vmax=vmax, cmap=color_scale)\n",
    "    ax.set_title(title, fontsize=20, pad=20.0)\n",
    "\n",
    "    cbar = fig.colorbar(img1, ax=ax, orientation='vertical', fraction=0.04, pad=0.05)\n",
    "    cbar.set_label(unit, fontsize=16)\n",
    "    cbar.ax.tick_params(labelsize=14)\n",
    "\n",
    "    plt.show()"
   ]
  },
  {
   "cell_type": "markdown",
   "metadata": {},
   "source": [
    "### <a id='vis_s3_frp'></a> `visualize_s3_frp`"
   ]
  },
  {
   "cell_type": "code",
   "execution_count": 1,
   "metadata": {},
   "outputs": [],
   "source": [
    "def visualize_s3_frp(data, lat, lon, unit, longname, textstr_1, textstr_2, vmax):\n",
    "    \"\"\" \n",
    "    Visualizes NRT Sentinel-3 SLSTR Fire Radiative Power data with the help of matplotlib's pcolormesh function.\n",
    "    \n",
    "    Parameters:\n",
    "        data (numpy masked data array): dara array\n",
    "        lat (numpy array): latitude information returned from the function `slstr_frp_gridding`\n",
    "        lon (numpy array): longitude information returned from the function `slstr_frp_gridding`\n",
    "        unit (str): Unit of the data\n",
    "        longname (str): Long name attribute from the data or title of the plot\n",
    "        textstr_1 (str): Text string that explains the number of hotspots\n",
    "        textstr_2 (str): Text string that explains summary statistics of the data visualized.\n",
    "        vmax (float): Maximum value for visualization.\n",
    "    \"\"\"\n",
    "    fig=plt.figure(figsize=(20, 15))\n",
    "\n",
    "    ax = plt.axes(projection=ccrs.PlateCarree())\n",
    "\n",
    "    img = plt.pcolormesh(lon, lat, data, \n",
    "                        cmap=cm.autumn_r, transform=ccrs.PlateCarree(),\n",
    "                        vmin=0,\n",
    "                        vmax=vmax)\n",
    "\n",
    "    ax.add_feature(cfeature.BORDERS, edgecolor='black', linewidth=1)\n",
    "    ax.add_feature(cfeature.COASTLINE, edgecolor='black', linewidth=1)\n",
    "\n",
    "    gl = ax.gridlines(draw_labels=True, linestyle='--')\n",
    "    gl.xlabels_bottom=False\n",
    "    gl.ylabels_right=False\n",
    "    gl.xformatter=LONGITUDE_FORMATTER\n",
    "    gl.yformatter=LATITUDE_FORMATTER\n",
    "    gl.xlabel_style={'size':14}\n",
    "    gl.ylabel_style={'size':14}\n",
    "\n",
    "    cbar = fig.colorbar(img, ax=ax, orientation='horizontal', fraction=0.029, pad=0.025)\n",
    "    cbar.set_label(unit, fontsize=16)\n",
    "    cbar.ax.tick_params(labelsize=14)\n",
    "    ax.set_title(longname, fontsize=20, pad=40.0) \n",
    "\n",
    "    props = dict(boxstyle='square', facecolor='white', alpha=0.5)\n",
    "\n",
    "    # place a text box on the right side of the plot\n",
    "    ax.text(1.1, 0.9, textstr_1, transform=ax.transAxes, fontsize=16,\n",
    "        verticalalignment='top', bbox=props)\n",
    "\n",
    "    props = dict(boxstyle='square', facecolor='white', alpha=0.5)\n",
    "\n",
    "    # place a text box in upper left in axes coords\n",
    "    ax.text(1.1, 0.85, textstr_2, transform=ax.transAxes, fontsize=16,\n",
    "            verticalalignment='top', bbox=props)\n",
    "    plt.show()\n"
   ]
  },
  {
   "cell_type": "markdown",
   "metadata": {
    "Collapsed": "false"
   },
   "source": [
    "<hr>"
   ]
  },
  {
   "cell_type": "markdown",
   "metadata": {
    "Collapsed": "false"
   },
   "source": [
    "<img src='./img/copernicus_logo.png' alt='Logo EU Copernicus' align='right' width='20%'><br><br><br>\n",
    "\n",
    "<p style=\"text-align:right;\">This project is licensed under the <a href=\"./LICENSE\">MIT License</a> and is developed under a Copernicus contract."
   ]
  }
 ],
 "metadata": {
  "kernelspec": {
   "display_name": "Python 3",
   "language": "python",
   "name": "python3"
  },
  "language_info": {
   "codemirror_mode": {
    "name": "ipython",
    "version": 3
   },
   "file_extension": ".py",
   "mimetype": "text/x-python",
   "name": "python",
   "nbconvert_exporter": "python",
   "pygments_lexer": "ipython3",
   "version": "3.7.0"
  },
  "toc-autonumbering": false,
  "toc-showcode": false,
  "toc-showmarkdowntxt": true
 },
 "nbformat": 4,
 "nbformat_minor": 4
}
