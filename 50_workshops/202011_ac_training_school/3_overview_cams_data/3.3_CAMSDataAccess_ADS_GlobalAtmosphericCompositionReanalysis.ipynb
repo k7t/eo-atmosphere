{
 "cells": [
  {
   "cell_type": "markdown",
   "metadata": {},
   "source": [
    "# Retrieve total aerosol optical depth from the Atmosphere Data Store and visualise 2019 anomalies in Australia"
   ]
  },
  {
   "cell_type": "markdown",
   "metadata": {},
   "source": [
    "<img src=\"https://ads.atmosphere.copernicus.eu/themes/custom/baby_blue/logo.svg\" width=140> \n",
    "This notebook demonstrates how to retrieve NetCDF data from the Atmosphere Data Store (https://ads.atmosphere.copernicus.eu/) (ADS) and anomaly map using xarray and Cartopy libraries."
   ]
  },
  {
   "cell_type": "markdown",
   "metadata": {},
   "source": [
    "First, let's define some general purpose variables"
   ]
  },
  {
   "cell_type": "code",
   "execution_count": null,
   "metadata": {},
   "outputs": [],
   "source": [
    "DATADIR = '../data'\n",
    "DOWNLOAD = False\n",
    "years = [str(y) for y in range(2003, 2020)]"
   ]
  },
  {
   "cell_type": "markdown",
   "metadata": {},
   "source": [
    "Next, we will retrieve the data from the ADS by using the cdsapi Python library. \n",
    "\n",
    "https://ads.atmosphere.copernicus.eu/api-how-to \n",
    "\n",
    "**To be able to run the data retrieval example below you will need to register on the Atmosphere Data Store (https://ads.atmosphere.copernicus.eu/) and then visit this page: https://ads.atmosphere.copernicus.eu/api-how-to to obtain the API authentication key.**\n",
    "\n",
    "If you want to speed up the process, you can use the files which are already available on the LTPY training platform."
   ]
  },
  {
   "cell_type": "code",
   "execution_count": null,
   "metadata": {},
   "outputs": [],
   "source": [
    "if DOWNLOAD:\n",
    "\n",
    "    import cdsapi\n",
    "    # to suppress SSL warnings\n",
    "    import urllib3\n",
    "    urllib3.disable_warnings()\n",
    "\n",
    "    # enter your ADS authentication key\n",
    "    URL = \"https://ads.atmosphere.copernicus.eu/api/v2\"\n",
    "    KEY = \"xxxxxxxxxxxxxxxxxxxxxxxxxxxxxxxxxxxxxxxxxxx\"\n",
    "    c = cdsapi.Client(url=URL, key=KEY)\n",
    "\n",
    "    c.retrieve('cams-global-reanalysis-eac4-monthly',\n",
    "    {\n",
    "       'format': 'netcdf',\n",
    "       'variable': 'total_aerosol_optical_depth_550nm',\n",
    "       'year': years,\n",
    "       'month': '12',\n",
    "       'product_type': 'monthly_mean',\n",
    "    },\n",
    "    f'{DATADIR}/cams_aod_December.nc')\n"
   ]
  },
  {
   "cell_type": "markdown",
   "metadata": {},
   "source": [
    "Let's inspect one file"
   ]
  },
  {
   "cell_type": "code",
   "execution_count": null,
   "metadata": {},
   "outputs": [],
   "source": [
    "import xarray as xr\n",
    "ds = xr.open_dataset(f'{DATADIR}/cams_aod_December.nc')\n",
    "print(ds)"
   ]
  },
  {
   "cell_type": "markdown",
   "metadata": {},
   "source": [
    "Let's compute AOD550 December climatology based on 2003-2018 CAMS Reanalysis"
   ]
  },
  {
   "cell_type": "code",
   "execution_count": null,
   "metadata": {},
   "outputs": [],
   "source": [
    "clim = ds.sel(time=ds.time.dt.year < 2019).mean(\"time\")\n",
    "print(clim)\n",
    "this_year = ds.sel(time=ds.time.dt.year == 2019).mean(\"time\")\n",
    "print(this_year)"
   ]
  },
  {
   "cell_type": "code",
   "execution_count": null,
   "metadata": {},
   "outputs": [],
   "source": [
    "import matplotlib.pyplot as plt\n",
    "\n",
    "import cartopy\n",
    "import cartopy.crs as ccrs\n",
    "\n",
    "map_proj = ccrs.PlateCarree()\n",
    "BORDER_COLOUR = \"#cccccc\"\n",
    "\n",
    "f, ax = plt.subplots(figsize=(16, 7), subplot_kw=dict(projection=map_proj))\n",
    "\n",
    "anomaly = this_year - clim\n",
    "p = anomaly.aod550.plot(ax=ax, transform=ccrs.PlateCarree(),cmap=\"RdBu_r\", vmin=-0.5, vmax=0.5)\n",
    "ax.coastlines()\n",
    "ax.add_feature(cartopy.feature.BORDERS, color=BORDER_COLOUR)\n",
    "ax.coastlines(color=BORDER_COLOUR)\n",
    "ax.set_extent((105, 160, -50, 0))\n",
    "ax.gridlines(draw_labels=True, crs=ccrs.PlateCarree() )\n",
    "plt.title(\"CAMS reanalysis total aerosol optical depth at 550nm\\nDecember 2019 anomaly\")\n",
    "plt.show()"
   ]
  }
 ],
 "metadata": {
  "kernelspec": {
   "display_name": "Python 3",
   "language": "python",
   "name": "python3"
  },
  "language_info": {
   "codemirror_mode": {
    "name": "ipython",
    "version": 3
   },
   "file_extension": ".py",
   "mimetype": "text/x-python",
   "name": "python",
   "nbconvert_exporter": "python",
   "pygments_lexer": "ipython3",
   "version": "3.8.5"
  }
 },
 "nbformat": 4,
 "nbformat_minor": 4
}
