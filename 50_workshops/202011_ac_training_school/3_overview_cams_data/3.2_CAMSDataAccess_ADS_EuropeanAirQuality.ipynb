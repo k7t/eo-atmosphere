{
 "cells": [
  {
   "cell_type": "markdown",
   "metadata": {},
   "source": [
    "# Retrieve and plot European air quality forecast data from the Atmosphere Data Store"
   ]
  },
  {
   "cell_type": "markdown",
   "metadata": {},
   "source": [
    "<img src=\"https://ads.atmosphere.copernicus.eu/themes/custom/baby_blue/logo.svg\" width=140> \n",
    "This notebook demonstrates how to retrieve NetCDF data from the Atmosphere Data Store (https://ads.atmosphere.copernicus.eu/) (ADS) and create time series plots and maps using xarray and Cartopy libraries."
   ]
  },
  {
   "cell_type": "markdown",
   "metadata": {},
   "source": [
    "First, let's define some general purpose variables"
   ]
  },
  {
   "cell_type": "code",
   "execution_count": null,
   "metadata": {},
   "outputs": [],
   "source": [
    "DATADIR = '../data/'\n",
    "DATE = \"2020-11-09\"\n",
    "hours = [str(h) for h in range(97)]\n",
    "models = [ 'chimere', 'dehm', 'emep', 'ensemble', 'euradim', 'gemaq', 'lotos', 'match', 'mocage', 'silam']"
   ]
  },
  {
   "cell_type": "markdown",
   "metadata": {},
   "source": [
    "Next, we will retrieve the data from the ADS by using the cdsapi Python library. \n",
    "\n",
    "https://ads.atmosphere.copernicus.eu/api-how-to \n",
    "\n",
    "**To be able to run the data retrieval example below you will need to register on the Atmosphere Data Store (https://ads.atmosphere.copernicus.eu/) and then visit this page: https://ads.atmosphere.copernicus.eu/api-how-to to obtain the API authentication key.**\n",
    "\n",
    "If you want to speed up the process, you can use the files which are already available on the LTPY training platform."
   ]
  },
  {
   "cell_type": "code",
   "execution_count": null,
   "metadata": {},
   "outputs": [],
   "source": [
    "DOWNLOAD = False\n",
    "\n",
    "if DOWNLOAD:\n",
    "\n",
    "    import cdsapi\n",
    "    # to suppress SSL warnings\n",
    "    import urllib3\n",
    "    urllib3.disable_warnings()\n",
    "    \n",
    "    # enter your ADS authentication key\n",
    "    URL = \"https://ads.atmosphere.copernicus.eu/api/v2\"\n",
    "    KEY = \"xxxxxxxxxxxxxxxxxxxxxxxxxxxxxxxxxxxxxxxxxxx\"\n",
    "    c = cdsapi.Client(url=URL, key=KEY)\n",
    "\n",
    "    for model in models:  \n",
    "        c.retrieve(\n",
    "    'cams-europe-air-quality-forecasts',\n",
    "    {\n",
    "        'model': model,\n",
    "        'date': DATE,\n",
    "        'format': 'netcdf',\n",
    "        'variable': 'nitrogen_dioxide',\n",
    "        'type': 'forecast',\n",
    "        'time': '00:00',\n",
    "        'leadtime_hour': hours,\n",
    "        'level': '0',\n",
    "    },\n",
    "    f'{DATADIR}/air_quality_{model}_{DATE}.nc')\n"
   ]
  },
  {
   "cell_type": "markdown",
   "metadata": {},
   "source": [
    "Let's inspect one file"
   ]
  },
  {
   "cell_type": "code",
   "execution_count": null,
   "metadata": {},
   "outputs": [],
   "source": [
    "import xarray as xr\n",
    "\n",
    "dset = xr.open_dataset(f'{DATADIR}/air_quality_ensemble_{DATE}.nc')\n",
    "print(dset)"
   ]
  },
  {
   "cell_type": "code",
   "execution_count": null,
   "metadata": {},
   "outputs": [],
   "source": [
    "import matplotlib.pyplot as plt\n",
    "\n",
    "import cartopy\n",
    "import cartopy.crs as ccrs\n",
    "\n",
    "param = \"NO2\"\n",
    "lat = 45.47\n",
    "lon = 9.19\n",
    "\n",
    "fig = plt.figure(figsize=(16,8))\n",
    "ax = fig.subplots()\n",
    "\n",
    "for model in models:\n",
    "    dset = xr.open_dataset(f'{DATADIR}/air_quality_{model}_{DATE}.nc')\n",
    "# print(dset)\n",
    "    dd = dset[\"no2_conc\"].interp(latitude=45.3, longitude=9.35).to_dataframe()\n",
    "    dd.no2_conc.plot(ax=ax, label=model.upper())\n",
    "\n",
    "plt.grid()\n",
    "plt.legend()\n",
    "plt.title(f\"CAMS air quality {param} forecast BASETIME={DATE} LAT={lat} LON={lon}\")"
   ]
  },
  {
   "cell_type": "code",
   "execution_count": null,
   "metadata": {},
   "outputs": [],
   "source": [
    "BORDER_COLOUR = \"#cccccc\"\n",
    "NCOLS = 3\n",
    "NROWS = len(models) // NCOLS + 1\n",
    "\n",
    "fig, axes = plt.subplots(nrows=NROWS, ncols=NCOLS, figsize=(16,12), subplot_kw={'projection': ccrs.PlateCarree()})\n",
    "\n",
    "for ii, model in enumerate(models):\n",
    "    dset = xr.open_dataset(f'{DATADIR}/air_quality_{model}_{DATE}.nc')\n",
    "    dset = dset.assign_coords(longitude=(((dset.longitude + 180) % 360) - 180)).sortby('longitude')    \n",
    "\n",
    "    # x and y indices of the subplot to use for this model\n",
    "    iy = ii // NCOLS\n",
    "    ix = ii % NCOLS\n",
    "    # show the colorbar only in the last column\n",
    "    show_cbar = NCOLS - ix == 1\n",
    "    p = dset[\"no2_conc\"][13][0].plot.pcolormesh(ax=axes[iy, ix], vmin=10, vmax=100., \n",
    "                                                add_colorbar=show_cbar, extend='both', cmap='Reds', \n",
    "                                                transform=ccrs.PlateCarree())\n",
    "    axes[iy, ix].set_title(model.upper())\n",
    "    axes[iy, ix].xaxis.set_label_text(\"\")\n",
    "    axes[iy, ix].yaxis.set_label_text(\"\")\n",
    "    axes[iy, ix].set_extent([-5, 15, 40, 55])\n",
    "    axes[iy, ix].add_feature(cartopy.feature.BORDERS, color=BORDER_COLOUR)\n",
    "    axes[iy, ix].coastlines(color=BORDER_COLOUR)\n",
    "    \n",
    "# let's remove axes on the empty subplots\n",
    "for iix in range(ix + 1, NROWS - 1):\n",
    "    axes[iy, iix].axis('off')\n",
    "\n",
    "# plt.subplots_adjust(left=None, bottom=None, right=None, top=None, wspace=None, hspace=None)\n",
    "plt.subplots_adjust(wspace=.0, hspace=0.2)"
   ]
  }
 ],
 "metadata": {
  "kernelspec": {
   "display_name": "Python 3",
   "language": "python",
   "name": "python3"
  },
  "language_info": {
   "codemirror_mode": {
    "name": "ipython",
    "version": 3
   },
   "file_extension": ".py",
   "mimetype": "text/x-python",
   "name": "python",
   "nbconvert_exporter": "python",
   "pygments_lexer": "ipython3",
   "version": "3.8.5"
  }
 },
 "nbformat": 4,
 "nbformat_minor": 4
}
