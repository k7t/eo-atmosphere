{
 "cells": [
  {
   "cell_type": "markdown",
   "metadata": {},
   "source": [
    "## Example of CAMS air quality analysis time series plot from Github CSV repository"
   ]
  },
  {
   "cell_type": "markdown",
   "metadata": {},
   "source": [
    "CAMS air quality analysis time series data at 50 major cities are available from the [Github](https://github.com/CopernicusAtmosphere/air-quality-covid19-response) repository. You can also retrieve raw fields from the Atmosphere Data Store."
   ]
  },
  {
   "cell_type": "markdown",
   "metadata": {},
   "source": []
  },
  {
   "cell_type": "code",
   "execution_count": null,
   "metadata": {},
   "outputs": [],
   "source": [
    "#!/usr/bin/env python\n",
    "import pandas as pd\n",
    "YEAR = 2020\n",
    "url = f'https://raw.githubusercontent.com/CopernicusAtmosphere/air-quality-covid19-response/master/cams_air_quality_analysis_{YEAR}.csv'\n",
    "df = pd.read_csv(url,index_col=['basetime', 'city_id'], parse_dates=[0])\n",
    "print(df.head())"
   ]
  },
  {
   "cell_type": "markdown",
   "metadata": {},
   "source": [
    "Load metadata and find location ID of a city of interest"
   ]
  },
  {
   "cell_type": "code",
   "execution_count": null,
   "metadata": {},
   "outputs": [],
   "source": [
    "locations_url = 'https://raw.githubusercontent.com/CopernicusAtmosphere/air-quality-covid19-response/master/CAMS_AQ_LOCATIONS_V1.csv'\n",
    "locations = pd.read_csv(locations_url)\n",
    "print(locations.head())\n",
    "city = 'Paris'\n",
    "locations[locations['name'].str.contains(city)]"
   ]
  },
  {
   "cell_type": "code",
   "execution_count": null,
   "metadata": {},
   "outputs": [],
   "source": [
    "import matplotlib.pyplot as plt\n",
    "import matplotlib.colors\n",
    "\n",
    "param = 'NO2'\n",
    "# df.query(\"city_id == 'AQ031'\").NO2.plot.line(figsize=(15,8))\n",
    "data = df.query(\"city_id == 'AQ031'\").reset_index()\n",
    "print(data.head())\n",
    "\n",
    "fig = plt.figure(figsize=(15,8))\n",
    "plt.plot(data.basetime, data[param], label=param)\n",
    "plt.grid()\n",
    "plt.xticks(fontsize=16)\n",
    "plt.yticks(fontsize=16)\n",
    "plt.title(f'CAMS European air quality {city} {param} analysis', fontsize=20, pad=20)\n",
    "# plt.show()"
   ]
  },
  {
   "cell_type": "markdown",
   "metadata": {},
   "source": [
    "<hr>"
   ]
  },
  {
   "cell_type": "markdown",
   "metadata": {},
   "source": [
    "Now add climatology information based on CAMS analysis from the past few years"
   ]
  },
  {
   "cell_type": "code",
   "execution_count": null,
   "metadata": {},
   "outputs": [],
   "source": [
    "clim_years = range(2017, YEAR)\n",
    "\n",
    "past_data = {}\n",
    "\n",
    "for year in clim_years:\n",
    "    url = f'https://raw.githubusercontent.com/CopernicusAtmosphere/air-quality-covid19-response/master/cams_air_quality_analysis_{year}.csv'\n",
    "    df = pd.read_csv(url,index_col=['basetime', 'city_id'], parse_dates=[0])\n",
    "\n",
    "    data = df.query(\"city_id == 'AQ031'\")[param].droplevel('city_id')\n",
    "    print(data.head())\n",
    "    data.index = data.index.map(lambda t: t.replace(year=YEAR))\n",
    "    \n",
    "    print(data)\n",
    "    \n",
    "    if \"min\" not in past_data:\n",
    "        past_data = {\n",
    "          \"min\": data,\n",
    "          \"max\": data,\n",
    "          \"value\": data\n",
    "        }\n",
    "    else:\n",
    "        past_data[\"min\"] =  pd.concat([past_data[\"min\"], data], axis=1).min(axis=1)\n",
    "        past_data[\"max\"] =  pd.concat([past_data[\"max\"], data], axis=1).max(axis=1)\n",
    "        past_data[\"value\"] =  pd.concat([past_data[\"value\"], data], axis=1).mean(axis=1)\n",
    "\n",
    "data_ = past_data\n",
    "\n",
    "print(data_)\n",
    "\n",
    "label = \"max\"\n",
    "data_['mean_7d'] = data_['value'].rolling(7, center=True, min_periods=5).mean()\n",
    "\n",
    "fig = plt.figure(figsize=(15,8))\n",
    "p1 = plt.fill_between(data_[\"min\"].index, data_[\"min\"].values, data_[\"max\"].values, color=\"#333333\", alpha=0.1, label=\"{}-{} range\".format(clim_years[0], clim_years[-1]))\n",
    "p1 = plt.plot(data_[\"mean_7d\"].index, data_[\"mean_7d\"].values, color=\"#333333\", ls=\"--\", alpha=0.6, label=\"2017-2019 7d mean\", lw=1.5)\n"
   ]
  }
 ],
 "metadata": {
  "kernelspec": {
   "display_name": "Python 3",
   "language": "python",
   "name": "python3"
  },
  "language_info": {
   "codemirror_mode": {
    "name": "ipython",
    "version": 3
   },
   "file_extension": ".py",
   "mimetype": "text/x-python",
   "name": "python",
   "nbconvert_exporter": "python",
   "pygments_lexer": "ipython3",
   "version": "3.8.5"
  }
 },
 "nbformat": 4,
 "nbformat_minor": 4
}
