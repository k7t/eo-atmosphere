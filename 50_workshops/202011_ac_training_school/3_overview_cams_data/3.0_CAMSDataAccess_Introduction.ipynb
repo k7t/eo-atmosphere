{
 "cells": [
  {
   "cell_type": "markdown",
   "metadata": {},
   "source": [
    "# Collection of CAMS resources"
   ]
  },
  {
   "cell_type": "markdown",
   "metadata": {},
   "source": [
    "Collection of resources:\n",
    "- CAMS website: https://atmosphere.copernicus.eu/\n",
    "- Atmosphere Data Store website: https://ads.atmosphere.copernicus.eu/\n",
    "- Legacy CAMS catalogue: https://atmosphere.copernicus.eu/catalogue#/\n",
    "- ECMWF API catalogue: https://apps.ecmwf.int/datasets/"
   ]
  },
  {
   "cell_type": "markdown",
   "metadata": {},
   "source": [
    "The ADS authentication key that you can use during the CAMS practical session:"
   ]
  },
  {
   "cell_type": "markdown",
   "metadata": {},
   "source": [
    "3512:52600066-3b0b-4213-bb5d-2d9b686b7fce"
   ]
  },
  {
   "cell_type": "markdown",
   "metadata": {},
   "source": [
    "Please note that due to the ADS Quality of Service rules your requests will be given a higher priority if you use your own authentication key"
   ]
  }
 ],
 "metadata": {
  "kernelspec": {
   "display_name": "Python 3",
   "language": "python",
   "name": "python3"
  },
  "language_info": {
   "codemirror_mode": {
    "name": "ipython",
    "version": 3
   },
   "file_extension": ".py",
   "mimetype": "text/x-python",
   "name": "python",
   "nbconvert_exporter": "python",
   "pygments_lexer": "ipython3",
   "version": "3.8.5"
  }
 },
 "nbformat": 4,
 "nbformat_minor": 4
}
