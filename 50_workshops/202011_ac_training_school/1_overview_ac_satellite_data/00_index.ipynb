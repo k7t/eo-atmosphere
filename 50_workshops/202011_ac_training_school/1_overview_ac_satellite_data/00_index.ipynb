{
 "cells": [
  {
   "cell_type": "markdown",
   "metadata": {
    "Collapsed": "false"
   },
   "source": [
    "<img src='./img/training_school_logo.jpeg' alt='Logo EU Copernicus EUMETSAT' align='middle' width='100%'></img>"
   ]
  },
  {
   "cell_type": "markdown",
   "metadata": {},
   "source": [
    "<br>"
   ]
  },
  {
   "cell_type": "markdown",
   "metadata": {
    "Collapsed": "false"
   },
   "source": [
    "<br>"
   ]
  },
  {
   "cell_type": "markdown",
   "metadata": {
    "Collapsed": "false"
   },
   "source": [
    "#### Second Joint ESA/EUMETSAT/ECMWF Online Training Course on Atmospheric Composition | 16-20 November 2020"
   ]
  },
  {
   "cell_type": "markdown",
   "metadata": {},
   "source": [
    "# Practical 1 - Discover satellite data for Atmospheric Composition"
   ]
  },
  {
   "cell_type": "markdown",
   "metadata": {
    "Collapsed": "false"
   },
   "source": [
    "This practical session gives you an overview of different satellite data for atmospheric composition and provides you hands-on practical example how to retrieve, load, process and visualize the data.\n",
    "\n"
   ]
  },
  {
   "cell_type": "markdown",
   "metadata": {},
   "source": [
    "<br>"
   ]
  },
  {
   "cell_type": "markdown",
   "metadata": {
    "Collapsed": "false"
   },
   "source": [
    "## Outline - Practical Session"
   ]
  },
  {
   "cell_type": "markdown",
   "metadata": {
    "Collapsed": "false"
   },
   "source": [
    "The practical session will put a specific focus on the following notebooks:\n",
    "\n",
    "* [Sentinel-5p Level 2 - Load and browse](./02_sentinel5p_L2_load_browse.ipynb)\n",
    "* [Sentinel-3 OLCI Level-1B - Load and browse](./03_sentinel3_OLCI_L1_load_browse.ipynb)\n",
    "* [AC SAF GOME-2 Level 3 Absorbing Aerosol Index - Load and browse](./07_AC_SAF_GOME-2_L3_AAI_load_browse.ipynb)\n",
    "\n",
    "Please have look at the following notebook to see how to retrieve different datasets:\n",
    "* [Overview - Atmospheric Composition Data - Retrieve](./01_overview_atmospheric_composition_data_retrieve.ipynb)\n",
    "\n",
    "<br>\n",
    "\n",
    "\n"
   ]
  },
  {
   "cell_type": "markdown",
   "metadata": {},
   "source": [
    "<hr>"
   ]
  },
  {
   "cell_type": "markdown",
   "metadata": {
    "Collapsed": "false"
   },
   "source": [
    "## Notebook overview and featured data"
   ]
  },
  {
   "cell_type": "markdown",
   "metadata": {
    "Collapsed": "false"
   },
   "source": [
    "#### The following satellite datasets for atmospheric composition are featured:\n",
    "\n",
    "* [Sentinel-5P TROPOMI Level 2 Carbon Monoxide](https://sentinel.esa.int/web/sentinel/technical-guides/sentinel-5p/products-algorithms)\n",
    "* [Sentinel-3 OLCI Level-1B](https://sentinel.esa.int/web/sentinel/user-guides/sentinel-3-olci/product-types/level-1b)\n",
    "* [Sentinel-3 Near-Real-Time SLSTR Fire Radiative Power](https://navigator.eumetsat.int/product/EO:EUM:DAT:0207)\n",
    "* [Sentinel-3 Near-Real-Time SLSTR Aerosol Optical Depth](https://www.eumetsat.int/website/home/News/DAT_5150095.html?lang=EN&pState=1)\n",
    "* [IASI Level 2 Total Column Carbon Monoxide](https://www.latmos.ipsl.fr/index.php/fr/tact/themes-de-recherche/iasi/1904-iasi-co)\n",
    "* [AC SAF GOME-2 Level 3 Absorbing Aerosol Index](https://acsaf.org/index.html)\n",
    "* [AC SAF GOME-2 Level 3 Nitrogen Dioxide](https://acsaf.org/index.html)\n"
   ]
  },
  {
   "cell_type": "markdown",
   "metadata": {},
   "source": [
    "<br>"
   ]
  },
  {
   "cell_type": "markdown",
   "metadata": {},
   "source": [
    "#### The following notebooks are available:\n",
    "\n",
    "* [1 - Overview - Atmospheric Composition Data Retrieve](./01_overview_atmospheric_composition_data_retrieve.ipynb)\n",
    "* [2 - Sentinel-5p Level 2 - Load and browse](./02_sentinel5p_L2_load_browse.ipynb)\n",
    "* [3 - Sentinel-3 OLCI Level-1B - Load and browse](./03_sentinel3_OLCI_L1_load_browse.ipynb)\n",
    "* [4 - Sentinel-3 Near-Real-Time SLSTR Fire Radiative Power - Load and browse](./04_sentinel3_NRT_SLSTR_FRP_load_browse.ipynb)\n",
    "* [5 - Sentinel-3 Near-Real-Time SLSTR Aerosol Optical Depth - Load and browse](./04_sentinel3_NRT_SLSTR_AOD_load_browse.ipynb)\n",
    "* [6 - IASI Level 2 - Load and browse](./06_IASI_L2_load_browse.ipynb)\n",
    "* [7 - AC SAF GOME-2 Level 3 Absorbing Aerosol Index - Load and browse](./07_AC_SAF_GOME-2_L3_AAI_load_browse.ipynb)\n",
    "* [8 - AC SAF GOME-2 Level 3 - Load and browse](./08_AC_SAF_GOME-2_L3_load_browse.ipynb)\n"
   ]
  },
  {
   "cell_type": "markdown",
   "metadata": {},
   "source": [
    "<br>"
   ]
  },
  {
   "cell_type": "markdown",
   "metadata": {},
   "source": [
    "\n",
    "**NOTE:** Throughout the course, general functions to `load`, `re-shape`, `process` and `visualize` the datasets are defined. These functions are re-used when applicable. The [functions notebook](./functions.ipynb) gives you an overview of all the functions defined and used for the course."
   ]
  },
  {
   "cell_type": "markdown",
   "metadata": {},
   "source": [
    "<hr>"
   ]
  },
  {
   "cell_type": "markdown",
   "metadata": {
    "Collapsed": "false"
   },
   "source": [
    "## Learning outcomes"
   ]
  },
  {
   "cell_type": "markdown",
   "metadata": {
    "Collapsed": "false"
   },
   "source": [
    "The course is designed for `beginners and medium-level users`, who have basic Python knowledge.\n",
    "\n",
    "After the course, you should have:\n",
    "* an idea about the **data products for Fire Monitoring the Sentinel-3 SLSTR sensor offers**,\n",
    "* knowledge about the most useful **Python packages** to handle, process and visualise Sentinel-3 SLSTR fire products\n",
    "* an idea about how the **data can help to detect and monitor fire events**"
   ]
  },
  {
   "cell_type": "markdown",
   "metadata": {
    "Collapsed": "false"
   },
   "source": [
    "<hr>"
   ]
  },
  {
   "cell_type": "markdown",
   "metadata": {
    "Collapsed": "false"
   },
   "source": [
    "## Access to the training platform"
   ]
  },
  {
   "cell_type": "markdown",
   "metadata": {
    "Collapsed": "false"
   },
   "source": [
    "The course material is made available on a JupyterLab training platform, a pre-defined environment that gives learners direct access to the data and Python packages required for following the course.\n",
    "\n",
    "The `JupyterLab` can be accessed as follows:"
   ]
  },
  {
   "cell_type": "markdown",
   "metadata": {
    "Collapsed": "false"
   },
   "source": [
    "* Web address: [https://training.ltpy.adamplatform.eu](https://training.ltpy.adamplatform.eu)\n",
    "* Create an account: [https://login.ltpy.adamplatform.eu](https://login.ltpy.adamplatform.eu)\n",
    "* Log into the `JupyterLab` with your account created."
   ]
  },
  {
   "cell_type": "markdown",
   "metadata": {
    "Collapsed": "false"
   },
   "source": [
    "<hr>"
   ]
  },
  {
   "cell_type": "markdown",
   "metadata": {
    "Collapsed": "false"
   },
   "source": [
    "<img src='./img/copernicus_logo.png' alt='Logo EU Copernicus' align='right' width='20%'><br><br><br><br>\n",
    "\n",
    "\n",
    "\n",
    "<p style=\"text-align:right;\">This project is licensed under the <a href=\"./LICENSE\">MIT License</a> and is developed under a Copernicus contract."
   ]
  }
 ],
 "metadata": {
  "kernelspec": {
   "display_name": "Python 3",
   "language": "python",
   "name": "python3"
  },
  "language_info": {
   "codemirror_mode": {
    "name": "ipython",
    "version": 3
   },
   "file_extension": ".py",
   "mimetype": "text/x-python",
   "name": "python",
   "nbconvert_exporter": "python",
   "pygments_lexer": "ipython3",
   "version": "3.8.6"
  }
 },
 "nbformat": 4,
 "nbformat_minor": 4
}
