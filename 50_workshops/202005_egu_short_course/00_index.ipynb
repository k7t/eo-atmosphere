{
 "cells": [
  {
   "cell_type": "markdown",
   "metadata": {
    "Collapsed": "false"
   },
   "source": [
    "<img src='./img/egu_2020.png' alt='Logo EU Copernicus EUMETSAT' align='left' width='30%'></img><img src='./img/atmos_logos.png' alt='Logo EU Copernicus EUMETSAT' align='right' width='60%'></img></span>\n",
    "\n"
   ]
  },
  {
   "cell_type": "markdown",
   "metadata": {},
   "source": [
    "### EGU 2020 Short Course"
   ]
  },
  {
   "cell_type": "markdown",
   "metadata": {
    "Collapsed": "false"
   },
   "source": [
    "# Using Copernicus Atmospheric Composition data\n"
   ]
  },
  {
   "cell_type": "markdown",
   "metadata": {},
   "source": [
    "Jointly organized by [EUMETSAT](https://www.eumetsat.int/website/home/index.html), [CAMS-ECMWF](https://atmosphere.copernicus.eu/) and [ESA](https://www.esa.int), with support from [Copernicus](https://www.copernicus.eu/en)."
   ]
  },
  {
   "cell_type": "markdown",
   "metadata": {
    "Collapsed": "false"
   },
   "source": [
    "<img src='./img/egu_short_course_logo.jpg' alt='Logo EU Copernicus EUMETSAT' align='center' width='100%'></img>"
   ]
  },
  {
   "cell_type": "markdown",
   "metadata": {},
   "source": [
    "<br>"
   ]
  },
  {
   "cell_type": "markdown",
   "metadata": {
    "Collapsed": "false"
   },
   "source": [
    "### Using Copernicus Atmospheric Monitoring data - Satellite Data for Atmospheric Applications\n",
    "\n",
    "This short course is part of the 2020 EGU General Assembly (SC1.21) and is an opportunity to learn about Copernicus data for Atmospheric Composition and get examples of how to develop your own workflows based on sample applications.\n",
    "\n",
    "The course is a combination of webinars and practical workflows for interactive data discovery and training on the datasets.\n",
    "\n",
    "* 26 May - **Live webinar with Earth Observation and Model experts**\n",
    "* 26-29 May - **A self-paced data discovery activity**\n",
    "* 29 May - **Q&A and course evaluation**\n",
    "\n"
   ]
  },
  {
   "cell_type": "markdown",
   "metadata": {
    "Collapsed": "false"
   },
   "source": [
    "## Copernicus data on Atmospheric Composition"
   ]
  },
  {
   "cell_type": "markdown",
   "metadata": {
    "Collapsed": "false"
   },
   "source": [
    "This course features the following data:\n",
    "* [Metop-A / Metop-B GOME-2 Level 2 and Level 3](./11_AC_SAF_GOME-2_L2_load_browse.ipynb) data\n",
    "* [Copernicus Sentinel-5P TROPOMI](./21_s5p_tropomi_co.ipynb) data\n",
    "* [Copernicus Atmosphere Monitoring Service (CAMS)](./02_atmospheric_composition_overview.ipynb) data"
   ]
  },
  {
   "cell_type": "markdown",
   "metadata": {
    "Collapsed": "false"
   },
   "source": [
    "## Course material"
   ]
  },
  {
   "cell_type": "markdown",
   "metadata": {
    "Collapsed": "false"
   },
   "source": [
    "The course has the following outline:\n",
    "\n",
    "* **0 - Introduction to the practical course content**\n",
    " * [Introduction to Python and Project Jupyter](./01_introduction_to_python_and_jupyter.ipynb)\n",
    " * [Overview of data and data access systems](./02_atmospheric_composition_overview.ipynb)\n",
    "\n",
    "\n",
    "* **1 - AC SAF GOME-2 data**\n",
    " * [1.1 AC SAF GOME-2 data - Load and browse](./11_AC_SAF_GOME-2_L2_load_browse.ipynb)\n",
    " * [1.2 AC SAF GOME-2 data - Preprocess](./12_AC_SAF_GOME-2_L2_preprocess.ipynb)\n",
    "\n",
    "\n",
    "* **2 - Copernicus Sentinel-5P data**\n",
    " * [2.1 Sentinel-5P TROPOMI - Load and browse](./21_s5p_tropomi_co.ipynb)\n",
    " \n",
    "\n",
    "* **3 - Practical Workflow examples - Covid-19**\n",
    " * [3.1 Case study - Covid-19 - GOME-2 Anomaly Map](./31_case_study_covid-19_GOME2_anomaly_map.ipynb)\n",
    " * [3.2 Case study - Covid-19 - GOME-2 Time-Series analysis](./32_case_study_covid-19_GOME2_time-series.ipynb)\n",
    " * [3.3 Case study - Covid-19 - Sentinel-5P Anomaly Map](./33_case_study_covid-19_sentinel5p_maps.ipynb)\n",
    " * [3.4 Case study - Covid-19 - Sentinel-5P Time-Series analysis](./34_case_study_covid-19_sentinel5p_time_series.ipynb)\n",
    "\n",
    "\n",
    "<br>\n",
    "\n",
    "**NOTE:** Throughout the course, general functions to `load`, `re-shape`, `process` and `visualize` the datasets are defined. These functions are re-used when applicable. The [functions notebook](./functions.ipynb) gives you an overview of all the functions defined and used for the course.\n"
   ]
  },
  {
   "cell_type": "markdown",
   "metadata": {
    "Collapsed": "false"
   },
   "source": [
    "## Learning outcomes"
   ]
  },
  {
   "cell_type": "markdown",
   "metadata": {
    "Collapsed": "false"
   },
   "source": [
    "The course is designed for `medium-level users`, who have basic Python knowledge and understanding of Fire monitoring data.\n",
    "\n",
    "After the course, you should have:\n",
    "* an idea about the **different datasets on Atmospheric Composition offered by Copernicus**,\n",
    "* knowledge about the most useful **Python packages** to handle, process and visualise large volumes of Earth Observation data\n",
    "* an idea about how the **data can be used to monitor air quality**"
   ]
  },
  {
   "cell_type": "markdown",
   "metadata": {
    "Collapsed": "false"
   },
   "source": [
    "<hr>"
   ]
  },
  {
   "cell_type": "markdown",
   "metadata": {
    "Collapsed": "false"
   },
   "source": [
    "## Access to the `JupyterHub` "
   ]
  },
  {
   "cell_type": "markdown",
   "metadata": {
    "Collapsed": "false"
   },
   "source": [
    "The course material is made available on a JupyterHub instance, a pre-defined environment that gives learners direct access to the data and Python packages required for following the course.\n",
    "\n",
    "The `JupyterHub` can be accessed as follows:"
   ]
  },
  {
   "cell_type": "markdown",
   "metadata": {
    "Collapsed": "false"
   },
   "source": [
    "* Web address: [https://ltpy.adamplatform.eu](https://ltpy.adamplatform.eu)\n",
    "* Create an account: [https://wekeo-login.services.meeo.it](https://wekeo-login.services.meeo.it)\n",
    "* Log into the `JupyterHub` with your account created."
   ]
  },
  {
   "cell_type": "markdown",
   "metadata": {
    "Collapsed": "false"
   },
   "source": [
    "#### Pre-configured user credentials for the participants of the short course on `Using Copernicus Atmospheric Composition data`"
   ]
  },
  {
   "cell_type": "markdown",
   "metadata": {
    "Collapsed": "false"
   },
   "source": [
    "There is a set of 50 pre-configued user credentials available. The following login details can be used:\n",
    "* username: **ltpy_##** (where ## = 01, 02, ..., 50)\n",
    "* password: **ltpy-p4ss**"
   ]
  },
  {
   "cell_type": "markdown",
   "metadata": {
    "Collapsed": "false"
   },
   "source": [
    "<hr>"
   ]
  },
  {
   "cell_type": "markdown",
   "metadata": {
    "Collapsed": "false"
   },
   "source": [
    "<img src='./img/copernicus_logo.png' alt='Logo EU Copernicus' align='right' width='20%'><br><br><br>\n",
    "\n",
    "<p style=\"text-align:right;\">This project is licensed under the <a href=\"./LICENSE\">MIT License</a> and is developed under a Copernicus contract."
   ]
  }
 ],
 "metadata": {
  "kernelspec": {
   "display_name": "Python 3",
   "language": "python",
   "name": "python3"
  },
  "language_info": {
   "codemirror_mode": {
    "name": "ipython",
    "version": 3
   },
   "file_extension": ".py",
   "mimetype": "text/x-python",
   "name": "python",
   "nbconvert_exporter": "python",
   "pygments_lexer": "ipython3",
   "version": "3.8.6"
  }
 },
 "nbformat": 4,
 "nbformat_minor": 4
}
