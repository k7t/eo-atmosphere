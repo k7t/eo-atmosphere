{
 "cells": [
  {
   "cell_type": "markdown",
   "metadata": {},
   "source": [
    "<img src='../img/EU-Copernicus-EUM_3Logos.png' alt='Logo EU Copernicus EUMETSAT' align='right' width='50%'></img>"
   ]
  },
  {
   "cell_type": "markdown",
   "metadata": {},
   "source": [
    "<br>"
   ]
  },
  {
   "cell_type": "markdown",
   "metadata": {},
   "source": [
    "<a href=\"../00_index.ipynb\"><< Index</a><br>\n",
    "<a href=\"./271_GEFF_fire_forecast_load_browse.ipynb\"><< 271 - GEFF Global ECMWF Fire Forecasting - Load and browse</a><span style=\"float:right;\"><a href=\"./273_GEFF_fire_forecast_custom_danger_classes.ipynb\">273 - GEFF Global ECMWF Fire Forecasting - Custom Danger Classes>></a></span>"
   ]
  },
  {
   "cell_type": "markdown",
   "metadata": {},
   "source": [
    "<div class=\"alert alert-block alert-success\">\n",
    "<b>20 - DATA DISCOVERY</b></div>"
   ]
  },
  {
   "cell_type": "markdown",
   "metadata": {},
   "source": [
    "<div class=\"alert alert-block alert-success\">\n",
    "<b>PREREQUISITE</b>\n",
    "\n",
    "* **20 - DATA DISCOVERY**\n",
    " - [271 - GEFF Fire Forecast - Load and browse](./271_GEFF_fire_forecast_load_browse.ipynb)\n",
    "\n",
    "It is recommended to go through the module before you start with this module.\n",
    "\n",
    "</div>"
   ]
  },
  {
   "cell_type": "markdown",
   "metadata": {},
   "source": [
    "<div class=\"alert alert-block alert-success\">\n",
    "<b>SEE ALSO</b>\n",
    "\n",
    "* **20 - DATA DISCOVERY**\n",
    " - [273 - GEFF Fire Forecast - Custom Danger Classes](./273_GEFF_fire_forecast_custom_danger_classes.ipynb) \n",
    "\n",
    "</div>"
   ]
  },
  {
   "cell_type": "markdown",
   "metadata": {},
   "source": [
    "<hr>"
   ]
  },
  {
   "cell_type": "markdown",
   "metadata": {},
   "source": [
    "# 2.7.2 Global ECMWF Fire Forecasting (GEFF) -  Harmonized Danger Classes"
   ]
  },
  {
   "cell_type": "markdown",
   "metadata": {},
   "source": [
    "Raw FWI forecast values are expressed as a continuous rating in the range `[0, +Inf(very rarely above 100)]`. In order to aid decision makers raw forecasts are routinely converted into danger classes, based on the thresholds mentioned above, before being displayed by the EFFIS/GWIS viewer.\n",
    "\n",
    "In this module, we are going to look at the predictive capability of the fire danger forecasts. Let us use the forecast issued on 14th July 2018 (leadtime = 10 days) to see whether dangerous fire weather could have been predicted in the area where the Attica fires started burning, from 23rd July onwards."
   ]
  },
  {
   "cell_type": "markdown",
   "metadata": {},
   "source": [
    "#### Module outline:\n",
    "* [1 - Overview of fire danger classes](#fire_danger_classes)\n",
    "* [2 - Other Indicators](#other_indicators)"
   ]
  },
  {
   "cell_type": "markdown",
   "metadata": {},
   "source": [
    "<hr>"
   ]
  },
  {
   "cell_type": "markdown",
   "metadata": {},
   "source": [
    "#### Load required libraries"
   ]
  },
  {
   "cell_type": "code",
   "execution_count": 1,
   "metadata": {},
   "outputs": [],
   "source": [
    "# Import the necessary libraries and enable inline displaying of plots\n",
    "import numpy as np\n",
    "import pandas as pd\n",
    "import matplotlib.pyplot as plt\n",
    "import xarray as xr\n"
   ]
  },
  {
   "cell_type": "markdown",
   "metadata": {},
   "source": [
    "<hr>"
   ]
  },
  {
   "cell_type": "markdown",
   "metadata": {},
   "source": [
    "## <a id='fire_danger_classes'></a>Overview of fire danger classes"
   ]
  },
  {
   "cell_type": "markdown",
   "metadata": {},
   "source": [
    "According to EFFIS [documentation and user guidelines](https://effis.jrc.ec.europa.eu/about-effis/technical-background/fire-danger-forecast/):\n",
    "\n",
    "- In most European countries, the core of the wildfire season starts on 1st of March and ends on 31st of October.\n",
    "- The EFFIS network adopts the Canadian Forest Fire Weather Index (FWI) System as the method to assess the fire danger level in a harmonized way throughout Europe.\n",
    "  \n",
    "**European** Fire Danger Classes (FWI ranges, upper bound excluded):\n",
    "  - Very low = 0 - 5.2\n",
    "  - Low = 5.2 - 11.2 \n",
    "  - Moderate = 11.2 - 21.3 \n",
    "  - High = 21.3 - 38.0 \n",
    "  - Very high = 38.0 - 50.0 \n",
    "  - Extreme > 50.0\n",
    "\n",
    "Based on ECMWF's experience, the above thresholds are particularly suited to assess fire danger in southern Europe, e.g. in the Mediterranean region. Some countries tend to calibrate these thresholds depending on local vegetation characteristics and fire regimes. This require local knowledge and/or experimentation.\n",
    "For instance, **Portugal** uses the following thresholds for local-level assessments of fire danger: \n",
    "  - Reduced risk = 8.4\n",
    "  - Moderate risk = 17.2\n",
    "  - High risk = 24.6,\n",
    "  - Maximum risk = 38.3\n",
    "\n",
    "Northern European countries might be more inclined to the **Canadian** threshold levels:\n",
    "  - Very Low = 0 - 1,\n",
    "  - Low = 2 - 4,\n",
    "  - Moderate = 5 - 8,\n",
    "  - High = 9 - 16,\n",
    "  - VeryHigh = 17 - 30,\n",
    "  - Extreme > 30\n",
    "  \n",
    "And as another example, in **Indonesia** threshold levels are (probably due to high level of humidity):\n",
    "  - Very Low = 0 - 3,\n",
    "  - Low = 3 - 5,\n",
    "  - Moderate = 5 - 10,\n",
    "  - High = 10 - 17,\n",
    "  - VeryHigh = 17 - 28,\n",
    "  - Extreme > 28"
   ]
  },
  {
   "cell_type": "markdown",
   "metadata": {},
   "source": [
    "#### Open the `raw RT HRES`  forecast for Attica (Greece), issued on 14th July 2018 (10 days before the Attica fires) and plot the raw forecast"
   ]
  },
  {
   "cell_type": "code",
   "execution_count": 6,
   "metadata": {},
   "outputs": [
    {
     "data": {
      "text/html": [
       "<div><svg style=\"position: absolute; width: 0; height: 0; overflow: hidden\">\n",
       "<defs>\n",
       "<symbol id=\"icon-database\" viewBox=\"0 0 32 32\">\n",
       "<path d=\"M16 0c-8.837 0-16 2.239-16 5v4c0 2.761 7.163 5 16 5s16-2.239 16-5v-4c0-2.761-7.163-5-16-5z\"></path>\n",
       "<path d=\"M16 17c-8.837 0-16-2.239-16-5v6c0 2.761 7.163 5 16 5s16-2.239 16-5v-6c0 2.761-7.163 5-16 5z\"></path>\n",
       "<path d=\"M16 26c-8.837 0-16-2.239-16-5v6c0 2.761 7.163 5 16 5s16-2.239 16-5v-6c0 2.761-7.163 5-16 5z\"></path>\n",
       "</symbol>\n",
       "<symbol id=\"icon-file-text2\" viewBox=\"0 0 32 32\">\n",
       "<path d=\"M28.681 7.159c-0.694-0.947-1.662-2.053-2.724-3.116s-2.169-2.030-3.116-2.724c-1.612-1.182-2.393-1.319-2.841-1.319h-15.5c-1.378 0-2.5 1.121-2.5 2.5v27c0 1.378 1.122 2.5 2.5 2.5h23c1.378 0 2.5-1.122 2.5-2.5v-19.5c0-0.448-0.137-1.23-1.319-2.841zM24.543 5.457c0.959 0.959 1.712 1.825 2.268 2.543h-4.811v-4.811c0.718 0.556 1.584 1.309 2.543 2.268zM28 29.5c0 0.271-0.229 0.5-0.5 0.5h-23c-0.271 0-0.5-0.229-0.5-0.5v-27c0-0.271 0.229-0.5 0.5-0.5 0 0 15.499-0 15.5 0v7c0 0.552 0.448 1 1 1h7v19.5z\"></path>\n",
       "<path d=\"M23 26h-14c-0.552 0-1-0.448-1-1s0.448-1 1-1h14c0.552 0 1 0.448 1 1s-0.448 1-1 1z\"></path>\n",
       "<path d=\"M23 22h-14c-0.552 0-1-0.448-1-1s0.448-1 1-1h14c0.552 0 1 0.448 1 1s-0.448 1-1 1z\"></path>\n",
       "<path d=\"M23 18h-14c-0.552 0-1-0.448-1-1s0.448-1 1-1h14c0.552 0 1 0.448 1 1s-0.448 1-1 1z\"></path>\n",
       "</symbol>\n",
       "</defs>\n",
       "</svg>\n",
       "<style>/* CSS stylesheet for displaying xarray objects in jupyterlab.\n",
       " *\n",
       " */\n",
       "\n",
       ":root {\n",
       "  --xr-font-color0: var(--jp-content-font-color0, rgba(0, 0, 0, 1));\n",
       "  --xr-font-color2: var(--jp-content-font-color2, rgba(0, 0, 0, 0.54));\n",
       "  --xr-font-color3: var(--jp-content-font-color3, rgba(0, 0, 0, 0.38));\n",
       "  --xr-border-color: var(--jp-border-color2, #e0e0e0);\n",
       "  --xr-disabled-color: var(--jp-layout-color3, #bdbdbd);\n",
       "  --xr-background-color: var(--jp-layout-color0, white);\n",
       "  --xr-background-color-row-even: var(--jp-layout-color1, white);\n",
       "  --xr-background-color-row-odd: var(--jp-layout-color2, #eeeeee);\n",
       "}\n",
       "\n",
       "html[theme=dark],\n",
       "body.vscode-dark {\n",
       "  --xr-font-color0: rgba(255, 255, 255, 1);\n",
       "  --xr-font-color2: rgba(255, 255, 255, 0.54);\n",
       "  --xr-font-color3: rgba(255, 255, 255, 0.38);\n",
       "  --xr-border-color: #1F1F1F;\n",
       "  --xr-disabled-color: #515151;\n",
       "  --xr-background-color: #111111;\n",
       "  --xr-background-color-row-even: #111111;\n",
       "  --xr-background-color-row-odd: #313131;\n",
       "}\n",
       "\n",
       ".xr-wrap {\n",
       "  display: block;\n",
       "  min-width: 300px;\n",
       "  max-width: 700px;\n",
       "}\n",
       "\n",
       ".xr-text-repr-fallback {\n",
       "  /* fallback to plain text repr when CSS is not injected (untrusted notebook) */\n",
       "  display: none;\n",
       "}\n",
       "\n",
       ".xr-header {\n",
       "  padding-top: 6px;\n",
       "  padding-bottom: 6px;\n",
       "  margin-bottom: 4px;\n",
       "  border-bottom: solid 1px var(--xr-border-color);\n",
       "}\n",
       "\n",
       ".xr-header > div,\n",
       ".xr-header > ul {\n",
       "  display: inline;\n",
       "  margin-top: 0;\n",
       "  margin-bottom: 0;\n",
       "}\n",
       "\n",
       ".xr-obj-type,\n",
       ".xr-array-name {\n",
       "  margin-left: 2px;\n",
       "  margin-right: 10px;\n",
       "}\n",
       "\n",
       ".xr-obj-type {\n",
       "  color: var(--xr-font-color2);\n",
       "}\n",
       "\n",
       ".xr-sections {\n",
       "  padding-left: 0 !important;\n",
       "  display: grid;\n",
       "  grid-template-columns: 150px auto auto 1fr 20px 20px;\n",
       "}\n",
       "\n",
       ".xr-section-item {\n",
       "  display: contents;\n",
       "}\n",
       "\n",
       ".xr-section-item input {\n",
       "  display: none;\n",
       "}\n",
       "\n",
       ".xr-section-item input + label {\n",
       "  color: var(--xr-disabled-color);\n",
       "}\n",
       "\n",
       ".xr-section-item input:enabled + label {\n",
       "  cursor: pointer;\n",
       "  color: var(--xr-font-color2);\n",
       "}\n",
       "\n",
       ".xr-section-item input:enabled + label:hover {\n",
       "  color: var(--xr-font-color0);\n",
       "}\n",
       "\n",
       ".xr-section-summary {\n",
       "  grid-column: 1;\n",
       "  color: var(--xr-font-color2);\n",
       "  font-weight: 500;\n",
       "}\n",
       "\n",
       ".xr-section-summary > span {\n",
       "  display: inline-block;\n",
       "  padding-left: 0.5em;\n",
       "}\n",
       "\n",
       ".xr-section-summary-in:disabled + label {\n",
       "  color: var(--xr-font-color2);\n",
       "}\n",
       "\n",
       ".xr-section-summary-in + label:before {\n",
       "  display: inline-block;\n",
       "  content: '►';\n",
       "  font-size: 11px;\n",
       "  width: 15px;\n",
       "  text-align: center;\n",
       "}\n",
       "\n",
       ".xr-section-summary-in:disabled + label:before {\n",
       "  color: var(--xr-disabled-color);\n",
       "}\n",
       "\n",
       ".xr-section-summary-in:checked + label:before {\n",
       "  content: '▼';\n",
       "}\n",
       "\n",
       ".xr-section-summary-in:checked + label > span {\n",
       "  display: none;\n",
       "}\n",
       "\n",
       ".xr-section-summary,\n",
       ".xr-section-inline-details {\n",
       "  padding-top: 4px;\n",
       "  padding-bottom: 4px;\n",
       "}\n",
       "\n",
       ".xr-section-inline-details {\n",
       "  grid-column: 2 / -1;\n",
       "}\n",
       "\n",
       ".xr-section-details {\n",
       "  display: none;\n",
       "  grid-column: 1 / -1;\n",
       "  margin-bottom: 5px;\n",
       "}\n",
       "\n",
       ".xr-section-summary-in:checked ~ .xr-section-details {\n",
       "  display: contents;\n",
       "}\n",
       "\n",
       ".xr-array-wrap {\n",
       "  grid-column: 1 / -1;\n",
       "  display: grid;\n",
       "  grid-template-columns: 20px auto;\n",
       "}\n",
       "\n",
       ".xr-array-wrap > label {\n",
       "  grid-column: 1;\n",
       "  vertical-align: top;\n",
       "}\n",
       "\n",
       ".xr-preview {\n",
       "  color: var(--xr-font-color3);\n",
       "}\n",
       "\n",
       ".xr-array-preview,\n",
       ".xr-array-data {\n",
       "  padding: 0 5px !important;\n",
       "  grid-column: 2;\n",
       "}\n",
       "\n",
       ".xr-array-data,\n",
       ".xr-array-in:checked ~ .xr-array-preview {\n",
       "  display: none;\n",
       "}\n",
       "\n",
       ".xr-array-in:checked ~ .xr-array-data,\n",
       ".xr-array-preview {\n",
       "  display: inline-block;\n",
       "}\n",
       "\n",
       ".xr-dim-list {\n",
       "  display: inline-block !important;\n",
       "  list-style: none;\n",
       "  padding: 0 !important;\n",
       "  margin: 0;\n",
       "}\n",
       "\n",
       ".xr-dim-list li {\n",
       "  display: inline-block;\n",
       "  padding: 0;\n",
       "  margin: 0;\n",
       "}\n",
       "\n",
       ".xr-dim-list:before {\n",
       "  content: '(';\n",
       "}\n",
       "\n",
       ".xr-dim-list:after {\n",
       "  content: ')';\n",
       "}\n",
       "\n",
       ".xr-dim-list li:not(:last-child):after {\n",
       "  content: ',';\n",
       "  padding-right: 5px;\n",
       "}\n",
       "\n",
       ".xr-has-index {\n",
       "  font-weight: bold;\n",
       "}\n",
       "\n",
       ".xr-var-list,\n",
       ".xr-var-item {\n",
       "  display: contents;\n",
       "}\n",
       "\n",
       ".xr-var-item > div,\n",
       ".xr-var-item label,\n",
       ".xr-var-item > .xr-var-name span {\n",
       "  background-color: var(--xr-background-color-row-even);\n",
       "  margin-bottom: 0;\n",
       "}\n",
       "\n",
       ".xr-var-item > .xr-var-name:hover span {\n",
       "  padding-right: 5px;\n",
       "}\n",
       "\n",
       ".xr-var-list > li:nth-child(odd) > div,\n",
       ".xr-var-list > li:nth-child(odd) > label,\n",
       ".xr-var-list > li:nth-child(odd) > .xr-var-name span {\n",
       "  background-color: var(--xr-background-color-row-odd);\n",
       "}\n",
       "\n",
       ".xr-var-name {\n",
       "  grid-column: 1;\n",
       "}\n",
       "\n",
       ".xr-var-dims {\n",
       "  grid-column: 2;\n",
       "}\n",
       "\n",
       ".xr-var-dtype {\n",
       "  grid-column: 3;\n",
       "  text-align: right;\n",
       "  color: var(--xr-font-color2);\n",
       "}\n",
       "\n",
       ".xr-var-preview {\n",
       "  grid-column: 4;\n",
       "}\n",
       "\n",
       ".xr-var-name,\n",
       ".xr-var-dims,\n",
       ".xr-var-dtype,\n",
       ".xr-preview,\n",
       ".xr-attrs dt {\n",
       "  white-space: nowrap;\n",
       "  overflow: hidden;\n",
       "  text-overflow: ellipsis;\n",
       "  padding-right: 10px;\n",
       "}\n",
       "\n",
       ".xr-var-name:hover,\n",
       ".xr-var-dims:hover,\n",
       ".xr-var-dtype:hover,\n",
       ".xr-attrs dt:hover {\n",
       "  overflow: visible;\n",
       "  width: auto;\n",
       "  z-index: 1;\n",
       "}\n",
       "\n",
       ".xr-var-attrs,\n",
       ".xr-var-data {\n",
       "  display: none;\n",
       "  background-color: var(--xr-background-color) !important;\n",
       "  padding-bottom: 5px !important;\n",
       "}\n",
       "\n",
       ".xr-var-attrs-in:checked ~ .xr-var-attrs,\n",
       ".xr-var-data-in:checked ~ .xr-var-data {\n",
       "  display: block;\n",
       "}\n",
       "\n",
       ".xr-var-data > table {\n",
       "  float: right;\n",
       "}\n",
       "\n",
       ".xr-var-name span,\n",
       ".xr-var-data,\n",
       ".xr-attrs {\n",
       "  padding-left: 25px !important;\n",
       "}\n",
       "\n",
       ".xr-attrs,\n",
       ".xr-var-attrs,\n",
       ".xr-var-data {\n",
       "  grid-column: 1 / -1;\n",
       "}\n",
       "\n",
       "dl.xr-attrs {\n",
       "  padding: 0;\n",
       "  margin: 0;\n",
       "  display: grid;\n",
       "  grid-template-columns: 125px auto;\n",
       "}\n",
       "\n",
       ".xr-attrs dt,\n",
       ".xr-attrs dd {\n",
       "  padding: 0;\n",
       "  margin: 0;\n",
       "  float: left;\n",
       "  padding-right: 10px;\n",
       "  width: auto;\n",
       "}\n",
       "\n",
       ".xr-attrs dt {\n",
       "  font-weight: normal;\n",
       "  grid-column: 1;\n",
       "}\n",
       "\n",
       ".xr-attrs dt:hover span {\n",
       "  display: inline-block;\n",
       "  background: var(--xr-background-color);\n",
       "  padding-right: 10px;\n",
       "}\n",
       "\n",
       ".xr-attrs dd {\n",
       "  grid-column: 2;\n",
       "  white-space: pre-wrap;\n",
       "  word-break: break-all;\n",
       "}\n",
       "\n",
       ".xr-icon-database,\n",
       ".xr-icon-file-text2 {\n",
       "  display: inline-block;\n",
       "  vertical-align: middle;\n",
       "  width: 1em;\n",
       "  height: 1.5em !important;\n",
       "  stroke-width: 0;\n",
       "  stroke: currentColor;\n",
       "  fill: currentColor;\n",
       "}\n",
       "</style><pre class='xr-text-repr-fallback'>&lt;xarray.Dataset&gt;\n",
       "Dimensions:  (lat: 29, lon: 28, time: 10)\n",
       "Coordinates:\n",
       "  * time     (time) datetime64[ns] 2018-07-14 2018-07-15 ... 2018-07-23\n",
       "  * lon      (lon) float32 23.06 23.13 23.2 23.27 ... 24.75 24.82 24.89 24.96\n",
       "  * lat      (lat) float32 38.98 38.91 38.84 38.77 ... 37.22 37.15 37.08 37.01\n",
       "Data variables:\n",
       "    fwi      (time, lat, lon) float32 20.05 23.0 25.15 ... 16.4 18.83 20.86\n",
       "Attributes:\n",
       "    CDI:               Climate Data Interface version 1.9.6 (http://mpimet.mp...\n",
       "    history:           Mon May 04 13:19:57 2020: cdo --silent sellonlatbox,23...\n",
       "    Conventions:       CF-1.6\n",
       "    Reference date:    20180714\n",
       "    ECMWF fire model:  2.2\n",
       "    Lincense:          Copernicus\n",
       "    version:           2.2\n",
       "    NCO:               4.6.7\n",
       "    CDO:               Climate Data Operators version 1.9.6 (http://mpimet.mp...</pre><div class='xr-wrap' hidden><div class='xr-header'><div class='xr-obj-type'>xarray.Dataset</div></div><ul class='xr-sections'><li class='xr-section-item'><input id='section-07a1dcf8-d61a-4ff4-b22c-90d3621c49f3' class='xr-section-summary-in' type='checkbox' disabled ><label for='section-07a1dcf8-d61a-4ff4-b22c-90d3621c49f3' class='xr-section-summary'  title='Expand/collapse section'>Dimensions:</label><div class='xr-section-inline-details'><ul class='xr-dim-list'><li><span class='xr-has-index'>lat</span>: 29</li><li><span class='xr-has-index'>lon</span>: 28</li><li><span class='xr-has-index'>time</span>: 10</li></ul></div><div class='xr-section-details'></div></li><li class='xr-section-item'><input id='section-e5e5850a-03cf-4659-b3e5-a6520821799a' class='xr-section-summary-in' type='checkbox'  checked><label for='section-e5e5850a-03cf-4659-b3e5-a6520821799a' class='xr-section-summary' >Coordinates: <span>(3)</span></label><div class='xr-section-inline-details'></div><div class='xr-section-details'><ul class='xr-var-list'><li class='xr-var-item'><div class='xr-var-name'><span class='xr-has-index'>time</span></div><div class='xr-var-dims'>(time)</div><div class='xr-var-dtype'>datetime64[ns]</div><div class='xr-var-preview xr-preview'>2018-07-14 ... 2018-07-23</div><input id='attrs-23ab7543-1286-40d0-92a9-136d51ca3427' class='xr-var-attrs-in' type='checkbox' ><label for='attrs-23ab7543-1286-40d0-92a9-136d51ca3427' title='Show/Hide attributes'><svg class='icon xr-icon-file-text2'><use xlink:href='#icon-file-text2'></use></svg></label><input id='data-a0513a39-e168-4d32-ba05-ff477118acaa' class='xr-var-data-in' type='checkbox'><label for='data-a0513a39-e168-4d32-ba05-ff477118acaa' title='Show/Hide data repr'><svg class='icon xr-icon-database'><use xlink:href='#icon-database'></use></svg></label><div class='xr-var-attrs'><dl class='xr-attrs'><dt><span>standard_name :</span></dt><dd>time</dd><dt><span>axis :</span></dt><dd>T</dd></dl></div><div class='xr-var-data'><pre>array([&#x27;2018-07-14T00:00:00.000000000&#x27;, &#x27;2018-07-15T00:00:00.000000000&#x27;,\n",
       "       &#x27;2018-07-16T00:00:00.000000000&#x27;, &#x27;2018-07-17T00:00:00.000000000&#x27;,\n",
       "       &#x27;2018-07-18T00:00:00.000000000&#x27;, &#x27;2018-07-19T00:00:00.000000000&#x27;,\n",
       "       &#x27;2018-07-20T00:00:00.000000000&#x27;, &#x27;2018-07-21T00:00:00.000000000&#x27;,\n",
       "       &#x27;2018-07-22T00:00:00.000000000&#x27;, &#x27;2018-07-23T00:00:00.000000000&#x27;],\n",
       "      dtype=&#x27;datetime64[ns]&#x27;)</pre></div></li><li class='xr-var-item'><div class='xr-var-name'><span class='xr-has-index'>lon</span></div><div class='xr-var-dims'>(lon)</div><div class='xr-var-dtype'>float32</div><div class='xr-var-preview xr-preview'>23.06 23.13 23.2 ... 24.89 24.96</div><input id='attrs-c77cd22c-8c61-4c47-b34b-6fa56ec347d0' class='xr-var-attrs-in' type='checkbox' ><label for='attrs-c77cd22c-8c61-4c47-b34b-6fa56ec347d0' title='Show/Hide attributes'><svg class='icon xr-icon-file-text2'><use xlink:href='#icon-file-text2'></use></svg></label><input id='data-ba46f2aa-2082-4549-970d-bc586a52242f' class='xr-var-data-in' type='checkbox'><label for='data-ba46f2aa-2082-4549-970d-bc586a52242f' title='Show/Hide data repr'><svg class='icon xr-icon-database'><use xlink:href='#icon-database'></use></svg></label><div class='xr-var-attrs'><dl class='xr-attrs'><dt><span>standard_name :</span></dt><dd>longitude</dd><dt><span>long_name :</span></dt><dd>longitude</dd><dt><span>units :</span></dt><dd>degrees_east</dd><dt><span>axis :</span></dt><dd>X</dd></dl></div><div class='xr-var-data'><pre>array([23.0625  , 23.132812, 23.203125, 23.273438, 23.34375 , 23.414062,\n",
       "       23.484375, 23.554688, 23.625   , 23.695312, 23.765625, 23.835938,\n",
       "       23.90625 , 23.976562, 24.046875, 24.117188, 24.1875  , 24.257812,\n",
       "       24.328125, 24.398438, 24.46875 , 24.539062, 24.609375, 24.679688,\n",
       "       24.75    , 24.820312, 24.890625, 24.960938], dtype=float32)</pre></div></li><li class='xr-var-item'><div class='xr-var-name'><span class='xr-has-index'>lat</span></div><div class='xr-var-dims'>(lat)</div><div class='xr-var-dtype'>float32</div><div class='xr-var-preview xr-preview'>38.98 38.91 38.84 ... 37.08 37.01</div><input id='attrs-5f5967c0-520b-459a-a500-f1b32a9b6a05' class='xr-var-attrs-in' type='checkbox' ><label for='attrs-5f5967c0-520b-459a-a500-f1b32a9b6a05' title='Show/Hide attributes'><svg class='icon xr-icon-file-text2'><use xlink:href='#icon-file-text2'></use></svg></label><input id='data-5bdadb65-742e-491c-8ee1-3a59c3997419' class='xr-var-data-in' type='checkbox'><label for='data-5bdadb65-742e-491c-8ee1-3a59c3997419' title='Show/Hide data repr'><svg class='icon xr-icon-database'><use xlink:href='#icon-database'></use></svg></label><div class='xr-var-attrs'><dl class='xr-attrs'><dt><span>standard_name :</span></dt><dd>latitude</dd><dt><span>long_name :</span></dt><dd>latitude</dd><dt><span>units :</span></dt><dd>degrees_north</dd><dt><span>axis :</span></dt><dd>Y</dd></dl></div><div class='xr-var-data'><pre>array([38.980667, 38.91037 , 38.84007 , 38.76977 , 38.69947 , 38.629173,\n",
       "       38.558876, 38.488575, 38.418278, 38.347977, 38.27768 , 38.207382,\n",
       "       38.13708 , 38.066784, 37.996483, 37.926186, 37.85589 , 37.785587,\n",
       "       37.71529 , 37.64499 , 37.57469 , 37.504395, 37.434093, 37.363796,\n",
       "       37.293495, 37.223198, 37.1529  , 37.0826  , 37.012302], dtype=float32)</pre></div></li></ul></div></li><li class='xr-section-item'><input id='section-631080e2-a69b-492f-9eef-77ab5affb34d' class='xr-section-summary-in' type='checkbox'  checked><label for='section-631080e2-a69b-492f-9eef-77ab5affb34d' class='xr-section-summary' >Data variables: <span>(1)</span></label><div class='xr-section-inline-details'></div><div class='xr-section-details'><ul class='xr-var-list'><li class='xr-var-item'><div class='xr-var-name'><span>fwi</span></div><div class='xr-var-dims'>(time, lat, lon)</div><div class='xr-var-dtype'>float32</div><div class='xr-var-preview xr-preview'>...</div><input id='attrs-201bb975-96ed-49ab-8d4a-285bfe004b7f' class='xr-var-attrs-in' type='checkbox' ><label for='attrs-201bb975-96ed-49ab-8d4a-285bfe004b7f' title='Show/Hide attributes'><svg class='icon xr-icon-file-text2'><use xlink:href='#icon-file-text2'></use></svg></label><input id='data-e6106566-38d9-4e84-9ca8-27760969c275' class='xr-var-data-in' type='checkbox'><label for='data-e6106566-38d9-4e84-9ca8-27760969c275' title='Show/Hide data repr'><svg class='icon xr-icon-database'><use xlink:href='#icon-database'></use></svg></label><div class='xr-var-attrs'><dl class='xr-attrs'><dt><span>units :</span></dt><dd>-</dd><dt><span>title :</span></dt><dd>Fire Weather Index</dd></dl></div><div class='xr-var-data'><pre>array([[[20.050251, 23.000818, ...,       nan,       nan],\n",
       "        [32.132492, 25.631977, ...,       nan,       nan],\n",
       "        ...,\n",
       "        [19.706554, 13.005656, ...,       nan, 26.834423],\n",
       "        [17.043745, 19.07169 , ..., 40.600723, 41.358883]],\n",
       "\n",
       "       [[22.435228, 24.372599, ...,       nan,       nan],\n",
       "        [34.900818, 32.095364, ...,       nan,       nan],\n",
       "        ...,\n",
       "        [20.280851, 13.825513, ...,       nan, 26.938839],\n",
       "        [17.678843, 19.491795, ..., 40.453545, 40.578785]],\n",
       "\n",
       "       ...,\n",
       "\n",
       "       [[34.2583  , 40.922886, ...,       nan,       nan],\n",
       "        [46.096195, 44.52451 , ...,       nan,       nan],\n",
       "        ...,\n",
       "        [25.471806, 19.874577, ...,       nan, 15.245529],\n",
       "        [22.26363 , 20.797256, ..., 21.847431, 23.752083]],\n",
       "\n",
       "       [[32.04552 , 36.09763 , ...,       nan,       nan],\n",
       "        [42.74619 , 38.150772, ...,       nan,       nan],\n",
       "        ...,\n",
       "        [27.505   , 20.018301, ...,       nan, 12.397572],\n",
       "        [28.416103, 25.35445 , ..., 18.833403, 20.855295]]], dtype=float32)</pre></div></li></ul></div></li><li class='xr-section-item'><input id='section-b4d0809c-2cbf-4216-81dc-c986189f5242' class='xr-section-summary-in' type='checkbox'  checked><label for='section-b4d0809c-2cbf-4216-81dc-c986189f5242' class='xr-section-summary' >Attributes: <span>(9)</span></label><div class='xr-section-inline-details'></div><div class='xr-section-details'><dl class='xr-attrs'><dt><span>CDI :</span></dt><dd>Climate Data Interface version 1.9.6 (http://mpimet.mpg.de/cdi)</dd><dt><span>history :</span></dt><dd>Mon May 04 13:19:57 2020: cdo --silent sellonlatbox,23,25,37,39 /scratch/mo/moc0/public/EUMETSAT_training/Greece_20180723-26/bbox/rt_hr/fwi/ECMWF_FWI_20180714_1200_hr_fwi_rt.nc /scratch/mo/moc0/public/EUMETSAT_training/Greece_20180723-26/bbox/rt_hr/fwi/bbox/ECMWF_FWI_20180714_1200_hr_fwi_rt.nc\n",
       "Mon May 04 13:01:01 2020: cdo --silent -select,name=fwi /scratch/mo/moc0/public/EUMETSAT_training/Greece_20180723-26/bbox/rt_hr/ECMWF_FWI_20180714_1200_hr.nc /scratch/mo/moc0/public/EUMETSAT_training/Greece_20180723-26/bbox/rt_hr/fwi/ECMWF_FWI_20180714_1200_hr_fwi.nc\n",
       "Sat Jul 14 06:26:18 2018: ncatted -O -a version,global,c,c,2.2 ECMWF_FWI_20180714_1200_hr.nc\n",
       "Sat Jul 14 06:25:31 2018: cdo -f nc4 -z zip_1 -selvar,fwi,ffmc,dmc,dc,isi,bui,dsr,danger_risk ecfire.nc ECMWF_FWI_20180714_1200_hr.nc\n",
       "Sat Jul 14 06:21:16 2018: ncatted -O -a version,global,c,c,2.2 ecfire.nc</dd><dt><span>Conventions :</span></dt><dd>CF-1.6</dd><dt><span>Reference date :</span></dt><dd>20180714</dd><dt><span>ECMWF fire model :</span></dt><dd>2.2</dd><dt><span>Lincense :</span></dt><dd>Copernicus</dd><dt><span>version :</span></dt><dd>2.2</dd><dt><span>NCO :</span></dt><dd>4.6.7</dd><dt><span>CDO :</span></dt><dd>Climate Data Operators version 1.9.6 (http://mpimet.mpg.de/cdo)</dd></dl></div></li></ul></div></div>"
      ],
      "text/plain": [
       "<xarray.Dataset>\n",
       "Dimensions:  (lat: 29, lon: 28, time: 10)\n",
       "Coordinates:\n",
       "  * time     (time) datetime64[ns] 2018-07-14 2018-07-15 ... 2018-07-23\n",
       "  * lon      (lon) float32 23.06 23.13 23.2 23.27 ... 24.75 24.82 24.89 24.96\n",
       "  * lat      (lat) float32 38.98 38.91 38.84 38.77 ... 37.22 37.15 37.08 37.01\n",
       "Data variables:\n",
       "    fwi      (time, lat, lon) float32 ...\n",
       "Attributes:\n",
       "    CDI:               Climate Data Interface version 1.9.6 (http://mpimet.mp...\n",
       "    history:           Mon May 04 13:19:57 2020: cdo --silent sellonlatbox,23...\n",
       "    Conventions:       CF-1.6\n",
       "    Reference date:    20180714\n",
       "    ECMWF fire model:  2.2\n",
       "    Lincense:          Copernicus\n",
       "    version:           2.2\n",
       "    NCO:               4.6.7\n",
       "    CDO:               Climate Data Operators version 1.9.6 (http://mpimet.mp..."
      ]
     },
     "execution_count": 6,
     "metadata": {},
     "output_type": "execute_result"
    }
   ],
   "source": [
    "# Open raw RT HRES forecast for Attica (Greece), issued on 14th July 2018 (10 days before the Attica fires)\n",
    "ds = xr.open_dataset(\"../eodata/geff/greece/rt_hr/ECMWF_FWI_20180714_1200_hr_fwi_rt.nc\")\n",
    "ds.fwi[9].plot(figsize=(15,8));"
   ]
  },
  {
   "cell_type": "markdown",
   "metadata": {},
   "source": [
    "\n",
    "#### Reclassify the `Fire Weather Index` levels according to the European Fire Danger classes\n"
   ]
  },
  {
   "cell_type": "markdown",
   "metadata": {},
   "source": [
    "You can provide additional keyword arguments to xarray's function `xr.plot()` that help you to classify the data values:\n",
    "* `levels`: provide the maximum bounds for each level in a list\n",
    "* `colors`: provide the hexcolor codes for each class\n",
    "* `label`: provide the class label"
   ]
  },
  {
   "cell_type": "code",
   "execution_count": 7,
   "metadata": {},
   "outputs": [
    {
     "data": {
      "image/png": "[encoded data removed]",
      "text/plain": [
       "<Figure size 1080x576 with 2 Axes>"
      ]
     },
     "metadata": {
      "needs_background": "light"
     },
     "output_type": "display_data"
    }
   ],
   "source": [
    "# Plot the re-classified forecast, Day 10\n",
    "ds.fwi[9].plot(levels = [0.0, 5.2, 11.2, 21.3, 38.0, 50.0],\n",
    "               colors = [\"#008000\", \"#FFFF00\", \"#FFA500\", \"#FF0000\", \"#654321\", \"#000000\"],\n",
    "               label = ['Very low', 'Low', 'Moderate', 'High', 'Very high', 'Extreme'],\n",
    "              figsize=(15,8));"
   ]
  },
  {
   "cell_type": "markdown",
   "metadata": {},
   "source": [
    "#### Highlight only cells above `Very High` danger"
   ]
  },
  {
   "cell_type": "markdown",
   "metadata": {},
   "source": [
    "With xarray's function `where`, you can filter your data based on a specific condition. Use the function to only highlight areas with a `very high` fire danger (> 38.0 degree Celsius)."
   ]
  },
  {
   "cell_type": "code",
   "execution_count": 8,
   "metadata": {},
   "outputs": [
    {
     "data": {
      "image/png": "[encoded data removed]",
      "text/plain": [
       "<Figure size 1080x576 with 2 Axes>"
      ]
     },
     "metadata": {
      "needs_background": "light"
     },
     "output_type": "display_data"
    }
   ],
   "source": [
    "# Highlight only cells above Very High danger\n",
    "ds_vh = xr.where(cond = ds < 38.0, x = 0, y = ds)\n",
    "ds_vh.fwi[9].plot(levels = [0, 1],\n",
    "                 figsize=(15,8));"
   ]
  },
  {
   "cell_type": "markdown",
   "metadata": {},
   "source": [
    "## <a id='other_indicators'></a>Other danger indicators"
   ]
  },
  {
   "cell_type": "markdown",
   "metadata": {},
   "source": [
    "Given the different climatic conditions in Europe, EFFIS also publishes two indicators that provide information on the local/temporal variability of the FWI compared to a historical series of approximately 30 years. These indicators are: \n",
    "* (a) the `ranking`, which provides percentiles of occurrence of the values, and \n",
    "* (b) the `anomaly`, computed as a standard deviation from the historical mean values. \n"
   ]
  },
  {
   "cell_type": "markdown",
   "metadata": {},
   "source": [
    "<br>"
   ]
  },
  {
   "cell_type": "markdown",
   "metadata": {},
   "source": [
    "<a href=\"../00_index.ipynb\"><< Index</a><br>\n",
    "<a href=\"./271_GEFF_fire_forecast_load_browse.ipynb\"><< 271 - GEFF Global ECMWF Fire Forecasting - Load and browse</a><span style=\"float:right;\"><a href=\"./273_GEFF_fire_forecast_custom_danger_classes.ipynb\">273 - GEFF Global ECMWF Fire Forecasting - Custom Danger Classes>></a></span>"
   ]
  },
  {
   "cell_type": "markdown",
   "metadata": {},
   "source": [
    "<hr>"
   ]
  },
  {
   "cell_type": "markdown",
   "metadata": {},
   "source": [
    "<p><img src='../img/copernicus_logo.png' align='left' alt='Logo EU Copernicus' width='25%'></img></p>\n",
    "<br clear=left>\n",
    "<p style=\"text-align:left;\">This project is licensed under the <a href=\"../LICENSE\">MIT License</a> <span style=\"float:right;\"><a href=\"https://gitlab.eumetsat.int/eumetlab/atmosphere/atmosphere\">View on GitLab</a> | <a href=\"https://training.eumetsat.int/\">EUMETSAT Training</a>"
   ]
  }
 ],
 "metadata": {
  "kernelspec": {
   "display_name": "Python 3",
   "language": "python",
   "name": "python3"
  },
  "language_info": {
   "codemirror_mode": {
    "name": "ipython",
    "version": 3
   },
   "file_extension": ".py",
   "mimetype": "text/x-python",
   "name": "python",
   "nbconvert_exporter": "python",
   "pygments_lexer": "ipython3",
   "version": "3.8.6"
  },
  "toc": {
   "base_numbering": 1,
   "nav_menu": {},
   "number_sections": false,
   "sideBar": false,
   "skip_h1_title": false,
   "title_cell": "Table of Contents",
   "title_sidebar": "Contents",
   "toc_cell": false,
   "toc_position": {},
   "toc_section_display": false,
   "toc_window_display": false
  }
 },
 "nbformat": 4,
 "nbformat_minor": 2
}
