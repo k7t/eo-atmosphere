{
 "cells": [
  {
   "cell_type": "markdown",
   "metadata": {
    "Collapsed": "false"
   },
   "source": [
    "<img src='./img/EU-Copernicus-EUM_3Logos.png' alt='Logo EU Copernicus EUMETSAT' align='right' width='50%'></img>"
   ]
  },
  {
   "cell_type": "markdown",
   "metadata": {
    "Collapsed": "false"
   },
   "source": [
    "<br>"
   ]
  },
  {
   "cell_type": "markdown",
   "metadata": {
    "Collapsed": "false"
   },
   "source": [
    "# LTPy - Learning Tool for Python on Atmospheric Composition Data"
   ]
  },
  {
   "cell_type": "markdown",
   "metadata": {
    "Collapsed": "false"
   },
   "source": [
    "<br>"
   ]
  },
  {
   "cell_type": "markdown",
   "metadata": {
    "Collapsed": "false"
   },
   "source": [
    "**LTPy - Learning tool for Python on Atmospheric Composition Data** is a Python-based training course on Atmospheric Composition Data. The training course covers modules on `data access`, `data handling and processing`, `data visualisation` as well as `case studies` of satellite- and model-based data on Atmospheric Composition.\n",
    "\n",
    "The course is based on [Jupyter notebooks](https://jupyter.org/), which allow for a high-level of interactive learning, as code, text description and visualisation is combined in one place. If you have not worked with `Jupyter Notebooks` before, you can look at the module [01 - Introduction to Python and Project Jupyter](./01_ltpy_Intro_to_Python_and_Jupyter.ipynb) to get a short introduction to Jupyter notebooks and their benefits."
   ]
  },
  {
   "cell_type": "markdown",
   "metadata": {
    "Collapsed": "false"
   },
   "source": [
    "## Data on Atmospheric Composition"
   ]
  },
  {
   "cell_type": "markdown",
   "metadata": {
    "Collapsed": "false"
   },
   "source": [
    "This course features the following data:\n",
    "* [AC SAF GOME-2 Level-2](./11_ltpy_atmospheric_composition_overview.ipynb#ac_saf) data onboard of Metop-A and Metop-B satellites\n",
    "* [AC SAF GOME-2 Level-3](./11_ltpy_atmospheric_composition_overview.ipynb#records) reprocessed and regridded data\n",
    "\n",
    "\n",
    "* [IASI Level-2](./11_ltpy_atmospheric_composition_overview.ipynb#ac_saf) data onboard of Metop-A and Metop-B satellites\n",
    "\n",
    "\n",
    "* [Copernicus Sentinel-5P](./11_ltpy_atmospheric_composition_overview.ipynb#sentinel_5p) data\n",
    "* [Copernicus Sentinel-3 OLCI](./11_ltpy_atmospheric_composition_overview.ipynb#sentinel3) data\n",
    "* [Copernicus Atmosphere Monitoring Service (CAMS)](./11_ltpy_atmospheric_composition_overview.ipynb#cams) data\n"
   ]
  },
  {
   "cell_type": "markdown",
   "metadata": {
    "Collapsed": "false"
   },
   "source": [
    "## Course material"
   ]
  },
  {
   "cell_type": "markdown",
   "metadata": {
    "Collapsed": "false"
   },
   "source": [
    "The course follows a modular approach and offers the following modules:\n",
    "\n",
    "* **[Introduction to Python and Project Jupyter](./01_ltpy_Intro_to_Python_and_Jupyter.ipynb)** *(optional)*\n",
    "\n",
    "\n",
    "* **1 - Overview of data and data access systems**\n",
    " * [11 - Atmospheric Composition data overview and acccess](./11_ltpy_atmospheric_composition_overview.ipynb)\n",
    " * [12 - WEkEO Harmonized Data Access API](./12_ltpy_WEkEO_harmonized_data_access_api.ipynb)\n",
    "\n",
    "\n",
    "* **2 - Load, browse and pre-process data**\n",
    " * [2.1.1 - AC SAF GOME-2 - Level 2 data - Load and browse](./211_ltpy_AC_SAF_GOME-2_L2_load_browse.ipynb)\n",
    " * [2.1.2 - AC SAF GOME-2 - Level 2 data - Pre-process](./212_ltpy_AC_SAF_GOME-2_L2_preprocess.ipynb)\n",
    " * [2.1.3 - IASI - Level 2 data - Load and browse](./213_ltpy_IASI_L2_load_browse.ipynb)\n",
    " * [2.2 - AC SAF GOME-2 - Level 3 data](./22_ltpy_AC_SAF_GOME-2_L3.ipynb)\n",
    " * [2.3 - Sentinel-5p Level 2 data](./23_ltpy_Sentinel5p_L2_data.ipynb)\n",
    " * [2.4 - Copernicus Atmosphere Monitoring Service (CAMS) data](./24_ltpy_CAMS_data.ipynb)\n",
    " * [2.5 - Sentinel-3 OLCI Level 2 data](./25_ltpy_Sentinel3_OLCI_L1.ipynb)\n",
    "\n",
    "\n",
    "* **3 - Data workflows and case studies**\n",
    " * [3.1 - AC SAF GOME-2 - Level 2 data - Case studies](./31_ltpy_AC_SAF_GOME-2_L2_case_study.ipynb)\n",
    " * [3.2 - AC SAF GOME-2 - Level 3 data - Workflow examples](./32_ltpy_AC_SAF_GOME-2_L3_case_study.ipynb)\n",
    " * [3.3 - Arctic Fires Summer 2019 - Case Study](./33_ltpy_Arctic_Fires_case_study.ipynb)\n",
    " * [3.4.1 - Antarctic ozone hole - Summer 2019 - Case Study](./341_ltpy_Ozone_hole_case_study.ipynb)\n",
    " * [3.4.2 - Antarctic ozone hole - Summer 2019 - Animation](./342_ltpy_Ozone_hole_case_study_cams_animation.ipynb)\n",
    "\n",
    "<br>\n",
    "\n",
    "**NOTE:** Throughout the course, general functions to `load`, `re-shape`, `process` and `visualize` the datasets are defined. These functions are re-used when applicable. The [LTPy functions notebook](./ltpy_functions.ipynb) gives you an overview of all the functions defined and used for the course.\n",
    "\n",
    "The notebook [12 - WEkEO Harmonized Data Access API](./12_ltpy_WEkEO_harmonized_data_access_api.ipynb) makes use of functions defined in the [LTPy HDA API functions notebook](./ltpy_hda_api_functions.ipynb).\n"
   ]
  },
  {
   "cell_type": "markdown",
   "metadata": {
    "Collapsed": "false"
   },
   "source": [
    "## Learning outcomes"
   ]
  },
  {
   "cell_type": "markdown",
   "metadata": {
    "Collapsed": "false"
   },
   "source": [
    "The course is designed for `medium-level users`, who have basic Python knowledge and understanding of Atmospheric composition data.\n",
    "\n",
    "After the course, you should have:\n",
    "* an idea about the **different datasets on Atmospheric Composition data**,\n",
    "* knowledge about the most useful **Python packages** to handle, process and visualise large volumes of Earth Observation data\n",
    "* an idea about different **data application areas**"
   ]
  },
  {
   "cell_type": "markdown",
   "metadata": {
    "Collapsed": "false"
   },
   "source": [
    "<hr>"
   ]
  },
  {
   "cell_type": "markdown",
   "metadata": {
    "Collapsed": "false"
   },
   "source": [
    "## Access to the `LTPy JupyterHub` "
   ]
  },
  {
   "cell_type": "markdown",
   "metadata": {
    "Collapsed": "false"
   },
   "source": [
    "The course material is made available on a JupyterHub instance, a pre-defined environment that give learners direct access to the data and Python packages required for following the course.\n",
    "\n",
    "The `JupyterHub` can be accessed as follows:"
   ]
  },
  {
   "cell_type": "markdown",
   "metadata": {
    "Collapsed": "false"
   },
   "source": [
    "* Web address: [https://ltpy.adamplatform.eu](https://ltpy.adamplatform.eu)\n",
    "* Create an account: [https://wekeo-login.services.meeo.it](https://wekeo-login.services.meeo.it)\n",
    "* Log into the `JupyterHub` with your account created."
   ]
  },
  {
   "cell_type": "markdown",
   "metadata": {
    "Collapsed": "false"
   },
   "source": [
    "<hr>"
   ]
  },
  {
   "cell_type": "markdown",
   "metadata": {
    "Collapsed": "false"
   },
   "source": [
    "## Reproduce LTPy on Atmospheric Compostion data locally"
   ]
  },
  {
   "cell_type": "markdown",
   "metadata": {
    "Collapsed": "false"
   },
   "source": [
    "In case you wish to reproduce the course modules on your local setup, the following Python version and Python packages will be required:\n",
    "\n",
    "* Python version: **Python3**\n",
    "* Python packages:\n",
    " * [xarray 0.14.1](http://xarray.pydata.org/en/stable/index.html)\n",
    " * [netCDF4 1.5.3](https://unidata.github.io/netcdf4-python/netCDF4/index.html)\n",
    " * [numpy 1.17.3](https://numpy.org/)\n",
    " * [matplotlib 3.1.2](https://matplotlib.org/)\n",
    " * [Cartopy 0.17.0](https://scitools.org.uk/cartopy/docs/latest/)\n",
    "\n",
    "Python packages can be installed with `conda install <python_package_name>` or `pip install <python_pacakage_name>`.\n"
   ]
  },
  {
   "cell_type": "markdown",
   "metadata": {
    "Collapsed": "false"
   },
   "source": [
    "<hr>"
   ]
  },
  {
   "cell_type": "markdown",
   "metadata": {
    "Collapsed": "false"
   },
   "source": [
    "<p><img src='./img/copernicius_logo.png' align='left' alt='Logo EU Copernicus' width='25%'></img></p>\n",
    "<br clear=left>\n",
    "<p style=\"text-align:left;\">This project is licensed under the <a href=\"./LICENSE\">MIT License</a> <span style=\"float:right;\"><a href=\"https://gitlab.eumetsat.int/eumetlab/atmosphere/atmosphere\">View on GitLab</a> | <a href=\"https://training.eumetsat.int/\">EUMETSAT Training</a>"
   ]
  }
 ],
 "metadata": {
  "kernelspec": {
   "display_name": "Python 3",
   "language": "python",
   "name": "python3"
  },
  "language_info": {
   "codemirror_mode": {
    "name": "ipython",
    "version": 3
   },
   "file_extension": ".py",
   "mimetype": "text/x-python",
   "name": "python",
   "nbconvert_exporter": "python",
   "pygments_lexer": "ipython3",
   "version": "3.7.0"
  }
 },
 "nbformat": 4,
 "nbformat_minor": 4
}
