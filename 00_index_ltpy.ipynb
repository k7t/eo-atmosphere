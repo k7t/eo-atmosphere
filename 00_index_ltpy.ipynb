{
 "cells": [
  {
   "cell_type": "markdown",
   "metadata": {
    "Collapsed": "false"
   },
   "source": [
    "<img src='./img/EU-Copernicus-EUM_3Logos.png' alt='Logo EU Copernicus EUMETSAT' align='right' width='50%'></img>"
   ]
  },
  {
   "cell_type": "markdown",
   "metadata": {
    "Collapsed": "false"
   },
   "source": [
    "<br>"
   ]
  },
  {
   "cell_type": "markdown",
   "metadata": {
    "Collapsed": "false"
   },
   "source": [
    "# LTPy - Learning Tool for Python on Atmospheric Composition Data"
   ]
  },
  {
   "cell_type": "markdown",
   "metadata": {
    "Collapsed": "false"
   },
   "source": [
    "<br>"
   ]
  },
  {
   "cell_type": "markdown",
   "metadata": {
    "Collapsed": "false"
   },
   "source": [
    "**LTPy - Learning tool for Python on Atmospheric Composition Data** is a Python-based training course on Atmospheric Composition Data. The training course covers modules on `data access`, `data handling and processing`, `data visualisation` as well as `case studies` of satellite- and model-based data on Atmospheric Composition.\n",
    "\n",
    "The course is based on [Jupyter notebooks](https://jupyter.org/), which allow for a high-level of interactive learning, as code, text description and visualisation is combined in one place. If you have not worked with `Jupyter Notebooks` before, you can look at the module [01 - Introduction to Python and Project Jupyter](./01_ltpy_Intro_to_Python_and_Jupyter.ipynb) to get a short introduction to Jupyter notebooks and their benefits."
   ]
  },
  {
   "cell_type": "markdown",
   "metadata": {
    "Collapsed": "false"
   },
   "source": [
    "## Data on Atmospheric Composition"
   ]
  },
  {
   "cell_type": "markdown",
   "metadata": {
    "Collapsed": "false"
   },
   "source": [
    "This course features the following data:\n",
    "* `AC SAF GOME-2 Level-2` data onboard of Metop-A and Metop-B satellites\n",
    "* `AC SAF GOME-2 Level-3` reprocessed and regridded data\n",
    "\n",
    "* `GOME-2 Level-2 Polar Multi-Sensor Aerosol Optical Properties (PMAp)` data onboard of Metop-A and Metop-B satellites\n",
    "\n",
    "* `IASI Level-2` data onboard of Metop-A and Metop-B satellites\n",
    "\n",
    "\n",
    "* `Copernicus Sentinel-5P` data\n",
    "* `Copernicus Sentinel-3 OLCI` data\n",
    "* `Copernicus Sentinel-3 SLSTR NRT FRP` data\n",
    "* `Copernicus Atmosphere Monitoring Service (CAMS)` data\n"
   ]
  },
  {
   "cell_type": "markdown",
   "metadata": {
    "Collapsed": "false"
   },
   "source": [
    "## Course material"
   ]
  },
  {
   "cell_type": "markdown",
   "metadata": {
    "Collapsed": "false"
   },
   "source": [
    "The course follows a modular approach and offers the following modules:\n",
    "\n",
    "* **[0 - Introduction to Python and Project Jupyter](./01_ltpy_Intro_to_Python_and_Jupyter.ipynb)** *(optional)*\n",
    "\n",
    "\n",
    "* **1 - Overview of data and data access systems**\n",
    " * [11 - Atmospheric Composition data overview and acccess](./11_ltpy_atmospheric_composition_overview.ipynb)\n",
    " * [12 - WEkEO Harmonized Data Access API](./12_ltpy_WEkEO_harmonized_data_access_api.ipynb)\n",
    "\n",
    "\n",
    "* **2 - Load, browse and pre-process data**\n",
    " * [2.1.1 - AC SAF GOME-2 - Level 2 - Load and browse](./211_ltpy_AC_SAF_GOME-2_L2_load_browse.ipynb)\n",
    " * [2.1.2 - AC SAF GOME-2 - Level 2 - Pre-process](./212_ltpy_AC_SAF_GOME-2_L2_preprocess.ipynb)\n",
    " * [2.1.3 - AC SAF GOME-2 - Level 2 - Produce gridded dataset (L3)](./213_ltpy_AC_SAF_GOME-2_L2_produce_gridded_dataset_L3.ipynb)\n",
    " * [2.1.4 - AC SAF GOME-2 - Level 3](./214_ltpy_AC_SAF_GOME-2_L3.ipynb)\n",
    " * [2.1.5 - AC SAF GOME-2 - Level 3 - Aerosol Absorbing Index](./215_ltpy_AC_SAF_GOME-2_L3_AAI.ipynb) \n",
    " * [2.2 - GOME-2 - Polar Multi-Sensor Aerosol Optical Properties - Load and browse](./22_ltpy_GOME-2_PMAp_load_browse.ipynb)\n",
    " * [2.3 - IASI - Level 2 - Load and browse](./23_ltpy_IASI_L2_load_browse.ipynb)\n",
    " * [2.4 - Sentinel-5p - Level 2](./24_ltpy_Sentinel5p_L2_data.ipynb)\n",
    " * [2.5 - Copernicus Atmosphere Monitoring Service (CAMS)](./25_ltpy_Copernicus_Atmosphere_Monitoring_Service_data.ipynb)\n",
    " * [2.6 - Sentinel-3 OLCI - Level 1](./26_ltpy_Sentinel3_OLCI_L1.ipynb)\n",
    " * [2.7.1 - Sentinel-3 SLSTR NRT - Fire Radiative Power (FRP) - Australian Fires](./271_ltpy_Sentinel3_slstr_nrt_frp_Australian_fires.ipynb)\n",
    " * [2.7.2 - Sentinel-3 SLSTR NRT - Fire Radiative Power (FRP) - Chernobyl Fires](./272_ltpy_Sentinel3_slstr_nrt_frp_Chernobyl_fires.ipynb)\n",
    " * [2.8.1 - Global ECMWF Fire Forecast - Data Overview](./281_ltpy_GEFF_fire_forecast_data_overview.ipynb)\n",
    " * [2.8.2 - Global ECMWF Fire Forecast - Harmonized Danger Classes](./282_ltpy_GEFF_fire_forecast_harmonized_danger_classes.ipynb)\n",
    " * [2.8.3 - Global ECMWF Fire Forecast - Custom Danger Classes](./283_ltpy_GEFF_fire_forecast_custom_danger_classes.ipynb)\n",
    "\n",
    "\n",
    "* **3 - Data workflows and case studies**\n",
    " * [3.1 - Case study - AC SAF GOME-2 - Level 2 data](./31_ltpy_case_study_AC_SAF_GOME-2_L2.ipynb)\n",
    " * [3.2 - Case study - AC SAF GOME-2 - Level 3 data](./32_ltpy_case_study_AC_SAF_GOME-2_L3.ipynb)\n",
    " * [3.3 - Case study - Siberian Fires - Summer 2019](./33_ltpy_case_study_Siberian_Fires_summer_2019.ipynb)\n",
    " * [3.4.1 - Case study - Antarctic ozone hole anomaly - Summer 2019](./341_ltpy_case_study_Ozone_hole_anomaly.ipynb)\n",
    " * [3.4.2 - Case study - Antarctic ozone hole anomaly - Summer 2019 - CAMS Animation](./342_ltpy_case_study_Ozone_hole_anomaly_2019_cams_animation.ipynb)\n",
    " * [3.5.1 - Case study - Covid-19 - GOME-2 anomaly map](./351_ltpy_case_study_covid-19_GOME2_anomaly_map.ipynb)\n",
    " * [3.5.2 - Case study - Covid-19 - GOME-2 time-series analysis](./352_ltpy_case_study_covid-19_GOME2_time-series.ipynb)\n",
    " * [3.5.3 - Case study - Covid-19 - Sentinel-5p anomaly map](./353_ltpy_case_study_covid-19_sentinel5p_maps.ipynb)\n",
    " * [3.5.4 - Case study - Covid-19 - Sentinel-5p time-series analysis](./354_ltpy_case_study_covid-19_sentinel5p_time-series.ipynb)\n",
    "<br>\n",
    "\n",
    "**NOTE:** Throughout the course, general functions to `load`, `re-shape`, `process` and `visualize` the datasets are defined. These functions are re-used when applicable. The [LTPy functions notebook](./ltpy_functions.ipynb) gives you an overview of all the functions defined and used for the course.\n",
    "\n",
    "The notebook [12 - WEkEO Harmonized Data Access API](./12_ltpy_WEkEO_harmonized_data_access_api.ipynb) makes use of functions defined in the [LTPy HDA API functions notebook](./ltpy_hda_api_functions.ipynb).\n"
   ]
  },
  {
   "cell_type": "markdown",
   "metadata": {
    "Collapsed": "false"
   },
   "source": [
    "## Learning outcomes"
   ]
  },
  {
   "cell_type": "markdown",
   "metadata": {
    "Collapsed": "false"
   },
   "source": [
    "The course is designed for `medium-level users`, who have basic Python knowledge and understanding of Atmospheric composition data.\n",
    "\n",
    "After the course, you should have:\n",
    "* an idea about the **different datasets on Atmospheric Composition data**,\n",
    "* knowledge about the most useful **Python packages** to handle, process and visualise large volumes of Earth Observation data\n",
    "* an idea about different **data application areas**"
   ]
  },
  {
   "cell_type": "markdown",
   "metadata": {
    "Collapsed": "false"
   },
   "source": [
    "<hr>"
   ]
  },
  {
   "cell_type": "markdown",
   "metadata": {
    "Collapsed": "false"
   },
   "source": [
    "## Access to the `LTPy JupyterHub` "
   ]
  },
  {
   "cell_type": "markdown",
   "metadata": {
    "Collapsed": "false"
   },
   "source": [
    "The course material is made available on a JupyterHub instance, a pre-defined environment that give learners direct access to the data and Python packages required for following the course.\n",
    "\n",
    "The `JupyterHub` can be accessed as follows:"
   ]
  },
  {
   "cell_type": "markdown",
   "metadata": {
    "Collapsed": "false"
   },
   "source": [
    "* Web address: [https://ltpy.adamplatform.eu](https://ltpy.adamplatform.eu)\n",
    "* Create an account: [https://wekeo-login.services.meeo.it](https://wekeo-login.services.meeo.it)\n",
    "* Log into the `JupyterHub` with your account created."
   ]
  },
  {
   "cell_type": "markdown",
   "metadata": {
    "Collapsed": "false"
   },
   "source": [
    "<hr>"
   ]
  },
  {
   "cell_type": "markdown",
   "metadata": {
    "Collapsed": "false"
   },
   "source": [
    "## Reproduce LTPy on Atmospheric Compostion data locally"
   ]
  },
  {
   "cell_type": "markdown",
   "metadata": {
    "Collapsed": "false"
   },
   "source": [
    "In case you wish to reproduce the course modules on your local setup, the following Python version and Python packages will be required:\n",
    "\n",
    "* Python version: **Python3**\n",
    "* Python packages:\n",
    " * [xarray 0.14.1](http://xarray.pydata.org/en/stable/index.html)\n",
    " * [netCDF4 1.5.3](https://unidata.github.io/netcdf4-python/netCDF4/index.html)\n",
    " * [numpy 1.17.3](https://numpy.org/)\n",
    " * [matplotlib 3.1.2](https://matplotlib.org/)\n",
    " * [Cartopy 0.17.0](https://scitools.org.uk/cartopy/docs/latest/)\n",
    "\n",
    "Python packages can be installed with `conda install <python_package_name>` or `pip install <python_pacakage_name>`.\n"
   ]
  },
  {
   "cell_type": "markdown",
   "metadata": {
    "Collapsed": "false"
   },
   "source": [
    "The `eodata` folder with all the data required for the training course can be downloaded [here](https://drive.google.com/file/d/1j3uiJWhgWp3V-iGdpdT8gb6iB6NCVP9q/view)."
   ]
  },
  {
   "cell_type": "markdown",
   "metadata": {
    "Collapsed": "false"
   },
   "source": [
    "<hr>"
   ]
  },
  {
   "cell_type": "markdown",
   "metadata": {
    "Collapsed": "false"
   },
   "source": [
    "<p><img src='./img/copernicius_logo.png' align='left' alt='Logo EU Copernicus' width='25%'></img></p>\n",
    "<br clear=left>\n",
    "<p style=\"text-align:left;\">This project is licensed under the <a href=\"./LICENSE\">MIT License</a> <span style=\"float:right;\"><a href=\"https://gitlab.eumetsat.int/eumetlab/atmosphere/atmosphere\">View on GitLab</a> | <a href=\"https://training.eumetsat.int/\">EUMETSAT Training</a>"
   ]
  }
 ],
 "metadata": {
  "kernelspec": {
   "display_name": "Python 3",
   "language": "python",
   "name": "python3"
  },
  "language_info": {
   "codemirror_mode": {
    "name": "ipython",
    "version": 3
   },
   "file_extension": ".py",
   "mimetype": "text/x-python",
   "name": "python",
   "nbconvert_exporter": "python",
   "pygments_lexer": "ipython3",
   "version": "3.7.3"
  }
 },
 "nbformat": 4,
 "nbformat_minor": 4
}
