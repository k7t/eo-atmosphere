{
 "cells": [
  {
   "cell_type": "markdown",
   "metadata": {
    "Collapsed": "false"
   },
   "source": [
    "<img src='./img/EU-Copernicus-EUM_3Logos.png' alt='Logo EU Copernicus EUMETSAT' align='right' width='50%'></img>"
   ]
  },
  {
   "cell_type": "markdown",
   "metadata": {
    "Collapsed": "false"
   },
   "source": [
    "<br>"
   ]
  },
  {
   "cell_type": "markdown",
   "metadata": {
    "Collapsed": "false"
   },
   "source": [
    "# LTPy - Learning Tool for Python on Atmospheric Composition Data"
   ]
  },
  {
   "cell_type": "markdown",
   "metadata": {
    "Collapsed": "false"
   },
   "source": [
    "<br>"
   ]
  },
  {
   "cell_type": "markdown",
   "metadata": {
    "Collapsed": "false"
   },
   "source": [
    "**LTPy - Learning tool for Python on Atmospheric Composition Data** is a Python-based training course on Atmospheric Composition Data. The training course covers [10 - DATA ACCESS](#data_access), [20 - DATA DISCOVERY](#data_discovery), [30 - CASE STUDIES](#case_studies) and [40 - EXERCISES](#exercises) of satellite- and model-based data on Atmospheric Composition.\n",
    "\n",
    "The course is based on [Jupyter notebooks](https://jupyter.org/), which allow for a high-level of interactive learning, as code, text description and visualisation is combined in one place. If you have not worked with `Jupyter Notebooks` before, you can look at the module [01 - Python and Project Jupyter 101](./01_Python_and_Jupyter_101.ipynb) to get a short introduction to Jupyter notebooks and their benefits."
   ]
  },
  {
   "cell_type": "markdown",
   "metadata": {},
   "source": [
    "<hr>"
   ]
  },
  {
   "cell_type": "markdown",
   "metadata": {
    "Collapsed": "false"
   },
   "source": [
    "## Data on Atmospheric Composition"
   ]
  },
  {
   "cell_type": "markdown",
   "metadata": {
    "Collapsed": "false"
   },
   "source": [
    "This course features the following **satellite** data:\n",
    "* `AC SAF GOME-2 Level-2` data onboard of Metop-A and Metop-B satellites\n",
    "* `AC SAF GOME-2 Level-3` reprocessed and regridded data\n",
    "\n",
    "* `GOME-2 Level-2 Polar Multi-Sensor Aerosol Optical Properties (PMAp)` data onboard of Metop-A and Metop-B satellites\n",
    "\n",
    "* `IASI Level-2` data onboard of Metop-A and Metop-B satellites\n",
    "\n",
    "* `Copernicus Sentinel-5P` data\n",
    "* `Copernicus Sentinel-3 OLCI` data\n",
    "* `Copernicus Sentinel-3 SLSTR NRT FRP` data\n",
    "* `Copernicus Sentinel-3 SLSTR NRT AOD` data\n",
    "\n",
    "And the following **model-based** data:\n",
    "* `Copernicus Atmosphere Monitoring Service (CAMS)` data\n",
    "* `Global ECMWF Fire Forecast (GEFF)` data\n"
   ]
  },
  {
   "cell_type": "markdown",
   "metadata": {},
   "source": [
    "<hr>"
   ]
  },
  {
   "cell_type": "markdown",
   "metadata": {
    "Collapsed": "false"
   },
   "source": [
    "## Course material"
   ]
  },
  {
   "cell_type": "markdown",
   "metadata": {
    "Collapsed": "false"
   },
   "source": [
    "The course follows a modular approach and offers modules on:\n",
    "- [10 - DATA ACCESS](#data_access)\n",
    "- [20 - DATA DISCOVERY](#data_discovery)\n",
    "- [30 - CASE STUDIES](#case_studies)\n",
    "- [40 - EXERCISES](#exercises)\n",
    "\n",
    "<br>\n",
    "\n",
    "\n",
    "<div class=\"alert alert-block alert-info\">\n",
    "<b><a id='data_acces'></a>10 - DATA ACCESS</b>\n",
    "</div>\n",
    "\n",
    " * [11 - Atmospheric Composition data overview and acccess](./10_data_access/11_ac_data_access_overview.ipynb)\n",
    " * [12 - WEkEO Harmonized Data Access API](./10_data_access/12_WEkEO_harmonized_data_access_api.ipynb)\n",
    "\n",
    "<br>\n",
    "\n",
    "<div class=\"alert alert-block alert-success\">\n",
    "<b><a id='data_discovery'></a>20 - DATA DISCOVERY</b>\n",
    "</div>\n",
    "\n",
    "#### *AC SAF GOME-2 Level 2 and Level 3 data*\n",
    "   * [211 - AC SAF GOME-2 - Level 2 - Load and browse](./20_data_discovery/211_AC_SAF_GOME-2_L2_load_browse.ipynb)\n",
    "   * [212 - AC SAF GOME-2 - Level 2 - Pre-process](./20_data_discovery/212_AC_SAF_GOME-2_L2_preprocess.ipynb)\n",
    "   * [213 - AC SAF GOME-2 - Level 3 - Load and browse](./20_data_discovery/213_AC_SAF_GOME-2_L3_load_browse.ipynb)\n",
    "   * [214 - AC SAF GOME-2 - Level 3 - Aerosol Absorbing Index (AAI)](./20_data_discovery/214_AC_SAF_GOME-2_L3_AAI_load_browse.ipynb)\n",
    "\n",
    "#### *GOME-2 Polar Multi-Sensor Aerosol Optical Properties (PMAp) data*\n",
    "   * [221 - GOME-2 - Polar Multi-Sensor Aerosol Optical Properties (PMAp) - Load and browse](./20_data_discovery/221_GOME-2_PMAp_load_browse.ipynb)\n",
    "\n",
    "#### *IASI Level 2 data*\n",
    "   * [231 - IASI - Level 2 - Load and browse](./20_data_discovery/23_IASI_L2_load_browse.ipynb)\n",
    "\n",
    "#### *Sentinel-5P Level 2 data*\n",
    "   * [241 - Sentinel-5P - Level 2 - Load and browse](./20_data_discovery/241_Sentinel-5P_L2_load_browse.ipynb)\n",
    "\n",
    "#### *Sentinel-3 data*\n",
    "   * [251 - Sentinel-3 OLCI - Level 1 - Load and browse](./20_data_discovery/251_Sentinel-3_OLCI_L1_load_browse.ipynb)\n",
    "   * [252 - Sentinel-3 SLSTR NRT - Fire Radiative Power (FRP) - Load and browse](./20_data_discovery/252_Sentinel-3_SLSTR_NRT_FRP_load_browse.ipynb)\n",
    "   * [253 - Sentinel-3 SLSTR NRT - Aerosol Optical Depth (AOD) - Load and browse](./20_data_discovery/253_Sentinel-3_SLSTR_NRT_AOD_load_browse.ipynb)\n",
    "\n",
    "#### *Copernicus Atmosphere Monitoring Service (CAMS) data*\n",
    "   * [261 - CAMS - EAC4  Load and browse](./20_data_discovery/261_CAMS_eac4_load_browse.ipynb)\n",
    "   * [262 - CAMS - GFAS - Load and browse](./20_data_discovery/262_CAMS_gfas_load_browse.ipynb)\n",
    "\n",
    "#### *Global ECMWF Fire Forecast (GEFF) data*\n",
    "   * [271 - Global ECMWF Fire Forecast - Load and browse](./20_data_discovery/271_GEFF_fire_forecast_load_browse.ipynb)\n",
    "   * [272 - Global ECMWF Fire Forecast - Harmonized Danger Classes](./20_data_discovery/272_GEFF_fire_forecast_harmonized_danger_classes.ipynb)\n",
    "   * [273 - Global ECMWF Fire Forecast - Custom Danger Classes](./20_data_discovery/273_GEFF_fire_forecast_custom_danger_classes.ipynb)\n",
    "\n",
    "<br>\n",
    "\n",
    "<div class=\"alert alert-block alert-warning\">\n",
    "<b><a id='case_studies'></a>30 - CASE STUDIES</b>\n",
    "</div>\n",
    "\n",
    "#### *AC SAF GOME-2 Level 2 and Level 3 data*\n",
    "   * [311 - AC SAF GOME-2 - Level 2 - Case study](./30_case_studies/311_AC_SAF_GOME-2_L2_case_study.ipynb)\n",
    "   * [312 - AC SAF GOME-2 - Level 3 - Case study](./30_case_studies/312_AC_SAF_GOME-2_L3_case_study.ipynb)\n",
    "   * [313 - AC SAF GOME-2 - Level 2 - Produce gridded dataset - Workflow](./30_case_studies/313_AC_SAF_GOME-2_L2_produce_gridded_dataset_workflow.ipynb)\n",
    "\n",
    "#### *Fire events - Case studies*   \n",
    "   * [321 - Siberian Fires - Summer 2019 - Case study](./30_case_studies/321_Siberian_fires_summer_2019_case_study.ipynb)\n",
    "   * [322 - Californian Fires - Summer 2020 - Case study](./30_case_studies/322_Californian_fires_summer_2020_case_study.ipynb)\n",
    "\n",
    "#### *Sentinel-3 SLSTR NRT data - Case studies*\n",
    "   * [331 - Sentinel-3 SLSTR NRT FRP - Chernobyl fires - Case study](./30_case_studies/331_Sentinel-3_SLSTR_NRT_FRP_Chernobyl_fires_case_study.ipynb)\n",
    "   * [332 - Sentinel-3 SLSTR NRT FRP - Californian fires - Case study](./30_case_studies/332_Sentinel-3_SLSTR_NRT_FRP_Californian_fires_case_study.ipynb)\n",
    "   * [333 - Sentinel-3 SLSTR NRT AOD - Californian fires - Case study](./30_case_studies/333_Sentinel-3_SLSTR_NRT_AOD_Californian_fires_case_study.ipynb)\n",
    "\n",
    "#### *Antarctic ozone hole anomaly - Summer 2019*\n",
    "   * [341 - Antarctic ozone hole anomaly - Summer 2019 - Case study](./30_case_studies/341_Ozone_hole_anomaly_case_study.ipynb)\n",
    "   * [342 - Antarctic ozone hole anomaly - Summer 2019 - CAMS Animation - Case study](./30_case_studies/342_Ozone_hole_anomaly_2019_case_study_cams_animation.ipynb)\n",
    "<br>\n",
    "\n",
    "#### *COVID-19 case study - GOME-2 and Sentinel-5p anomaly maps and time-series analysis*\n",
    "   * [351 - COVID-19 - GOME-2 anomaly map](./30_case_studies/351_COVID-19_case_study_GOME-2_anomaly_map.ipynb)\n",
    "   * [352 - COVID-19 - GOME-2 time-series analysis](./30_case_studies/352_COVID-19_case_study_GOME-2_time_series.ipynb)\n",
    "   * [353 - COVID-19 - Sentinel-5P anomaly map](./30_case_studies/353_COVID-19_case_study_Sentinel-5P_anomaly_map.ipynb)\n",
    "   * [354 - COVID-19 - Sentinel-5P time-series analysis](./30_case_studies/354_COVID-19_case_study_Sentinel-5P_time_series.ipynb)\n",
    "\n",
    "\n",
    "<br>\n",
    "\n",
    "\n",
    "\n",
    "\n",
    "<div class=\"alert alert-block alert-danger\">\n",
    "<b><a id='exercises'></a>40 - EXERCISES</b>\n",
    "</div>\n",
    "\n",
    "#### *Sentinel-5P - Exercises*\n",
    "   * [411 - Sentinel-5P Level 2 - Exercise](./40_exercises/411_Sentinel-5P_L2_exercise.ipynb)\n",
    "\n",
    "#### *Sentinel-3 - Exercises*\n",
    "   * [421 - Sentinel-3 OLCI Level 1 - Exercise](./40_exercises/421_Sentinel-3_OLCI_L1_exercise.ipynb)\n",
    "   * [422 - Sentinel-3 SLSTR NRT FRP - Exercise](./40_exercises/422_Sentinel-3_SLSTR_NRT_FRP_exercise.ipynb)\n",
    "   * [423 - Sentinel-3 SLSTR NRT AOD - Exercise](./40_exercises/423_Sentinel-3_SLSTR_NRT_AOD_exercise.ipynb)\n",
    "\n",
    "#### *Copernicus Atmosphere Monitoring Service - Exercises*\n",
    "   * [431 - CAMS EAC4 - Exercise](./40_exercises/431_CAMS_EAC4_exercise.ipynb)\n",
    "\n",
    "<br>\n",
    "\n",
    "\n",
    "**NOTE:** Throughout the course, general functions to `load`, `re-shape`, `process` and `visualize` the datasets are defined. These functions are re-used when applicable. The [functions notebook](./functions.ipynb) gives you an overview of all the functions defined and used for the course.\n",
    "\n",
    "If a notebook makes use of these functions, they are loaded as **helper functions** at the beginning of the notebook. With `?function_name`, you can load the function's docstring to see what it does and which keyword arguments the function requires.\n",
    "See the example to load the docstring of a the function [visualize_pcolormesh](./functions.ipynb#visualize_pcolormesh):\n",
    "\n",
    "\n"
   ]
  },
  {
   "cell_type": "code",
   "execution_count": 2,
   "metadata": {},
   "outputs": [],
   "source": [
    "%run ./functions.ipynb"
   ]
  },
  {
   "cell_type": "code",
   "execution_count": 3,
   "metadata": {},
   "outputs": [],
   "source": [
    "?visualize_pcolormesh"
   ]
  },
  {
   "cell_type": "markdown",
   "metadata": {},
   "source": [
    "<hr>"
   ]
  },
  {
   "cell_type": "markdown",
   "metadata": {
    "Collapsed": "false"
   },
   "source": [
    "## Learning outcomes"
   ]
  },
  {
   "cell_type": "markdown",
   "metadata": {
    "Collapsed": "false"
   },
   "source": [
    "The course is designed for `medium-level users`, who have basic Python knowledge and understanding of Atmospheric composition data.\n",
    "\n",
    "After the course, you should have:\n",
    "* an idea about the **different datasets on Atmospheric Composition data**,\n",
    "* knowledge about the most useful **Python packages** to handle, process and visualise large volumes of Earth Observation data\n",
    "* an idea about different **data application areas**"
   ]
  },
  {
   "cell_type": "markdown",
   "metadata": {
    "Collapsed": "false"
   },
   "source": [
    "<hr>"
   ]
  },
  {
   "cell_type": "markdown",
   "metadata": {
    "Collapsed": "false"
   },
   "source": [
    "## Access to the `LTPy JupyterHub` "
   ]
  },
  {
   "cell_type": "markdown",
   "metadata": {
    "Collapsed": "false"
   },
   "source": [
    "The course material is made available on a JupyterHub instance, a pre-defined environment that give learners direct access to the data and Python packages required for following the course.\n",
    "\n",
    "The `JupyterHub` can be accessed as follows:"
   ]
  },
  {
   "cell_type": "markdown",
   "metadata": {
    "Collapsed": "false"
   },
   "source": [
    "* Web address: [https://ltpy.adamplatform.eu](https://ltpy.adamplatform.eu)\n",
    "* Create an account: [https://login.ltpy.adamplatform.eu/](https://login.ltpy.adamplatform.eu/)\n",
    "* Log into the `JupyterHub` with your account created."
   ]
  },
  {
   "cell_type": "markdown",
   "metadata": {
    "Collapsed": "false"
   },
   "source": [
    "<hr>"
   ]
  },
  {
   "cell_type": "markdown",
   "metadata": {
    "Collapsed": "false"
   },
   "source": [
    "## Reproduce LTPy on Atmospheric Compostion data locally"
   ]
  },
  {
   "cell_type": "markdown",
   "metadata": {
    "Collapsed": "false"
   },
   "source": [
    "In case you wish to reproduce the course modules on your local setup, the following Python version and Python packages will be required:\n",
    "\n",
    "* Python version: **Python3**\n",
    "* Python packages:\n",
    " * [xarray 0.14.1](http://xarray.pydata.org/en/stable/index.html)\n",
    " * [netCDF4 1.5.3](https://unidata.github.io/netcdf4-python/netCDF4/index.html)\n",
    " * [numpy 1.17.3](https://numpy.org/)\n",
    " * [matplotlib 3.1.2](https://matplotlib.org/)\n",
    " * [Cartopy 0.17.0](https://scitools.org.uk/cartopy/docs/latest/)\n",
    "\n",
    "Python packages can be installed with `conda install <python_package_name>` or `pip install <python_pacakage_name>`.\n"
   ]
  },
  {
   "cell_type": "markdown",
   "metadata": {
    "Collapsed": "false"
   },
   "source": [
    "The `eodata` folder with all the data required for the training course can be downloaded [here]()."
   ]
  },
  {
   "cell_type": "markdown",
   "metadata": {
    "Collapsed": "false"
   },
   "source": [
    "<hr>"
   ]
  },
  {
   "cell_type": "markdown",
   "metadata": {
    "Collapsed": "false"
   },
   "source": [
    "<p><img src='./img/copernicus_logo.png' align='left' alt='Logo EU Copernicus' width='25%'></img></p>\n",
    "<br clear=left>\n",
    "<p style=\"text-align:left;\">This project is licensed under the <a href=\"./LICENSE\">MIT License</a> <span style=\"float:right;\"><a href=\"https://gitlab.eumetsat.int/eumetlab/atmosphere/atmosphere\">View on GitLab</a> | <a href=\"https://training.eumetsat.int/\">EUMETSAT Training</a>"
   ]
  }
 ],
 "metadata": {
  "kernelspec": {
   "display_name": "Python 3",
   "language": "python",
   "name": "python3"
  },
  "language_info": {
   "codemirror_mode": {
    "name": "ipython",
    "version": 3
   },
   "file_extension": ".py",
   "mimetype": "text/x-python",
   "name": "python",
   "nbconvert_exporter": "python",
   "pygments_lexer": "ipython3",
   "version": "3.8.6"
  }
 },
 "nbformat": 4,
 "nbformat_minor": 4
}
